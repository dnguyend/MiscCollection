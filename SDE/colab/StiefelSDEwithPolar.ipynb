{
  "nbformat": 4,
  "nbformat_minor": 0,
  "metadata": {
    "colab": {
      "provenance": [],
      "authorship_tag": "ABX9TyNF2hT7y/VJa+zAzbUWfVpA",
      "include_colab_link": true
    },
    "kernelspec": {
      "name": "python3",
      "display_name": "Python 3"
    },
    "language_info": {
      "name": "python"
    }
  },
  "cells": [
    {
      "cell_type": "markdown",
      "metadata": {
        "id": "view-in-github",
        "colab_type": "text"
      },
      "source": [
        "<a href=\"https://colab.research.google.com/github/dnguyend/MiscCollection/blob/main/SDE/colab/StiefelSDEwithPolar.ipynb\" target=\"_parent\"><img src=\"https://colab.research.google.com/assets/colab-badge.svg\" alt=\"Open In Colab\"/></a>"
      ]
    },
    {
      "cell_type": "markdown",
      "source": [
        "$\\newcommand{\\R}{\\mathbb{R}}$\n",
        "# Solving SDE on Stiefel manifolds using polar retraction.\n",
        "\n",
        "In this note, we illustrate the result of [NS24] for the case of a SDE on a Stiefel manifold. The idea is that of feasibility enhancement: We simulate the SDE using a method on the ambient manifold, then enhance to make sure the next iterative point is on the manifold. For a Stiefel manifold, this is can be done using different retractions. We illustrate the result with a polar decomposition, however, we could also try qr decomposition or Caley transforms.\n",
        "\n",
        "We demonstrate the invariant condition of [MPS16] is satisfied for Riemannian Brownian motions on Stiefel manifolds.\n",
        "\n",
        "We use [jax_rb](https://github.com/dnguyend/jax-rb), which has the Riemannian Brownian motions for Stiefel manifolds built in, but we make explicit a few construction to illustrate.\n",
        "\n",
        "[MPS16] Goran Marjanovic, Marc J. Piggott, and Victor Solo. Numerical\n",
        "methods for stochastic differential equations in the Stiefel man-\n",
        "ifold made simple. In 2016 IEEE 55th Conference on Decision\n",
        "and Control (CDC), pages 2853–2860, 2016.\n",
        "\n",
        "[NS24] D. Nguyen and S Sommer. Second-order differential operators,\n",
        "stochastic differential equations and brownian motions on em-\n",
        "bedded manifolds. arXiv:2406.02879, 2024  "
      ],
      "metadata": {
        "id": "9Du0UqHHBdgF"
      }
    },
    {
      "cell_type": "markdown",
      "source": [
        "Install the required libraries"
      ],
      "metadata": {
        "id": "8DZAS5Pnef-3"
      }
    },
    {
      "cell_type": "code",
      "execution_count": 1,
      "metadata": {
        "colab": {
          "base_uri": "https://localhost:8080/"
        },
        "id": "cAZk7MFiBWoc",
        "outputId": "f71f502b-8cb0-4bea-95e8-f7415305ce6c"
      },
      "outputs": [
        {
          "output_type": "stream",
          "name": "stdout",
          "text": [
            "Collecting git+https://github.com/dnguyend/jax-rb\n",
            "  Cloning https://github.com/dnguyend/jax-rb to /tmp/pip-req-build-5uo2jm_o\n",
            "  Running command git clone --filter=blob:none --quiet https://github.com/dnguyend/jax-rb /tmp/pip-req-build-5uo2jm_o\n",
            "  Resolved https://github.com/dnguyend/jax-rb to commit 20efd03c04d80b3438f32dcbf48cd917036675b4\n",
            "  Installing build dependencies ... \u001b[?25l\u001b[?25hdone\n",
            "  Getting requirements to build wheel ... \u001b[?25l\u001b[?25hdone\n",
            "  Installing backend dependencies ... \u001b[?25l\u001b[?25hdone\n",
            "  Preparing metadata (pyproject.toml) ... \u001b[?25l\u001b[?25hdone\n",
            "Requirement already satisfied: jax in /usr/local/lib/python3.10/dist-packages (from jax_rb==0.1.dev50+g20efd03) (0.4.26)\n",
            "Requirement already satisfied: jaxlib in /usr/local/lib/python3.10/dist-packages (from jax_rb==0.1.dev50+g20efd03) (0.4.26+cuda12.cudnn89)\n",
            "Requirement already satisfied: ml-dtypes>=0.2.0 in /usr/local/lib/python3.10/dist-packages (from jax->jax_rb==0.1.dev50+g20efd03) (0.2.0)\n",
            "Requirement already satisfied: numpy>=1.22 in /usr/local/lib/python3.10/dist-packages (from jax->jax_rb==0.1.dev50+g20efd03) (1.25.2)\n",
            "Requirement already satisfied: opt-einsum in /usr/local/lib/python3.10/dist-packages (from jax->jax_rb==0.1.dev50+g20efd03) (3.3.0)\n",
            "Requirement already satisfied: scipy>=1.9 in /usr/local/lib/python3.10/dist-packages (from jax->jax_rb==0.1.dev50+g20efd03) (1.11.4)\n",
            "Building wheels for collected packages: jax_rb\n",
            "  Building wheel for jax_rb (pyproject.toml) ... \u001b[?25l\u001b[?25hdone\n",
            "  Created wheel for jax_rb: filename=jax_rb-0.1.dev50+g20efd03-py3-none-any.whl size=33136 sha256=e492ec1117fd5f7aea647df31745c1641e5fd6a88002be634dc5ea0095d04df4\n",
            "  Stored in directory: /tmp/pip-ephem-wheel-cache-u6juldpw/wheels/0f/76/88/65e675f8bcca47be98c588d9a787a4c1c9b0a5044517ba6490\n",
            "Successfully built jax_rb\n",
            "Installing collected packages: jax_rb\n",
            "Successfully installed jax_rb-0.1.dev50+g20efd03\n"
          ]
        }
      ],
      "source": [
        "pip install git+https://github.com/dnguyend/jax-rb"
      ]
    },
    {
      "cell_type": "code",
      "source": [
        "import jax\n",
        "import jax.numpy as jnp\n",
        "\n",
        "import jax.numpy.linalg as jla\n",
        "\n",
        "from jax import random\n",
        "from jax_rb.manifolds import RealStiefelAlpha\n",
        "from jax_rb.utils.utils import (sym, asym)\n",
        "import jax_rb.simulation.simulator as sim\n",
        "import jax_rb.simulation.global_manifold_integrator as gmi\n",
        "\n",
        "\n",
        "jax.config.update(\"jax_enable_x64\", True)"
      ],
      "metadata": {
        "id": "Tq444cfZAyA4"
      },
      "execution_count": 2,
      "outputs": []
    },
    {
      "cell_type": "markdown",
      "source": [
        "* Define a Stiefel manifold, do some sanity testing"
      ],
      "metadata": {
        "id": "ZhJOsQRJexM4"
      }
    },
    {
      "cell_type": "code",
      "source": [
        "key = random.PRNGKey(0)\n",
        "\n",
        "n = 5\n",
        "p = 3\n",
        "\n",
        "al = jnp.array([1, .7])\n",
        "stf = RealStiefelAlpha((n, p), al)\n",
        "x, key = stf.rand_point(key)\n",
        "v, key = stf.rand_vec(key, x)\n",
        "print(sym(x.T@v))\n",
        "print(x.T@x)\n"
      ],
      "metadata": {
        "colab": {
          "base_uri": "https://localhost:8080/"
        },
        "id": "61ZTNNTYB-KP",
        "outputId": "1d554096-6e07-4ac7-f05c-b20f754b3518"
      },
      "execution_count": 3,
      "outputs": [
        {
          "output_type": "stream",
          "name": "stdout",
          "text": [
            "[[-2.50590117e-17  5.55111512e-17  8.32667268e-17]\n",
            " [ 5.55111512e-17  1.56473573e-17 -1.94289029e-16]\n",
            " [ 8.32667268e-17 -1.94289029e-16  4.09287851e-16]]\n",
            "[[1.00000000e+00 5.20502955e-18 8.33607223e-17]\n",
            " [5.20502955e-18 1.00000000e+00 6.92237803e-17]\n",
            " [8.33607223e-17 6.92237803e-17 1.00000000e+00]]\n"
          ]
        }
      ]
    },
    {
      "cell_type": "markdown",
      "source": [
        "* Define the polar decomposition, test its second order Taylor expansion"
      ],
      "metadata": {
        "id": "QY-W2O2VfmnQ"
      }
    },
    {
      "cell_type": "code",
      "source": [
        "def polar(q):\n",
        "  u, s, vt = jla.svd(q, full_matrices=False)\n",
        "  return u@vt\n",
        "\n",
        "t = 1e-3\n",
        "polar(x + t*v) - x - t*v +t**2/2*x@v.T@v"
      ],
      "metadata": {
        "colab": {
          "base_uri": "https://localhost:8080/"
        },
        "id": "WulnzJx5TOyR",
        "outputId": "a16ff68c-9245-45c4-b607-f43f4958df44"
      },
      "execution_count": 4,
      "outputs": [
        {
          "output_type": "execute_result",
          "data": {
            "text/plain": [
              "Array([[-3.76551720e-10, -9.67271525e-10,  2.06162951e-09],\n",
              "       [ 4.15987350e-10, -4.85275453e-10,  1.75741327e-09],\n",
              "       [ 2.47405992e-09, -1.33228770e-09,  4.21068089e-09],\n",
              "       [-2.68620603e-09, -1.81381986e-10,  7.56495339e-10],\n",
              "       [ 2.87122156e-09,  3.51414721e-10, -1.12513947e-09]],      dtype=float64)"
            ]
          },
          "metadata": {},
          "execution_count": 4
        }
      ]
    },
    {
      "cell_type": "markdown",
      "source": [
        "$\\newcommand{\\fR}{\\mathfrak{r}}$\n",
        "Compute tha adjustment $\\frac{1}{2}\\fR^{(2)}(x, \\sigma w_j, \\sigma w_j)$, for $w$ runs over a basis of the ambient space. We show this is exactly the ito drift. This is special for Stiefel manifolds and polar decomposition. In general their difference is tangent at $x$, but not necessarily zero."
      ],
      "metadata": {
        "id": "za9-5dA0f_fe"
      }
    },
    {
      "cell_type": "code",
      "source": [
        "# ??stf.ito_drift\n",
        "\n",
        "def sig(x, dw):\n",
        "  return dw - x@(x.T@dw) + 1/jnp.sqrt(al[1])*x@asym(x.T@dw)\n",
        "\n",
        "\n",
        "zr = jnp.zeros(n*p)\n",
        "\n",
        "def calc_adj(x):\n",
        "  s = jnp.zeros((n, p))\n",
        "  for i in range(n*p):\n",
        "      sigw = sig(x, zr.at[i].set(1.).reshape(stf.shape))\n",
        "      s += -0.5*x@sigw.T@sigw\n",
        "  return s\n",
        "\n",
        "def calc_ito(x):\n",
        "  s = jnp.zeros((n, p))\n",
        "  for i in range(n*p):\n",
        "      sigw = sig(x, zr.at[i].set(1.).reshape(stf.shape))\n",
        "      s += -0.5*stf.gamma(x, sigw, sigw)\n",
        "  return s\n",
        "\n",
        "print(stf.ito_drift(x))\n",
        "\n",
        "print(calc_adj(x))\n",
        "print(calc_ito(x))"
      ],
      "metadata": {
        "colab": {
          "base_uri": "https://localhost:8080/"
        },
        "id": "tN-9FTy3Ws-a",
        "outputId": "89d0c0a1-12c4-47c3-baae-e85e25ef334d"
      },
      "execution_count": 5,
      "outputs": [
        {
          "output_type": "stream",
          "name": "stdout",
          "text": [
            "[[ 1.38410769  0.0091622   0.63139119]\n",
            " [ 0.03131142  1.56713737 -0.55783334]\n",
            " [-0.58695641 -0.03351799  0.09550478]\n",
            " [ 0.14888281 -0.69348529 -1.28610466]\n",
            " [ 0.80954129  0.02695806 -0.75216773]]\n",
            "[[ 1.38410769  0.0091622   0.63139119]\n",
            " [ 0.03131142  1.56713737 -0.55783334]\n",
            " [-0.58695641 -0.03351799  0.09550478]\n",
            " [ 0.14888281 -0.69348529 -1.28610466]\n",
            " [ 0.80954129  0.02695806 -0.75216773]]\n",
            "[[ 1.38410769  0.0091622   0.63139119]\n",
            " [ 0.03131142  1.56713737 -0.55783334]\n",
            " [-0.58695641 -0.03351799  0.09550478]\n",
            " [ 0.14888281 -0.69348529 -1.28610466]\n",
            " [ 0.80954129  0.02695806 -0.75216773]]\n"
          ]
        }
      ]
    },
    {
      "cell_type": "markdown",
      "source": [
        "We now consider two values of $\\alpha$, with the small value $\\alpha =.1$ and large value of $\\alpha=20$. We demonstrate the stochastic projection method (ret_io), the geodesic approximation (ret_geo, using theorem 4) and the adjusted drift method ( above, with $\\mu_{\\fR} = \\mu - \\mu_{\\alpha}= 0$ as we have just mentioned) are consistent with each other for each value of $\\alpha$"
      ],
      "metadata": {
        "id": "66ceLvpchTk_"
      }
    },
    {
      "cell_type": "code",
      "source": [
        "pay_offs = [None,\n",
        "            lambda x: jnp.sum(jnp.abs(x[0, 0]))]\n",
        "\n",
        "al_small = jnp.array([1, .1])\n",
        "stf_small = RealStiefelAlpha((n, p), al_small)\n",
        "\n",
        "key, sk = random.split(key)\n",
        "t_final = .5\n",
        "n_path = 1000\n",
        "n_div = 1000\n",
        "d_coeff = .5\n",
        "wiener_dim = n*p\n",
        "x_0 = jnp.zeros((n, p)).at[:p, :].set(jnp.eye(p))\n",
        "\n",
        "ret_ito_small = sim.simulate(x_0,\n",
        "                        lambda x, unit_move, scale: gmi.rbrownian_ito_move(\n",
        "                            stf_small, x, unit_move, scale),\n",
        "                        pay_offs[0],\n",
        "                        pay_offs[1],\n",
        "                        [sk, t_final, n_path, n_div, d_coeff, wiener_dim])\n",
        "print(jnp.mean(ret_ito_small[0]))\n",
        "\n",
        "ret_geo_small = sim.simulate(x_0,\n",
        "                        lambda x, unit_move, scale: gmi.geodesic_move(\n",
        "                            stf_small, x, unit_move, scale),\n",
        "                        pay_offs[0],\n",
        "                        pay_offs[1],\n",
        "                        [sk, t_final, n_path, n_div, d_coeff, wiener_dim])\n",
        "print(jnp.mean(ret_geo_small[0]))"
      ],
      "metadata": {
        "colab": {
          "base_uri": "https://localhost:8080/"
        },
        "id": "OCuUGqFjuKMz",
        "outputId": "82cce819-02db-4a21-baf2-0940ef479380"
      },
      "execution_count": 9,
      "outputs": [
        {
          "output_type": "stream",
          "name": "stdout",
          "text": [
            "0.3831278524121285\n",
            "0.3845773931666296\n"
          ]
        }
      ]
    },
    {
      "cell_type": "code",
      "source": [
        "class polar_retraction():\n",
        "    \"\"\"the polar retraction\n",
        "    \"\"\"\n",
        "    def __init__(self, mnf):\n",
        "        self.mnf = mnf\n",
        "\n",
        "    def retract(self, x, v):\n",
        "        \"\"\"rescaling :math:`x+v` to be on the hypersurface\n",
        "        \"\"\"\n",
        "        return polar(x+v)\n",
        "\n",
        "    def hess(self, x, v):\n",
        "        \"\"\"hessian of the rescaling\n",
        "        \"\"\"\n",
        "        return -x@v.T@v\n",
        "\n",
        "    def drift_adjust(self, sigma, x, t, driver_dim):\n",
        "        \"\"\"return the adjustment :math:`\\mu_{adj}`\n",
        "        so that :math:`\\mu + \\mu_{adj} = \\mu_{\\mathfrak{r}}`\n",
        "        \"\"\"\n",
        "        return -0.5*jnp.sum(jax.vmap(lambda seq:\n",
        "                                 self.hess(x, sigma(x, t, seq.reshape(self.mnf.shape))))(jnp.eye(driver_dim)),\n",
        "                            axis=0)\n",
        "\n",
        "\n",
        "po = polar_retraction(stf_small)\n",
        "print(po.drift_adjust_detail(lambda x, _, dw: stf_small.proj(x, stf_small.sigma(x, dw.reshape(stf_small.shape))),\n",
        "                  x, None, jnp.prod(jnp.array(stf_small.shape))))\n",
        "print(stf_small.ito_drift(x))"
      ],
      "metadata": {
        "colab": {
          "base_uri": "https://localhost:8080/"
        },
        "id": "EaPGDdXrqxTB",
        "outputId": "ecc78e67-3ff3-4584-9124-9d100ab81e8e"
      },
      "execution_count": 14,
      "outputs": [
        {
          "output_type": "stream",
          "name": "stdout",
          "text": [
            "[[-4.8443769  -0.03206771 -2.20986916]\n",
            " [-0.10958997 -5.48498079  1.9524167 ]\n",
            " [ 2.05434744  0.11731296 -0.33426672]\n",
            " [-0.52108982  2.4271985   4.5013663 ]\n",
            " [-2.83339452 -0.09435322  2.63258704]]\n",
            "[[ 4.8443769   0.03206771  2.20986916]\n",
            " [ 0.10958997  5.48498079 -1.9524167 ]\n",
            " [-2.05434744 -0.11731296  0.33426672]\n",
            " [ 0.52108982 -2.4271985  -4.5013663 ]\n",
            " [ 2.83339452  0.09435322 -2.63258704]]\n"
          ]
        }
      ]
    },
    {
      "cell_type": "markdown",
      "source": [
        "We can use retractive_move in simulation.retractive_integrator, but the sum of $\\fR^{(0)}$ over a basis of $\\R^{n\\times p}$ is slow, but we note $\\mu_{\\fR}=0$, so we simply remove it, retracting only the stochastic component. The result is consistent with the ito and geodesic (second-order retraction) above."
      ],
      "metadata": {
        "id": "_xyQ4YTOCgZ1"
      }
    },
    {
      "cell_type": "code",
      "source": [
        "ret_rtr_small = sim.simulate(x_0,\n",
        "                        lambda x, unit_move, scale: po.retract(\n",
        "                            x, stf_small.proj(x, stf_small.sigma(x, (unit_move*jnp.sqrt(scale)).reshape(stf_small.shape)))),\n",
        "                        pay_offs[0],\n",
        "                        pay_offs[1],\n",
        "                        [sk, t_final, n_path, n_div, d_coeff, wiener_dim])\n",
        "\n",
        "jnp.mean(ret_rtr_small[0])"
      ],
      "metadata": {
        "colab": {
          "base_uri": "https://localhost:8080/"
        },
        "id": "KUM09x2J0p16",
        "outputId": "eb5c852c-533c-455d-9219-184392a95c52"
      },
      "execution_count": 17,
      "outputs": [
        {
          "output_type": "execute_result",
          "data": {
            "text/plain": [
              "Array(0.38316787, dtype=float64)"
            ]
          },
          "metadata": {},
          "execution_count": 17
        }
      ]
    },
    {
      "cell_type": "markdown",
      "source": [
        "* Now for large $\\alpha = 20.$ Again the three retractions are consistent."
      ],
      "metadata": {
        "id": "7yVNSMDcKQVu"
      }
    },
    {
      "cell_type": "code",
      "source": [
        "al_large = jnp.array([1, 20.])\n",
        "stf_large = RealStiefelAlpha((n, p), al_large)\n",
        "\n",
        "ret_ito_large = sim.simulate(x_0,\n",
        "                        lambda x, unit_move, scale: gmi.rbrownian_ito_move(\n",
        "                            stf_large, x, unit_move, scale),\n",
        "                        pay_offs[0],\n",
        "                        pay_offs[1],\n",
        "                        [sk, t_final, n_path, n_div, d_coeff, wiener_dim])\n",
        "print(jnp.mean(ret_ito_large[0]))\n",
        "\n",
        "\n",
        "ret_geo_large = sim.simulate(x_0,\n",
        "                        lambda x, unit_move, scale: gmi.geodesic_move(\n",
        "                            stf_large, x, unit_move, scale),\n",
        "                        pay_offs[0],\n",
        "                        pay_offs[1],\n",
        "                        [sk, t_final, n_path, n_div, d_coeff, wiener_dim])\n",
        "print(jnp.mean(ret_geo_large[0]))"
      ],
      "metadata": {
        "colab": {
          "base_uri": "https://localhost:8080/"
        },
        "id": "_1Qg384DpCjR",
        "outputId": "813bb22a-16c2-454a-9f78-d74a42dd7f5a"
      },
      "execution_count": 19,
      "outputs": [
        {
          "output_type": "stream",
          "name": "stdout",
          "text": [
            "0.6150533614932605\n",
            "0.6112091477472982\n"
          ]
        }
      ]
    },
    {
      "cell_type": "code",
      "source": [
        "ret_rtr_large = sim.simulate(x_0,\n",
        "                        lambda x, unit_move, scale: po.retract(\n",
        "                            x, stf_large.proj(x, stf_large.sigma(x, (unit_move*jnp.sqrt(scale)).reshape(stf_large.shape)))),\n",
        "                        pay_offs[0],\n",
        "                        pay_offs[1],\n",
        "                        [sk, t_final, n_path, n_div, d_coeff, wiener_dim])\n",
        "\n",
        "print(jnp.mean(ret_rtr_large[0]))"
      ],
      "metadata": {
        "colab": {
          "base_uri": "https://localhost:8080/"
        },
        "id": "WrPutQTK5Us6",
        "outputId": "7ec4ef32-b891-42d3-c951-0030631b9826"
      },
      "execution_count": 21,
      "outputs": [
        {
          "output_type": "stream",
          "name": "stdout",
          "text": [
            "0.6153144701990799\n"
          ]
        }
      ]
    }
  ]
}