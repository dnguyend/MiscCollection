{
  "nbformat": 4,
  "nbformat_minor": 0,
  "metadata": {
    "colab": {
      "name": "EinsteinRicciStiefel.ipynb",
      "provenance": [],
      "authorship_tag": "ABX9TyNbpP2UUdZCc8CVriL8Pxro",
      "include_colab_link": true
    },
    "kernelspec": {
      "name": "python3",
      "display_name": "Python 3"
    },
    "language_info": {
      "name": "python"
    }
  },
  "cells": [
    {
      "cell_type": "markdown",
      "metadata": {
        "id": "view-in-github",
        "colab_type": "text"
      },
      "source": [
        "<a href=\"https://colab.research.google.com/github/dnguyend/MiscCollection/blob/main/colab/EinsteinRicciStiefel.ipynb\" target=\"_parent\"><img src=\"https://colab.research.google.com/assets/colab-badge.svg\" alt=\"Open In Colab\"/></a>"
      ]
    },
    {
      "cell_type": "markdown",
      "metadata": {
        "id": "fghpDF4W_Cyp"
      },
      "source": [
        "# Ricci Tensor and Einstein metrics on Stiefel manifold $St_{p,n}$ with left-invariant diagonal metrics\n",
        "We show a numerical example of a simple formula for the Ricci tensor, when the metric on $St{p, n}$ is given by $\\langle (A, B), (A, B)\\rangle_P = \\sum_{i<j}a_{ij}^2t_{ij} +\\sum_{i=1}^{n-p}\\sum_{j=1}^pb_{ij}^2s_j$, where a tangent vector to the Stiefel manifold is represented by two matrices $A$ adn $B$, with $A$ anti-symmetric in $R^{p\\times p}$ and $B\\in R^{(n-p)\\times p}$.\n",
        "\n",
        "The Ricci tensor is given by $Ric(A, A) = \\sum_{i<j}a_{ij}^2c_{ij} + \\sum b_{ij}^2f_j$ with\n",
        "$$c_{ij} = n-2+ \\frac{n-p}{2}\\frac{t_{ij}^2 -s_i^2-s_j^2}{s_is_j} + \\frac{1}{2}\\sum_{l\\neq i, l\\neq j}\\frac{t_{ij}^2-t_{il}^2-t_{jl}^2}{t_{il}t_{jl}}\n",
        "$$\n",
        "$$f_j = n-2 + \\frac{1}{2}\\sum\\frac{s_j^2 - t_{jl}^2 - s_l^2}{s_l t_{jl}}$$\n",
        "to solve for Einstein metric on $St_{p, n}$\n",
        "\n",
        "We can run the codes cell by cell but we can just follow the code without the run. Some cell does not return values as it may contain definition only.\n",
        "\n",
        "We keep the metric as either a vector $TS$ of size $p(p-1)/2+p$, or a pair of $p\\times p$ symmetric matrix with diagonal zero and a diagonal metric size $p$.\n",
        "\n",
        "The metric is the Einstein metric in the paper $St_{5,7}$ "
      ]
    },
    {
      "cell_type": "code",
      "metadata": {
        "id": "QB0cvn5ZOwuf"
      },
      "source": [
        "import numpy as np\n",
        "import contextlib\n",
        "from scipy.optimize import minimize\n",
        "\n",
        "\n",
        "def makeTmat(Tdiag):\n",
        "    p = .5 * (1 + np.sqrt(1 + 8 * len(Tdiag)))\n",
        "    p = int(np.round(p))\n",
        "\n",
        "    Tmat = np.zeros((p, p))\n",
        "    tx = np.triu_indices(p, 1)\n",
        "    Tmat[tx] = Tdiag\n",
        "    Tmat[tx[1], tx[0]] = Tdiag\n",
        "    return Tmat\n",
        "\n",
        "\n",
        "def makeTSmat(v, p):\n",
        "    nupa = p*(p-1)//2    \n",
        "    \n",
        "    uu = np.zeros((p+1, p+1))\n",
        "    uu[:p, :p] = makeTmat(v[:nupa])\n",
        "    uu[:-1, -1] = v[nupa:]\n",
        "    uu[-1, :-1] = v[nupa:]\n",
        "    return uu\n",
        "\n",
        "def RicciCoeff(TS, n, p):\n",
        "    nupa = p*(p-1)//2\n",
        "    Tdiag = TS[:nupa]\n",
        "    uu = makeTmat(Tdiag)\n",
        "    uui = makeTmat(1/Tdiag)\n",
        "    Sdiag = TS[nupa:]\n",
        "\n",
        "    tx = np.triu_indices(p , 1)\n",
        "\n",
        "    kfA = np.zeros(nupa)\n",
        "    for ss in range(nupa):\n",
        "        i, j = tx[0][ss], tx[1][ss]\n",
        "        kfA[ss] += n - 2\n",
        "        kfA[ss] += -0.5*(n-p)*(Sdiag[i]/Sdiag[j] + Sdiag[j]/Sdiag[i])\n",
        "        kfA[ss] += 0.5*(n-p)*uu[i, j]*uu[i, j]/Sdiag[i]/Sdiag[j]\n",
        "\n",
        "        for aa in range(p):\n",
        "            if aa != j and aa != i:\n",
        "                kfA[ss] += -0.5*(uu[i, aa]/uu[j, aa] + uu[j, aa]/uu[i, aa])\n",
        "                kfA[ss] += +0.5*uu[i, j]*uu[i, j]/uu[j, aa]/uu[i, aa]\n",
        "\n",
        "    kfB = np.zeros((n-p, p))\n",
        "    for i in range(n-p):\n",
        "        for j in range(p):\n",
        "            kfB[i, j] += n - 2                    \n",
        "            kfB[i, j] += -0.5*((1/Sdiag)*uu)[j, :].sum()\n",
        "            kfB[i, j] += 0.5*Sdiag[j]*Sdiag[j]*(1/Sdiag*uui)[j, :].sum()\n",
        "            kfB[i, j] += -0.5*(Sdiag*uui)[j, :].sum()                \n",
        "\n",
        "    return np.concatenate([kfA, kfB.reshape(-1)])\n",
        "\n",
        "\n",
        "@contextlib.contextmanager\n",
        "def printoptions(*args, **kwargs):\n",
        "    original = np.get_printoptions()\n",
        "    np.set_printoptions(*args, **kwargs)\n",
        "    try:\n",
        "        yield\n",
        "    finally:\n",
        "        np.set_printoptions(**original)\n",
        "\n",
        "\n",
        "def pprint(mat, precision=4):\n",
        "    \"\"\"pretty print numpy matrix\n",
        "    \"\"\"\n",
        "    with printoptions(precision=precision, suppress=True):\n",
        "        print(mat)\n"
      ],
      "execution_count": 4,
      "outputs": []
    },
    {
      "cell_type": "markdown",
      "metadata": {
        "id": "dCUPORkuT1fZ"
      },
      "source": [
        "There are 3 metrics found - some matches with Jensen and Arvanitoyeorgos et. al. and there is a new metric, corresponding to a partition $(1, 1, 3)$ of $5$. Note in the output, the right-most column (and bottom row) corresponds to $s$, the $p\\times p$ top-left block correspond to $t$."
      ]
    },
    {
      "cell_type": "code",
      "metadata": {
        "colab": {
          "base_uri": "https://localhost:8080/"
        },
        "id": "RaLXceF8VxZq",
        "outputId": "b4d08c36-978d-41c0-a492-b802c2d9e729"
      },
      "source": [
        "def verify_stf_75_113_2():    \n",
        "    TS = np.array(\n",
        "        [4.15568173, 3.86531131, 3.8653113 , 3.8653113,\n",
        "          1.78072524, 1.78072524, 1.78072524,     \n",
        "          0.4995625 , 0.49956253,  0.4995625,\n",
        "        1.        , 4.09222011, 3.79800143, 3.79800143, 3.79800141])\n",
        "    \n",
        "    n = 7\n",
        "    p = 5\n",
        "    print(TS.shape, n, p)\n",
        "    Tmat = makeTSmat(TS, p)\n",
        "    rcf = RicciCoeff(TS, n, p)[:p*(p+1)//2]\n",
        "    print(\"metric coefficients\")\n",
        "    pprint(Tmat)\n",
        "\n",
        "    print(\"ricci tensor coefficients\")\n",
        "    pprint(makeTSmat(rcf, p))\n",
        "\n",
        "    lbd = rcf/TS\n",
        "    print(\"Ratios\")\n",
        "    pprint(makeTSmat(lbd, p))\n",
        "    \n",
        "    print('Ratio =%.5f standard deviation = %f' % (lbd.mean(), np.std(lbd)))\n",
        "verify_stf_75_113_2()"
      ],
      "execution_count": 10,
      "outputs": [
        {
          "output_type": "stream",
          "name": "stdout",
          "text": [
            "(15,) 7 5\n",
            "metric coefficients\n",
            "[[0.     4.1557 3.8653 3.8653 3.8653 1.    ]\n",
            " [4.1557 0.     1.7807 1.7807 1.7807 4.0922]\n",
            " [3.8653 1.7807 0.     0.4996 0.4996 3.798 ]\n",
            " [3.8653 1.7807 0.4996 0.     0.4996 3.798 ]\n",
            " [3.8653 1.7807 0.4996 0.4996 0.     3.798 ]\n",
            " [1.     4.0922 3.798  3.798  3.798  0.    ]]\n",
            "ricci tensor coefficients\n",
            "[[0.     4.7001 4.3717 4.3717 4.3717 1.131 ]\n",
            " [4.7001 0.     2.014  2.014  2.014  4.6283]\n",
            " [4.3717 2.014  0.     0.565  0.565  4.2955]\n",
            " [4.3717 2.014  0.565  0.     0.565  4.2955]\n",
            " [4.3717 2.014  0.565  0.565  0.     4.2955]\n",
            " [1.131  4.6283 4.2955 4.2955 4.2955 0.    ]]\n",
            "Ratios\n",
            "[[0.    1.131 1.131 1.131 1.131 1.131]\n",
            " [1.131 0.    1.131 1.131 1.131 1.131]\n",
            " [1.131 1.131 0.    1.131 1.131 1.131]\n",
            " [1.131 1.131 1.131 0.    1.131 1.131]\n",
            " [1.131 1.131 1.131 1.131 0.    1.131]\n",
            " [1.131 1.131 1.131 1.131 1.131 0.   ]]\n",
            "Ratio =1.13100 standard deviation = 0.000000\n"
          ]
        }
      ]
    }
  ]
}