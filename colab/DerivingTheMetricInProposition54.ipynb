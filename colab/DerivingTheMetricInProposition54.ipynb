{
  "nbformat": 4,
  "nbformat_minor": 0,
  "metadata": {
    "colab": {
      "name": "DerivingTheMetricInProposition54.ipynb",
      "provenance": [],
      "collapsed_sections": [],
      "toc_visible": true,
      "authorship_tag": "ABX9TyP6bhBh2JX/lsgrtYMG51LQ",
      "include_colab_link": true
    },
    "kernelspec": {
      "name": "python3",
      "display_name": "Python 3"
    }
  },
  "cells": [
    {
      "cell_type": "markdown",
      "metadata": {
        "id": "view-in-github",
        "colab_type": "text"
      },
      "source": [
        "<a href=\"https://colab.research.google.com/github/dnguyend/MiscCollection/blob/main/colab/DerivingTheMetricInProposition54.ipynb\" target=\"_parent\"><img src=\"https://colab.research.google.com/assets/colab-badge.svg\" alt=\"Open In Colab\"/></a>"
      ]
    },
    {
      "cell_type": "markdown",
      "metadata": {
        "id": "PO3x1l0zJyeG"
      },
      "source": [
        "# This notebook provides the symbolic calculations in the proof for Proposition 5.4 in our paper **Curvatures of Stiefel manifolds with deformation metrics**.\n",
        "\n",
        "The page can be run in colab environment - you will need a google account to run. Otherwise we can follow the presentation without running. If cells are hidden, just click on them they will expand.\n",
        "\n",
        "The related page  https://github.com/dnguyend/MiscCollection/blob/main/colab/EinsteinRicciSON.ipynb provides numerical examples. This page contains only the symbolic derivations.\n",
        "\n",
        "Let $p = 2dk$, the set $\\{1,\\cdots p\\}$ is divided to $q=2d$ interval $I_1\\cdots I_q$ each of length $k$. We assume the metric $t_{ij}$ is clustered to $q^2=4d^2$ blocks $t_{[q_1q_2]} = t_{I_{q_1}I_{q_2}}$\n",
        "each of size $k\\times k$ as follow for $d=2, q=4$\n",
        "$$\\begin{bmatrix} t_{[11]}=1 & t_{[12]} = t_1 & t_{[13]}=t_2 & t_{[14]} = t_1\\\\\n",
        " *  & t_{[22]} = 1 & t_{[23]}=t_1 & t_{[24]} = t_2\\\\\n",
        " *  & * & t_{[33]}= 1 & t_{[34]} = t_1\\\\\n",
        " *  & * & * & t_{[44]} = 1\n",
        " \\end{bmatrix}\n",
        "$$\n",
        "The Ricci curvature will also have the form $\\sum_{ij} r_{ij}a_{ij}^2$, where $r_{ij}$ are also of block form $r_{[q_1q_2]}$, with $r_{[q_1,q_1]} = r_0$\n",
        "$r_{[q_1,q_2]} = r_b$ with $b\\in\\{1, 2\\}, |q_1 - q_2|\\equiv b\\mod 2$. Set $x= t_2/t_1$\n",
        "\n",
        "The formulas for $r_0, r_1, r_2$ could be expressed in $x$ and $t_1$ and are given below. Hit the play buttons on the cell below to run.\n"
      ]
    },
    {
      "cell_type": "code",
      "metadata": {
        "id": "hFalsD8PcwWt"
      },
      "source": [
        "import sympy as sp\n",
        "from sympy import symbols\n",
        "d, k, t1, x = symbols('d k t1 x')"
      ],
      "execution_count": 1,
      "outputs": []
    },
    {
      "cell_type": "code",
      "metadata": {
        "colab": {
          "base_uri": "https://localhost:8080/",
          "height": 200
        },
        "id": "-hLHCD-9YbjD",
        "outputId": "ac2fb162-3d50-4c8a-d42e-5cb17272d7f8"
      },
      "source": [
        "q = 2*d\n",
        "p = q*k\n",
        "t2 = x*t1\n",
        "r0 = (k - 2)/2 + d*k/2/t1/t1 + (d-1)*k/2/t2/t2\n",
        "r1 = p - 2 - (k-1)/t1 + k*(-t2/t1)*(q-2)/2\n",
        "r2 = p - 2 - (k-1)/t2 + k*(t2*t2/t1/t1-2)*d/2 + (d-2)*(-1)*k/2\n",
        "display(\"r0=\", r0)\n",
        "display(\"r1=\", r1)\n",
        "display(\"r2=\", r2)\n"
      ],
      "execution_count": 2,
      "outputs": [
        {
          "output_type": "display_data",
          "data": {
            "application/vnd.google.colaboratory.intrinsic+json": {
              "type": "string"
            },
            "text/plain": [
              "'r0='"
            ]
          },
          "metadata": {}
        },
        {
          "output_type": "display_data",
          "data": {
            "text/latex": "$\\displaystyle \\frac{d k}{2 t_{1}^{2}} + \\frac{k}{2} + \\frac{k \\left(d - 1\\right)}{2 t_{1}^{2} x^{2}} - 1$",
            "text/plain": [
              "d*k/(2*t1**2) + k/2 + k*(d - 1)/(2*t1**2*x**2) - 1"
            ]
          },
          "metadata": {}
        },
        {
          "output_type": "display_data",
          "data": {
            "application/vnd.google.colaboratory.intrinsic+json": {
              "type": "string"
            },
            "text/plain": [
              "'r1='"
            ]
          },
          "metadata": {}
        },
        {
          "output_type": "display_data",
          "data": {
            "text/latex": "$\\displaystyle 2 d k - \\frac{k x \\left(2 d - 2\\right)}{2} - 2 - \\frac{k - 1}{t_{1}}$",
            "text/plain": [
              "2*d*k - k*x*(2*d - 2)/2 - 2 - (k - 1)/t1"
            ]
          },
          "metadata": {}
        },
        {
          "output_type": "display_data",
          "data": {
            "application/vnd.google.colaboratory.intrinsic+json": {
              "type": "string"
            },
            "text/plain": [
              "'r2='"
            ]
          },
          "metadata": {}
        },
        {
          "output_type": "display_data",
          "data": {
            "text/latex": "$\\displaystyle \\frac{d k \\left(x^{2} - 2\\right)}{2} + 2 d k + \\frac{k \\left(2 - d\\right)}{2} - 2 - \\frac{k - 1}{t_{1} x}$",
            "text/plain": [
              "d*k*(x**2 - 2)/2 + 2*d*k + k*(2 - d)/2 - 2 - (k - 1)/(t1*x)"
            ]
          },
          "metadata": {}
        }
      ]
    },
    {
      "cell_type": "markdown",
      "metadata": {
        "id": "JlKLCpEvTEKM"
      },
      "source": [
        "## Set the Einstein condition"
      ]
    },
    {
      "cell_type": "code",
      "metadata": {
        "colab": {
          "base_uri": "https://localhost:8080/",
          "height": 93
        },
        "id": "IuAk5RhyYw-z",
        "outputId": "5ff05338-1265-4a9c-f1ac-e5eae71354ad"
      },
      "source": [
        "e1 = sp.expand(2*x*x*t1*(r0*t1 - r1))\n",
        "e2 = sp.expand(2*t1*x*(r0*t2-r2))\n",
        "print(\"e1=\")\n",
        "display(e1)\n",
        "print(\"e2=\")\n",
        "display(e1)"
      ],
      "execution_count": 3,
      "outputs": [
        {
          "output_type": "stream",
          "name": "stdout",
          "text": [
            "e1=\n"
          ]
        },
        {
          "output_type": "display_data",
          "data": {
            "text/latex": "$\\displaystyle 2 d k t_{1} x^{3} - 4 d k t_{1} x^{2} + d k x^{2} + d k + k t_{1}^{2} x^{2} - 2 k t_{1} x^{3} + 2 k x^{2} - k - 2 t_{1}^{2} x^{2} + 4 t_{1} x^{2} - 2 x^{2}$",
            "text/plain": [
              "2*d*k*t1*x**3 - 4*d*k*t1*x**2 + d*k*x**2 + d*k + k*t1**2*x**2 - 2*k*t1*x**3 + 2*k*x**2 - k - 2*t1**2*x**2 + 4*t1*x**2 - 2*x**2"
            ]
          },
          "metadata": {}
        },
        {
          "output_type": "stream",
          "name": "stdout",
          "text": [
            "e2=\n"
          ]
        },
        {
          "output_type": "display_data",
          "data": {
            "text/latex": "$\\displaystyle 2 d k t_{1} x^{3} - 4 d k t_{1} x^{2} + d k x^{2} + d k + k t_{1}^{2} x^{2} - 2 k t_{1} x^{3} + 2 k x^{2} - k - 2 t_{1}^{2} x^{2} + 4 t_{1} x^{2} - 2 x^{2}$",
            "text/plain": [
              "2*d*k*t1*x**3 - 4*d*k*t1*x**2 + d*k*x**2 + d*k + k*t1**2*x**2 - 2*k*t1*x**3 + 2*k*x**2 - k - 2*t1**2*x**2 + 4*t1*x**2 - 2*x**2"
            ]
          },
          "metadata": {}
        }
      ]
    },
    {
      "cell_type": "markdown",
      "metadata": {
        "id": "2OIwdb0FTR8b"
      },
      "source": [
        "print the coefficients powers of $x$ and $t1$ format"
      ]
    },
    {
      "cell_type": "code",
      "metadata": {
        "colab": {
          "base_uri": "https://localhost:8080/"
        },
        "id": "Zasp17q2ZdYA",
        "outputId": "7909138c-d64e-449a-825b-d4412b568313"
      },
      "source": [
        "print(\"e1\")\n",
        "for jj in range(3, -1, -1):\n",
        "  for kk in range(3, -1, -1):\n",
        "    print('x^%d t1^%d' % (jj, kk), e1.coeff(x, jj).coeff(t1, kk))\n",
        "\n",
        "print(\"e2\")\n",
        "for jj in range(3, -1, -1):\n",
        "  for kk in range(3, -1, -1):\n",
        "    print('t1^%d x^%d' % (jj, kk), e2.coeff(t1, jj).coeff(x, kk))    "
      ],
      "execution_count": 4,
      "outputs": [
        {
          "output_type": "stream",
          "name": "stdout",
          "text": [
            "e1\n",
            "x^3 t1^3 0\n",
            "x^3 t1^2 0\n",
            "x^3 t1^1 2*d*k - 2*k\n",
            "x^3 t1^0 0\n",
            "x^2 t1^3 0\n",
            "x^2 t1^2 k - 2\n",
            "x^2 t1^1 -4*d*k + 4\n",
            "x^2 t1^0 d*k + 2*k - 2\n",
            "x^1 t1^3 0\n",
            "x^1 t1^2 0\n",
            "x^1 t1^1 0\n",
            "x^1 t1^0 0\n",
            "x^0 t1^3 0\n",
            "x^0 t1^2 0\n",
            "x^0 t1^1 0\n",
            "x^0 t1^0 d*k - k\n",
            "e2\n",
            "t1^3 x^3 0\n",
            "t1^3 x^2 0\n",
            "t1^3 x^1 0\n",
            "t1^3 x^0 0\n",
            "t1^2 x^3 0\n",
            "t1^2 x^2 k - 2\n",
            "t1^2 x^1 0\n",
            "t1^2 x^0 0\n",
            "t1^1 x^3 -d*k\n",
            "t1^1 x^2 0\n",
            "t1^1 x^1 -d*k - 2*k + 4\n",
            "t1^1 x^0 0\n",
            "t1^0 x^3 0\n",
            "t1^0 x^2 d*k\n",
            "t1^0 x^1 0\n",
            "t1^0 x^0 d*k + k - 2\n"
          ]
        }
      ]
    },
    {
      "cell_type": "markdown",
      "metadata": {
        "id": "R7j6DNL-TcKb"
      },
      "source": [
        "## $e_3 = e_1-e_2$ could be factored, having a root $x=1$, and other roots"
      ]
    },
    {
      "cell_type": "code",
      "metadata": {
        "colab": {
          "base_uri": "https://localhost:8080/",
          "height": 38
        },
        "id": "XKStHdmOaq6Y",
        "outputId": "fcb55a9d-6672-4f8c-88dc-a132d68c0641"
      },
      "source": [
        "e3 = sp.factor(e1-e2)\n",
        "e3"
      ],
      "execution_count": 5,
      "outputs": [
        {
          "output_type": "execute_result",
          "data": {
            "text/latex": "$\\displaystyle \\left(x - 1\\right) \\left(3 d k t_{1} x^{2} - d k t_{1} x - 2 k t_{1} x^{2} - 2 k t_{1} x + 2 k x + 2 k + 4 t_{1} x - 2 x - 2\\right)$",
            "text/plain": [
              "(x - 1)*(3*d*k*t1*x**2 - d*k*t1*x - 2*k*t1*x**2 - 2*k*t1*x + 2*k*x + 2*k + 4*t1*x - 2*x - 2)"
            ]
          },
          "metadata": {},
          "execution_count": 5
        }
      ]
    },
    {
      "cell_type": "markdown",
      "metadata": {
        "id": "SgO-3fr0T0r9"
      },
      "source": [
        "Now solve for the case $x=1$. Substitute $x=1$ to $e_1$ then factor/solve"
      ]
    },
    {
      "cell_type": "code",
      "metadata": {
        "colab": {
          "base_uri": "https://localhost:8080/"
        },
        "id": "8rtgZoXGdYGe",
        "outputId": "a5ac7725-4a8d-432d-f928-ccbf580bd123"
      },
      "source": [
        "e1x1 = sp.factor(e1.subs(x, 1))\n",
        "t1solv1 = sp.solve(e1x1, t1)\n",
        "print(\"first solution\")\n",
        "t1solv1"
      ],
      "execution_count": 6,
      "outputs": [
        {
          "output_type": "stream",
          "name": "stdout",
          "text": [
            "first solution\n"
          ]
        },
        {
          "output_type": "execute_result",
          "data": {
            "text/plain": [
              "[1, (2*d*k + k - 2)/(k - 2)]"
            ]
          },
          "metadata": {},
          "execution_count": 6
        }
      ]
    },
    {
      "cell_type": "markdown",
      "metadata": {
        "id": "l6VFAxboVdaj"
      },
      "source": [
        "These are the solutions for $t_1$ in a) and b). We have $t_2=t_1$ in these two cases. Next, we assume $x\\neq 1$ and solve for the remaining factor of $e_3$"
      ]
    },
    {
      "cell_type": "code",
      "metadata": {
        "colab": {
          "base_uri": "https://localhost:8080/",
          "height": 204
        },
        "id": "_wiUwjYpcOE_",
        "outputId": "0b7ec3bb-c362-4fdb-bd3e-cab141a151d9"
      },
      "source": [
        "e4 = e3.args[1]\n",
        "display(\"e4=\", e4)\n",
        "display(\"e4, coeff t1^1\",e4.coeff(t1, 1))\n",
        "display(\"e4, coeff t1^0\", e4.coeff(t1, 0))\n",
        "t1ax = sp.factor(sp.simplify(-e4.coeff(t1, 0)/e4.coeff(t1, 1)))\n",
        "display(\"t1ax=\", t1ax)"
      ],
      "execution_count": 7,
      "outputs": [
        {
          "output_type": "display_data",
          "data": {
            "application/vnd.google.colaboratory.intrinsic+json": {
              "type": "string"
            },
            "text/plain": [
              "'e4='"
            ]
          },
          "metadata": {}
        },
        {
          "output_type": "display_data",
          "data": {
            "text/latex": "$\\displaystyle 3 d k t_{1} x^{2} - d k t_{1} x - 2 k t_{1} x^{2} - 2 k t_{1} x + 2 k x + 2 k + 4 t_{1} x - 2 x - 2$",
            "text/plain": [
              "3*d*k*t1*x**2 - d*k*t1*x - 2*k*t1*x**2 - 2*k*t1*x + 2*k*x + 2*k + 4*t1*x - 2*x - 2"
            ]
          },
          "metadata": {}
        },
        {
          "output_type": "display_data",
          "data": {
            "application/vnd.google.colaboratory.intrinsic+json": {
              "type": "string"
            },
            "text/plain": [
              "'e4, coeff t1^1'"
            ]
          },
          "metadata": {}
        },
        {
          "output_type": "display_data",
          "data": {
            "text/latex": "$\\displaystyle 3 d k x^{2} - d k x - 2 k x^{2} - 2 k x + 4 x$",
            "text/plain": [
              "3*d*k*x**2 - d*k*x - 2*k*x**2 - 2*k*x + 4*x"
            ]
          },
          "metadata": {}
        },
        {
          "output_type": "display_data",
          "data": {
            "application/vnd.google.colaboratory.intrinsic+json": {
              "type": "string"
            },
            "text/plain": [
              "'e4, coeff t1^0'"
            ]
          },
          "metadata": {}
        },
        {
          "output_type": "display_data",
          "data": {
            "text/latex": "$\\displaystyle 2 k x + 2 k - 2 x - 2$",
            "text/plain": [
              "2*k*x + 2*k - 2*x - 2"
            ]
          },
          "metadata": {}
        },
        {
          "output_type": "display_data",
          "data": {
            "application/vnd.google.colaboratory.intrinsic+json": {
              "type": "string"
            },
            "text/plain": [
              "'t1ax='"
            ]
          },
          "metadata": {}
        },
        {
          "output_type": "display_data",
          "data": {
            "text/latex": "$\\displaystyle - \\frac{2 \\left(k - 1\\right) \\left(x + 1\\right)}{x \\left(3 d k x - d k - 2 k x - 2 k + 4\\right)}$",
            "text/plain": [
              "-2*(k - 1)*(x + 1)/(x*(3*d*k*x - d*k - 2*k*x - 2*k + 4))"
            ]
          },
          "metadata": {}
        }
      ]
    },
    {
      "cell_type": "markdown",
      "metadata": {
        "id": "MWcJJ4dAWaZB"
      },
      "source": [
        "Substitute $t1ax$, the solution for $t_1$ from $e_4=0$, then substitute in $e_1$, multiply by the denominator to get a polynomial form"
      ]
    },
    {
      "cell_type": "code",
      "metadata": {
        "colab": {
          "base_uri": "https://localhost:8080/",
          "height": 59
        },
        "id": "QvCWRvEAd5Ey",
        "outputId": "f6fd9567-0679-4ca8-8f92-24757a5c8460"
      },
      "source": [
        "e5 = sp.factor(sp.expand(e1.subs(t1, t1ax)*e4.coeff(t1, 1)*e4.coeff(t1, 1)))\n",
        "display(\"e5=\", e5)"
      ],
      "execution_count": 8,
      "outputs": [
        {
          "output_type": "display_data",
          "data": {
            "application/vnd.google.colaboratory.intrinsic+json": {
              "type": "string"
            },
            "text/plain": [
              "'e5='"
            ]
          },
          "metadata": {}
        },
        {
          "output_type": "display_data",
          "data": {
            "text/latex": "$\\displaystyle x^{2} \\left(3 d k x - d k - 2 x + 2\\right) \\left(3 d^{2} k^{2} x^{3} - d^{2} k^{2} x^{2} + 3 d^{2} k^{2} x - d^{2} k^{2} - 2 d k^{2} x^{3} - 2 d k^{2} x^{2} + d k^{2} x - 3 d k^{2} + 4 d k x^{2} - 6 d k x + 6 d k - 2 k x + 2 k + 4 x - 4\\right)$",
            "text/plain": [
              "x**2*(3*d*k*x - d*k - 2*x + 2)*(3*d**2*k**2*x**3 - d**2*k**2*x**2 + 3*d**2*k**2*x - d**2*k**2 - 2*d*k**2*x**3 - 2*d*k**2*x**2 + d*k**2*x - 3*d*k**2 + 4*d*k*x**2 - 6*d*k*x + 6*d*k - 2*k*x + 2*k + 4*x - 4)"
            ]
          },
          "metadata": {}
        }
      ]
    },
    {
      "cell_type": "code",
      "metadata": {
        "colab": {
          "base_uri": "https://localhost:8080/"
        },
        "id": "9e4l57D5t980",
        "outputId": "71b3c901-3055-4af6-99da-1c6efea3dfd0"
      },
      "source": [
        "print(e5)"
      ],
      "execution_count": 9,
      "outputs": [
        {
          "output_type": "stream",
          "name": "stdout",
          "text": [
            "x**2*(3*d*k*x - d*k - 2*x + 2)*(3*d**2*k**2*x**3 - d**2*k**2*x**2 + 3*d**2*k**2*x - d**2*k**2 - 2*d*k**2*x**3 - 2*d*k**2*x**2 + d*k**2*x - 3*d*k**2 + 4*d*k*x**2 - 6*d*k*x + 6*d*k - 2*k*x + 2*k + 4*x - 4)\n"
          ]
        }
      ]
    },
    {
      "cell_type": "markdown",
      "metadata": {
        "id": "KsdEoV_8Xv1V"
      },
      "source": [
        "Since $x\\neq 0$, there are only two cases corresponding to two factors of $e5$. Solve for the first one. "
      ]
    },
    {
      "cell_type": "code",
      "metadata": {
        "id": "vhFAs7BDeRXm",
        "colab": {
          "base_uri": "https://localhost:8080/"
        },
        "outputId": "ddbb37c3-86e8-4285-a0f6-2edd8b7d394f"
      },
      "source": [
        "x1c = sp.solve(e5.args[1], x)\n",
        "x1c"
      ],
      "execution_count": 10,
      "outputs": [
        {
          "output_type": "execute_result",
          "data": {
            "text/plain": [
              "[(d*k - 2)/(3*d*k - 2)]"
            ]
          },
          "metadata": {},
          "execution_count": 10
        }
      ]
    },
    {
      "cell_type": "markdown",
      "metadata": {
        "id": "8n0KuPutYDKK"
      },
      "source": [
        "Substitute to get corresponding values of $t1, t2$ in c)"
      ]
    },
    {
      "cell_type": "code",
      "metadata": {
        "colab": {
          "base_uri": "https://localhost:8080/",
          "height": 107
        },
        "id": "lvEl_P2ce6If",
        "outputId": "7c4c3cc4-5031-40f8-b0a1-2f17361d795e"
      },
      "source": [
        "t1c = sp.simplify(t1ax.subs(x, x1c[0]))\n",
        "t2c = sp.simplify(t1c*x1c[0])\n",
        "print(\"t1c\")\n",
        "display(t1c)\n",
        "print(\"t2c\")\n",
        "display(t2c)"
      ],
      "execution_count": 11,
      "outputs": [
        {
          "output_type": "stream",
          "name": "stdout",
          "text": [
            "t1c\n"
          ]
        },
        {
          "output_type": "display_data",
          "data": {
            "text/latex": "$\\displaystyle \\frac{3 d k - 2}{d k - 2}$",
            "text/plain": [
              "(3*d*k - 2)/(d*k - 2)"
            ]
          },
          "metadata": {}
        },
        {
          "output_type": "stream",
          "name": "stdout",
          "text": [
            "t2c\n"
          ]
        },
        {
          "output_type": "display_data",
          "data": {
            "text/latex": "$\\displaystyle 1$",
            "text/plain": [
              "1"
            ]
          },
          "metadata": {}
        }
      ]
    },
    {
      "cell_type": "markdown",
      "metadata": {
        "id": "zBtGG7sgYU63"
      },
      "source": [
        "Now, the remaining equation, the remaining factor of $e5$ gives us the equation $F(x)$ in d) of the proposition"
      ]
    },
    {
      "cell_type": "code",
      "metadata": {
        "colab": {
          "base_uri": "https://localhost:8080/",
          "height": 506
        },
        "id": "VFYJObtUSphB",
        "outputId": "8a48e3c8-5115-4b42-af30-aa035074689a"
      },
      "source": [
        "Fx = e5.args[2]\n",
        "display(Fx)\n",
        "print(\"coefficients\")\n",
        "for jj in range(3, -1, -1):\n",
        "  for kk in range(2, -1, -1):\n",
        "    print('x^%d k^%d' % (jj, kk))\n",
        "    display(Fx.coeff(x, jj).coeff(k, kk))"
      ],
      "execution_count": 12,
      "outputs": [
        {
          "output_type": "display_data",
          "data": {
            "text/latex": "$\\displaystyle 3 d^{2} k^{2} x^{3} - d^{2} k^{2} x^{2} + 3 d^{2} k^{2} x - d^{2} k^{2} - 2 d k^{2} x^{3} - 2 d k^{2} x^{2} + d k^{2} x - 3 d k^{2} + 4 d k x^{2} - 6 d k x + 6 d k - 2 k x + 2 k + 4 x - 4$",
            "text/plain": [
              "3*d**2*k**2*x**3 - d**2*k**2*x**2 + 3*d**2*k**2*x - d**2*k**2 - 2*d*k**2*x**3 - 2*d*k**2*x**2 + d*k**2*x - 3*d*k**2 + 4*d*k*x**2 - 6*d*k*x + 6*d*k - 2*k*x + 2*k + 4*x - 4"
            ]
          },
          "metadata": {}
        },
        {
          "output_type": "stream",
          "name": "stdout",
          "text": [
            "coefficients\n",
            "x^3 k^2\n"
          ]
        },
        {
          "output_type": "display_data",
          "data": {
            "text/latex": "$\\displaystyle 3 d^{2} - 2 d$",
            "text/plain": [
              "3*d**2 - 2*d"
            ]
          },
          "metadata": {}
        },
        {
          "output_type": "stream",
          "name": "stdout",
          "text": [
            "x^3 k^1\n"
          ]
        },
        {
          "output_type": "display_data",
          "data": {
            "text/latex": "$\\displaystyle 0$",
            "text/plain": [
              "0"
            ]
          },
          "metadata": {}
        },
        {
          "output_type": "stream",
          "name": "stdout",
          "text": [
            "x^3 k^0\n"
          ]
        },
        {
          "output_type": "display_data",
          "data": {
            "text/latex": "$\\displaystyle 0$",
            "text/plain": [
              "0"
            ]
          },
          "metadata": {}
        },
        {
          "output_type": "stream",
          "name": "stdout",
          "text": [
            "x^2 k^2\n"
          ]
        },
        {
          "output_type": "display_data",
          "data": {
            "text/latex": "$\\displaystyle - d^{2} - 2 d$",
            "text/plain": [
              "-d**2 - 2*d"
            ]
          },
          "metadata": {}
        },
        {
          "output_type": "stream",
          "name": "stdout",
          "text": [
            "x^2 k^1\n"
          ]
        },
        {
          "output_type": "display_data",
          "data": {
            "text/latex": "$\\displaystyle 4 d$",
            "text/plain": [
              "4*d"
            ]
          },
          "metadata": {}
        },
        {
          "output_type": "stream",
          "name": "stdout",
          "text": [
            "x^2 k^0\n"
          ]
        },
        {
          "output_type": "display_data",
          "data": {
            "text/latex": "$\\displaystyle 0$",
            "text/plain": [
              "0"
            ]
          },
          "metadata": {}
        },
        {
          "output_type": "stream",
          "name": "stdout",
          "text": [
            "x^1 k^2\n"
          ]
        },
        {
          "output_type": "display_data",
          "data": {
            "text/latex": "$\\displaystyle 3 d^{2} + d$",
            "text/plain": [
              "3*d**2 + d"
            ]
          },
          "metadata": {}
        },
        {
          "output_type": "stream",
          "name": "stdout",
          "text": [
            "x^1 k^1\n"
          ]
        },
        {
          "output_type": "display_data",
          "data": {
            "text/latex": "$\\displaystyle - 6 d - 2$",
            "text/plain": [
              "-6*d - 2"
            ]
          },
          "metadata": {}
        },
        {
          "output_type": "stream",
          "name": "stdout",
          "text": [
            "x^1 k^0\n"
          ]
        },
        {
          "output_type": "display_data",
          "data": {
            "text/latex": "$\\displaystyle 4$",
            "text/plain": [
              "4"
            ]
          },
          "metadata": {}
        },
        {
          "output_type": "stream",
          "name": "stdout",
          "text": [
            "x^0 k^2\n"
          ]
        },
        {
          "output_type": "display_data",
          "data": {
            "text/latex": "$\\displaystyle - d^{2} - 3 d$",
            "text/plain": [
              "-d**2 - 3*d"
            ]
          },
          "metadata": {}
        },
        {
          "output_type": "stream",
          "name": "stdout",
          "text": [
            "x^0 k^1\n"
          ]
        },
        {
          "output_type": "display_data",
          "data": {
            "text/latex": "$\\displaystyle 6 d + 2$",
            "text/plain": [
              "6*d + 2"
            ]
          },
          "metadata": {}
        },
        {
          "output_type": "stream",
          "name": "stdout",
          "text": [
            "x^0 k^0\n"
          ]
        },
        {
          "output_type": "display_data",
          "data": {
            "text/latex": "$\\displaystyle -4$",
            "text/plain": [
              "-4"
            ]
          },
          "metadata": {}
        }
      ]
    },
    {
      "cell_type": "markdown",
      "metadata": {
        "id": "OEdh35HRZxL8"
      },
      "source": [
        "Now apply the intermediate value theorem to show it has a root between $0$ and $x_{asymp}$.At $x=0$ the following shows $F(0)$ is negative"
      ]
    },
    {
      "cell_type": "code",
      "metadata": {
        "id": "9mPzWh27Spd9",
        "colab": {
          "base_uri": "https://localhost:8080/",
          "height": 38
        },
        "outputId": "633a3821-b946-4e7f-becd-74744477c92b"
      },
      "source": [
        "Fx0 = sp.expand(sp.simplify(Fx.subs(x, 0)))\n",
        "display(Fx0)\n"
      ],
      "execution_count": 13,
      "outputs": [
        {
          "output_type": "display_data",
          "data": {
            "text/latex": "$\\displaystyle - d^{2} k^{2} - 3 d k^{2} + 6 d k + 2 k - 4$",
            "text/plain": [
              "-d**2*k**2 - 3*d*k**2 + 6*d*k + 2*k - 4"
            ]
          },
          "metadata": {}
        }
      ]
    },
    {
      "cell_type": "markdown",
      "metadata": {
        "id": "CVzvCrpqaven"
      },
      "source": [
        "Note $-3dk^2+6dk < 0$,  $-d^2k^2  +2k < 0$ if $k >2, d> 1$, and the case $d=1$ is below which is clearly negative."
      ]
    },
    {
      "cell_type": "code",
      "metadata": {
        "colab": {
          "base_uri": "https://localhost:8080/",
          "height": 38
        },
        "id": "ymqQnMatb3W0",
        "outputId": "b845522d-5489-42f6-d1e6-3e81509a2d0d"
      },
      "source": [
        "display(Fx0.subs(d, 1))\n"
      ],
      "execution_count": 14,
      "outputs": [
        {
          "output_type": "display_data",
          "data": {
            "text/latex": "$\\displaystyle - 4 k^{2} + 8 k - 4$",
            "text/plain": [
              "-4*k**2 + 8*k - 4"
            ]
          },
          "metadata": {}
        }
      ]
    },
    {
      "cell_type": "markdown",
      "metadata": {
        "id": "7wRY9tqFb_RJ"
      },
      "source": [
        "Now $t_1$ is the solution of $e4 = 0$ in terms of the remaining variables,\n",
        "let $x_{asymp}$ be the value of $x$ making the denominator of the expression of $t_1$ vanishes"
      ]
    },
    {
      "cell_type": "code",
      "metadata": {
        "colab": {
          "base_uri": "https://localhost:8080/",
          "height": 56
        },
        "id": "LZi42swqimAz",
        "outputId": "8b4ea5c1-1953-438e-8c76-b9d5b4714664"
      },
      "source": [
        "xasymp = sp.solve(e4.coeff(t1, 1), x)[1]\n",
        "xasymp"
      ],
      "execution_count": 15,
      "outputs": [
        {
          "output_type": "execute_result",
          "data": {
            "text/latex": "$\\displaystyle \\frac{d k + 2 k - 4}{k \\left(3 d - 2\\right)}$",
            "text/plain": [
              "(d*k + 2*k - 4)/(k*(3*d - 2))"
            ]
          },
          "metadata": {},
          "execution_count": 15
        }
      ]
    },
    {
      "cell_type": "markdown",
      "metadata": {
        "id": "l6KBrVxXemW5"
      },
      "source": [
        "Substitute and we see $F(xasym) > 0$ below Thus $F(x)=0$ has a root between $0$ and $x_{asymp}  >0$. From the expression of $t_1$, $t_1> 0$ at that root, and thus $t_1, t_2> 0$ coressponding to a metric."
      ]
    },
    {
      "cell_type": "code",
      "metadata": {
        "colab": {
          "base_uri": "https://localhost:8080/",
          "height": 57
        },
        "id": "GrlFlQQxi_rw",
        "outputId": "8a5b5b35-c173-4c25-c4e1-3a5bc44e17d9"
      },
      "source": [
        "Fxasymp = sp.simplify(Fx.subs(x, xasymp))\n",
        "display(sp.factor(sp.simplify(Fxasymp)))\n",
        "T2 = sp.symbols('T2')\n"
      ],
      "execution_count": 16,
      "outputs": [
        {
          "output_type": "display_data",
          "data": {
            "text/latex": "$\\displaystyle \\frac{8 \\left(k - 2\\right) \\left(k - 1\\right) \\left(d k - 1\\right)}{k \\left(3 d - 2\\right)}$",
            "text/plain": [
              "8*(k - 2)*(k - 1)*(d*k - 1)/(k*(3*d - 2))"
            ]
          },
          "metadata": {}
        }
      ]
    },
    {
      "cell_type": "markdown",
      "metadata": {
        "id": "HHiyF_wJ7cQY"
      },
      "source": [
        "## We have proved the main part of the theorem. Now we show some additional properties. \n"
      ]
    },
    {
      "cell_type": "markdown",
      "metadata": {
        "id": "QBDiGH39HlMC"
      },
      "source": [
        "### First, $t1 \\geq t2 \\geq 1$.\n",
        "We show $xasym < 1$ then $x \\leq 1$. Thus $t1 > t2$. This is clear from the below"
      ]
    },
    {
      "cell_type": "code",
      "metadata": {
        "colab": {
          "base_uri": "https://localhost:8080/",
          "height": 57
        },
        "id": "6g-a-Wll7vW0",
        "outputId": "c726311d-e8b5-462a-ac48-dbbe7fbada11"
      },
      "source": [
        "display(sp.simplify(xasymp-1))\n"
      ],
      "execution_count": 17,
      "outputs": [
        {
          "output_type": "display_data",
          "data": {
            "text/latex": "$\\displaystyle \\frac{2 \\left(- d k + 2 k - 2\\right)}{k \\left(3 d - 2\\right)}$",
            "text/plain": [
              "2*(-d*k + 2*k - 2)/(k*(3*d - 2))"
            ]
          },
          "metadata": {}
        }
      ]
    },
    {
      "cell_type": "markdown",
      "metadata": {
        "id": "8ISm3e4uD317"
      },
      "source": [
        "We show $t_2 \\geq 1$ to prove $t_2 > t_1 > 1$. We derive the equation for $t_2$"
      ]
    },
    {
      "cell_type": "code",
      "metadata": {
        "colab": {
          "base_uri": "https://localhost:8080/",
          "height": 212
        },
        "id": "NlMK8_8N8o3E",
        "outputId": "42dff5dd-8dc2-4fd0-8405-01acc599c6d6"
      },
      "source": [
        "T2 = sp.symbols('T2')\n",
        "xt2 = sp.solve(t1ax*x-T2, x)[0]\n",
        "display(xt2)\n",
        "\n",
        "eqT2 = sp.factor(sp.expand(sp.simplify(Fx.subs(x, xt2)*(3*d*k*T2 - 2*k*T2 +2*k-2)*(3*d*k*T2 - 2*k*T2 +2*k-2)*(3*d*k*T2 - 2*k*T2 +2*k-2)))).args[3]\n",
        "print(\"equation for t2\")\n",
        "display(eqT2)\n",
        "print(\"leading coefficient of equation for t2\")\n",
        "display(sp.factor(eqT2.coeff(T2, 3)))\n",
        "print(\"value of eqT2 at t2=1\")\n",
        "display(sp.factor(eqT2.subs(T2, 1)))\n"
      ],
      "execution_count": 18,
      "outputs": [
        {
          "output_type": "display_data",
          "data": {
            "text/latex": "$\\displaystyle \\frac{T_{2} d k + 2 T_{2} k - 4 T_{2} - 2 k + 2}{3 T_{2} d k - 2 T_{2} k + 2 k - 2}$",
            "text/plain": [
              "(T2*d*k + 2*T2*k - 4*T2 - 2*k + 2)/(3*T2*d*k - 2*T2*k + 2*k - 2)"
            ]
          },
          "metadata": {}
        },
        {
          "output_type": "stream",
          "name": "stdout",
          "text": [
            "equation for t2\n"
          ]
        },
        {
          "output_type": "display_data",
          "data": {
            "text/latex": "$\\displaystyle - 9 T_{2}^{3} d^{2} k^{3} + 18 T_{2}^{3} d^{2} k^{2} + 12 T_{2}^{3} d k^{3} - 24 T_{2}^{3} d k^{2} - 4 T_{2}^{3} k^{3} + 8 T_{2}^{3} k^{2} + 10 T_{2}^{2} d^{3} k^{3} + T_{2}^{2} d^{2} k^{3} - 26 T_{2}^{2} d^{2} k^{2} - 16 T_{2}^{2} d k^{3} + 44 T_{2}^{2} d k^{2} - 8 T_{2}^{2} d k + 12 T_{2}^{2} k^{3} - 32 T_{2}^{2} k^{2} + 16 T_{2}^{2} k + 8 T_{2} d^{2} k^{3} - 8 T_{2} d^{2} k^{2} - 4 T_{2} d k^{3} - 4 T_{2} d k^{2} + 8 T_{2} d k - 12 T_{2} k^{3} + 40 T_{2} k^{2} - 36 T_{2} k + 8 T_{2} + 8 d k^{3} - 16 d k^{2} + 8 d k + 4 k^{3} - 16 k^{2} + 20 k - 8$",
            "text/plain": [
              "-9*T2**3*d**2*k**3 + 18*T2**3*d**2*k**2 + 12*T2**3*d*k**3 - 24*T2**3*d*k**2 - 4*T2**3*k**3 + 8*T2**3*k**2 + 10*T2**2*d**3*k**3 + T2**2*d**2*k**3 - 26*T2**2*d**2*k**2 - 16*T2**2*d*k**3 + 44*T2**2*d*k**2 - 8*T2**2*d*k + 12*T2**2*k**3 - 32*T2**2*k**2 + 16*T2**2*k + 8*T2*d**2*k**3 - 8*T2*d**2*k**2 - 4*T2*d*k**3 - 4*T2*d*k**2 + 8*T2*d*k - 12*T2*k**3 + 40*T2*k**2 - 36*T2*k + 8*T2 + 8*d*k**3 - 16*d*k**2 + 8*d*k + 4*k**3 - 16*k**2 + 20*k - 8"
            ]
          },
          "metadata": {}
        },
        {
          "output_type": "stream",
          "name": "stdout",
          "text": [
            "leading coefficient of equation for t2\n"
          ]
        },
        {
          "output_type": "display_data",
          "data": {
            "text/latex": "$\\displaystyle - k^{2} \\left(3 d - 2\\right)^{2} \\left(k - 2\\right)$",
            "text/plain": [
              "-k**2*(3*d - 2)**2*(k - 2)"
            ]
          },
          "metadata": {}
        },
        {
          "output_type": "stream",
          "name": "stdout",
          "text": [
            "value of eqT2 at t2=1\n"
          ]
        },
        {
          "output_type": "display_data",
          "data": {
            "text/latex": "$\\displaystyle 2 d k \\left(5 d^{2} k^{2} - 8 d k + 4\\right)$",
            "text/plain": [
              "2*d*k*(5*d**2*k**2 - 8*d*k + 4)"
            ]
          },
          "metadata": {}
        }
      ]
    },
    {
      "cell_type": "markdown",
      "metadata": {
        "id": "A8kk-Oyu9LgB"
      },
      "source": [
        "Thus, $t2$ satisfies equation $eqT2=0$, with $eqT2(1) > 0$ with negative leading coefficient. Thus $T2 > 1$ if we can prove $T2$ has only one root. This follows from the proof that $F(x)$ has only one root which comes below"
      ]
    },
    {
      "cell_type": "markdown",
      "metadata": {
        "id": "1dh9g-dJl0RL"
      },
      "source": [
        "# We show the equation $F(x) = 0$ has only one real root when $d > 2$ by computing the discriminant as below"
      ]
    },
    {
      "cell_type": "code",
      "metadata": {
        "colab": {
          "base_uri": "https://localhost:8080/",
          "height": 58
        },
        "id": "UNnQPDWOmRS1",
        "outputId": "dddd35f8-b99b-4a0d-d095-2c8ef38ca4c8"
      },
      "source": [
        " Fxc3 = Fx.coeff(x, 3)\n",
        " Fxc2 = Fx.coeff(x, 2)\n",
        " Fxc1 = Fx.coeff(x, 1)\n",
        " Fxc0 = Fx.coeff(x, 0)\n",
        " disc = 18*Fxc3*Fxc2*Fxc1*Fxc0- 4*Fxc2**3*Fxc0 + Fxc2**2*Fxc1**2 - 4*Fxc3*Fxc1**3 - 27*Fxc3**2*Fxc0**2\n",
        " discf = sp.factor(sp.expand(disc))\n",
        " display(discf)\n",
        " "
      ],
      "execution_count": 19,
      "outputs": [
        {
          "output_type": "display_data",
          "data": {
            "text/latex": "$\\displaystyle - 4 d k^{2} \\left(100 d^{7} k^{6} + 120 d^{6} k^{6} - 720 d^{6} k^{5} - 91 d^{5} k^{6} - 356 d^{5} k^{5} + 1972 d^{5} k^{4} - 419 d^{4} k^{6} + 2214 d^{4} k^{5} - 2372 d^{4} k^{4} - 1528 d^{4} k^{3} + 318 d^{3} k^{6} - 742 d^{3} k^{5} - 1488 d^{3} k^{4} + 3464 d^{3} k^{3} + 128 d^{3} k^{2} - 468 d^{2} k^{5} + 1780 d^{2} k^{4} - 1320 d^{2} k^{3} - 720 d^{2} k^{2} - 32 d^{2} k + 152 d k^{4} - 616 d k^{3} + 672 d k^{2} - 160 d k + 128 d + 16 k^{3} - 96 k^{2} + 192 k - 128\\right)$",
            "text/plain": [
              "-4*d*k**2*(100*d**7*k**6 + 120*d**6*k**6 - 720*d**6*k**5 - 91*d**5*k**6 - 356*d**5*k**5 + 1972*d**5*k**4 - 419*d**4*k**6 + 2214*d**4*k**5 - 2372*d**4*k**4 - 1528*d**4*k**3 + 318*d**3*k**6 - 742*d**3*k**5 - 1488*d**3*k**4 + 3464*d**3*k**3 + 128*d**3*k**2 - 468*d**2*k**5 + 1780*d**2*k**4 - 1320*d**2*k**3 - 720*d**2*k**2 - 32*d**2*k + 152*d*k**4 - 616*d*k**3 + 672*d*k**2 - 160*d*k + 128*d + 16*k**3 - 96*k**2 + 192*k - 128)"
            ]
          },
          "metadata": {}
        }
      ]
    },
    {
      "cell_type": "code",
      "metadata": {
        "colab": {
          "base_uri": "https://localhost:8080/",
          "height": 80
        },
        "id": "5M9JGnNvOOfM",
        "outputId": "ac1b4bce-7577-4ae5-8ad0-e7fd9ca4b874"
      },
      "source": [
        "# print(discf.args)\n",
        "discf3 = discf.args[3]\n",
        "discf3"
      ],
      "execution_count": 20,
      "outputs": [
        {
          "output_type": "execute_result",
          "data": {
            "text/latex": "$\\displaystyle 100 d^{7} k^{6} + 120 d^{6} k^{6} - 720 d^{6} k^{5} - 91 d^{5} k^{6} - 356 d^{5} k^{5} + 1972 d^{5} k^{4} - 419 d^{4} k^{6} + 2214 d^{4} k^{5} - 2372 d^{4} k^{4} - 1528 d^{4} k^{3} + 318 d^{3} k^{6} - 742 d^{3} k^{5} - 1488 d^{3} k^{4} + 3464 d^{3} k^{3} + 128 d^{3} k^{2} - 468 d^{2} k^{5} + 1780 d^{2} k^{4} - 1320 d^{2} k^{3} - 720 d^{2} k^{2} - 32 d^{2} k + 152 d k^{4} - 616 d k^{3} + 672 d k^{2} - 160 d k + 128 d + 16 k^{3} - 96 k^{2} + 192 k - 128$",
            "text/plain": [
              "100*d**7*k**6 + 120*d**6*k**6 - 720*d**6*k**5 - 91*d**5*k**6 - 356*d**5*k**5 + 1972*d**5*k**4 - 419*d**4*k**6 + 2214*d**4*k**5 - 2372*d**4*k**4 - 1528*d**4*k**3 + 318*d**3*k**6 - 742*d**3*k**5 - 1488*d**3*k**4 + 3464*d**3*k**3 + 128*d**3*k**2 - 468*d**2*k**5 + 1780*d**2*k**4 - 1320*d**2*k**3 - 720*d**2*k**2 - 32*d**2*k + 152*d*k**4 - 616*d*k**3 + 672*d*k**2 - 160*d*k + 128*d + 16*k**3 - 96*k**2 + 192*k - 128"
            ]
          },
          "metadata": {},
          "execution_count": 20
        }
      ]
    },
    {
      "cell_type": "markdown",
      "metadata": {
        "id": "GTrqhe41RM9a"
      },
      "source": [
        "Thee highest coefficient is $d^3(100d^4 + 120d^3 - 91d^2 - 419d + 318)k^6$"
      ]
    },
    {
      "cell_type": "code",
      "metadata": {
        "colab": {
          "base_uri": "https://localhost:8080/",
          "height": 58
        },
        "id": "8CcmH2vNThRc",
        "outputId": "e70208ee-b931-45a5-f0bf-f1564b770c5d"
      },
      "source": [
        "hdterm = sp.factor(discf3.coeff(k, 6))\n",
        "display(hdterm)\n",
        "discf3.coeff(k, 6).subs(d, 1)"
      ],
      "execution_count": 21,
      "outputs": [
        {
          "output_type": "display_data",
          "data": {
            "text/latex": "$\\displaystyle d^{3} \\left(100 d^{4} + 120 d^{3} - 91 d^{2} - 419 d + 318\\right)$",
            "text/plain": [
              "d**3*(100*d**4 + 120*d**3 - 91*d**2 - 419*d + 318)"
            ]
          },
          "metadata": {}
        },
        {
          "output_type": "execute_result",
          "data": {
            "text/latex": "$\\displaystyle 28$",
            "text/plain": [
              "28"
            ]
          },
          "metadata": {},
          "execution_count": 21
        }
      ]
    },
    {
      "cell_type": "markdown",
      "metadata": {
        "id": "p7sgMdRKRM5x"
      },
      "source": [
        "The coefficient $d^3(100d^4 + 120d^3 - 91d^2 - 419d + 318)$, as a function of $d$, is increasing after $d=1$, valued at $1$=28. Thus $discf3$ is positive when $k$ is sufficiently large"
      ]
    },
    {
      "cell_type": "code",
      "metadata": {
        "colab": {
          "base_uri": "https://localhost:8080/"
        },
        "id": "WhyjS1NbR4lw",
        "outputId": "414dc4c6-bf3a-4887-cd2e-2bd6bbf5cef2"
      },
      "source": [
        "import numpy as np\n",
        "hdterm_arr = np.zeros(8)\n",
        "for i in range(8):\n",
        "  hdterm_arr[i] = sp.expand(hdterm).coeff(d, 7-i)\n",
        "  \n",
        "hdterm_poly = np.poly1d(hdterm_arr)\n",
        "print(\"derivative has root smaller than 1\")\n",
        "print(np.polyder(hdterm_poly).r)\n",
        "print(hdterm_poly(1))"
      ],
      "execution_count": 22,
      "outputs": [
        {
          "output_type": "stream",
          "name": "stdout",
          "text": [
            "derivative has root smaller than 1\n",
            "[-1.25496339+0.97689469j -1.25496339-0.97689469j  0.83950233+0.j\n",
            "  0.64185301+0.j          0.        +0.j          0.        +0.j        ]\n",
            "28.0\n"
          ]
        }
      ]
    },
    {
      "cell_type": "markdown",
      "metadata": {
        "id": "vAl7Bee6UsvL"
      },
      "source": [
        "We also show $d^6/hdterm$ is decreasing after $d=2$. The numerator of the derivative is\n",
        "$6d^5(hdterm) - (hdterm)'d6$ and we show the real roots are left of $1$. As mentioned, for $d=1$ the metrics b), c), d) are indentical as demonstrated below, so we will consider $d\\geq 2$."
      ]
    },
    {
      "cell_type": "code",
      "metadata": {
        "colab": {
          "base_uri": "https://localhost:8080/",
          "height": 405
        },
        "id": "LfE-w80zVApI",
        "outputId": "c9bec371-af87-4261-d2cd-1a26ad4ada71"
      },
      "source": [
        "d6 = np.poly1d(np.array([1] + 6*[0]))\n",
        "numer = np.polyder(d6)*hdterm_poly - np.polyder(hdterm_poly)*d6\n",
        "print(numer)\n",
        "print(\"Derivative of the ratio has roots less than 1 and the function is decreasing after 1\")\n",
        "print(numer.r)\n",
        "import matplotlib.pyplot as plt\n",
        "xrr = .9+ np.arange(50)*.01\n",
        "yrr = d6(xrr)/hdterm_poly(xrr)\n",
        "plt.plot(xrr, yrr)"
      ],
      "execution_count": 23,
      "outputs": [
        {
          "output_type": "stream",
          "name": "stdout",
          "text": [
            "      12      10       9       8\n",
            "-100 x  - 91 x  - 838 x + 954 x\n",
            "Derivative of the ratio has roots less than 1 and the function is decreasing after 1\n",
            "[-2.20380901+0.j          0.62900565+2.04482318j  0.62900565-2.04482318j\n",
            "  0.94579771+0.j          0.        +0.j          0.        +0.j\n",
            "  0.        +0.j          0.        +0.j          0.        +0.j\n",
            "  0.        +0.j          0.        +0.j          0.        +0.j        ]\n"
          ]
        },
        {
          "output_type": "execute_result",
          "data": {
            "text/plain": [
              "[<matplotlib.lines.Line2D at 0x7f911b212ad0>]"
            ]
          },
          "metadata": {},
          "execution_count": 23
        },
        {
          "output_type": "display_data",
          "data": {
            "image/png": "[encoded data removed]",
            "text/plain": [
              "<Figure size 432x288 with 1 Axes>"
            ]
          },
          "metadata": {
            "needs_background": "light"
          }
        }
      ]
    },
    {
      "cell_type": "markdown",
      "metadata": {
        "id": "bgjpXM-lUgMD"
      },
      "source": [
        "The following are negative coefficients of the third factor discf3"
      ]
    },
    {
      "cell_type": "code",
      "metadata": {
        "colab": {
          "base_uri": "https://localhost:8080/",
          "height": 272
        },
        "id": "M1NZPyBTPxGq",
        "outputId": "a89aa3b3-4d20-489c-d09c-cba6258f6f53"
      },
      "source": [
        "discf3\n",
        "dcoefs = {}\n",
        "for ii in range(7, -1, -1):\n",
        "  for jj in range(7, -1, -1):\n",
        "    if discf3.coeff(d, ii).coeff(k, jj) < 0 and jj != 6:\n",
        "      dcoefs[(ii, jj)] = discf3.coeff(d, ii).coeff(k, jj)\n",
        "display(dcoefs)\n",
        "print(len(dcoefs))"
      ],
      "execution_count": 24,
      "outputs": [
        {
          "output_type": "display_data",
          "data": {
            "text/plain": [
              "{(0, 0): -128,\n",
              " (0, 2): -96,\n",
              " (1, 1): -160,\n",
              " (1, 3): -616,\n",
              " (2, 1): -32,\n",
              " (2, 2): -720,\n",
              " (2, 3): -1320,\n",
              " (2, 5): -468,\n",
              " (3, 4): -1488,\n",
              " (3, 5): -742,\n",
              " (4, 3): -1528,\n",
              " (4, 4): -2372,\n",
              " (5, 5): -356,\n",
              " (6, 5): -720}"
            ]
          },
          "metadata": {}
        },
        {
          "output_type": "stream",
          "name": "stdout",
          "text": [
            "14\n"
          ]
        }
      ]
    },
    {
      "cell_type": "markdown",
      "metadata": {
        "id": "hzz3QQ4KQ1JK"
      },
      "source": [
        "These are all the negative terms, there are $dclen=14$ of them. Compare $1/dclen$ times the highest term $hdterm$ corresponding to $k^6$ with each of them. After $d\\geq 2$ (in fact $d \\geq 1$) the function $(dclen) d^6/hdterm$ is decreasing, thus $dclen d^i/hdterm$ are decreasing for $0\\leq i\\leq 6$. We try to solve for $k$ such that \n",
        "$$\\frac{hdterm}{dclen} k^6 > -dcoefs[ii, jj] d^{ii} k^{jj}\n",
        "$$\n",
        "for all $d$. and all terms with $ dcoefs[ii, jj] $ negative. Thus, for $k$ satisfying\n",
        "$$k > (\\frac{-dclen *dcoefs[ii, jj] d^{ii}}{hdterm})^{1/(6-jj)}_{|d=2}$$\n",
        "the condition is satisfied. We need to verify case by case when $k < (\\frac{-dclen *dcoefs[ii, jj] d^{ii}}{hdterm})^{1/(6-jj)}_{|d=2}$"
      ]
    },
    {
      "cell_type": "code",
      "metadata": {
        "colab": {
          "base_uri": "https://localhost:8080/"
        },
        "id": "AAgjETLQZn_I",
        "outputId": "f9f34c2c-a75a-41b9-e29d-82cc94bb96ee"
      },
      "source": [
        "kvals = []\n",
        "dclen = len(dcoefs)\n",
        "for ii, jj in dcoefs:\n",
        "  # print(ii, jj)\n",
        "  kvals.append(((-dclen*dcoefs[(ii, jj)]*d**ii/hdterm).subs(d, 2))**(1/(6-jj)))\n",
        "kvals"
      ],
      "execution_count": 25,
      "outputs": [
        {
          "output_type": "execute_result",
          "data": {
            "text/plain": [
              "[48.1145584725537,\n",
              " 11.8949880668258,\n",
              " 6.29505241949584,\n",
              " 2.94443829241872,\n",
              " 6.19809069212411,\n",
              " 3.52556297236007,\n",
              " 1.95465393794749,\n",
              " 1.76657732736968,\n",
              " 1.31685855816703,\n",
              " 0.668643767426008,\n",
              " 1.08757257457526,\n",
              " 0.803124366684776,\n",
              " 0.562676551166452,\n",
              " 0.715037799300346]"
            ]
          },
          "metadata": {},
          "execution_count": 25
        }
      ]
    },
    {
      "cell_type": "markdown",
      "metadata": {
        "id": "9S-yzJ5DQ1N0"
      },
      "source": [
        "We need to compute the factor $discf3$ up to $k=49$ showing it is positive, then the discriminant is negative. This is done by showing for fixed $k$ in $\\{3,\\cdots, 49\\}$ the polynomial $discf3$ in $d$ have only real roots less than 1"
      ]
    },
    {
      "cell_type": "code",
      "metadata": {
        "colab": {
          "base_uri": "https://localhost:8080/",
          "height": 892
        },
        "id": "D9kMk1N6PxE3",
        "outputId": "3661206e-409d-481f-ffb1-5ac7f6444db8"
      },
      "source": [
        "for i in range(3, 50):\n",
        "  fd = discf3.subs(k, i)\n",
        "  nfd = np.zeros(8)\n",
        "  for jj in range(8):\n",
        "    nfd[jj] = fd.coeff(d, 7-jj)\n",
        "    roots = np.poly1d(nfd).r    \n",
        "  if i < 5:\n",
        "    display(i, fd)\n",
        "  print(i, roots[np.where(np.abs(roots.imag)< 1e-3)])"
      ],
      "execution_count": 26,
      "outputs": [
        {
          "output_type": "display_data",
          "data": {
            "text/plain": [
              "3"
            ]
          },
          "metadata": {}
        },
        {
          "output_type": "display_data",
          "data": {
            "text/latex": "$\\displaystyle 72900 d^{7} - 87480 d^{6} + 6885 d^{5} - 837 d^{4} + 25668 d^{3} - 11760 d^{2} + 1376 d + 16$",
            "text/plain": [
              "72900*d**7 - 87480*d**6 + 6885*d**5 - 837*d**4 + 25668*d**3 - 11760*d**2 + 1376*d + 16"
            ]
          },
          "metadata": {}
        },
        {
          "output_type": "stream",
          "name": "stdout",
          "text": [
            "3 [-0.01063822+0.j]\n"
          ]
        },
        {
          "output_type": "display_data",
          "data": {
            "text/plain": [
              "4"
            ]
          },
          "metadata": {}
        },
        {
          "output_type": "display_data",
          "data": {
            "text/latex": "$\\displaystyle 409600 d^{7} - 245760 d^{6} - 232448 d^{5} - 154112 d^{4} + 385536 d^{3} - 119680 d^{2} + 9728 d + 128$",
            "text/plain": [
              "409600*d**7 - 245760*d**6 - 232448*d**5 - 154112*d**4 + 385536*d**3 - 119680*d**2 + 9728*d + 128"
            ]
          },
          "metadata": {}
        },
        {
          "output_type": "stream",
          "name": "stdout",
          "text": [
            "4 [-0.01147715+0.j]\n",
            "5 [-0.01076758+0.j]\n",
            "6 [-0.00982606+0.j]\n",
            "7 [-0.00893393+0.j]\n",
            "8 [-0.0081481+0.j]\n",
            "9 [-0.00746912+0.j]\n",
            "10 [-0.00688386+0.j]\n",
            "11 [-0.00637752+0.j]\n",
            "12 [-0.00593684+0.j]\n",
            "13 [-0.00555076+0.j]\n",
            "14 [-0.00521026+0.j]\n",
            "15 [-0.00490805+0.j]\n",
            "16 [-0.00463823+0.j]\n",
            "17 [-0.004396+0.j]\n",
            "18 [-0.00417741+0.j]\n",
            "19 [-0.00397924+0.j]\n",
            "20 [-0.00379879+0.j]\n",
            "21 [-0.00363383+0.j]\n",
            "22 [-0.00348246+0.j]\n",
            "23 [-0.00334309+0.j]\n",
            "24 [-0.00321436+0.j]\n",
            "25 [-0.00309511+0.j]\n",
            "26 [-0.00298434+0.j]\n",
            "27 [-0.00288117+0.j]\n",
            "28 [-0.00278486+0.j]\n",
            "29 [-0.00269475+0.j]\n",
            "30 [-0.00261027+0.j]\n",
            "31 [-0.00253089+0.j]\n",
            "32 [-0.00245619+0.j]\n",
            "33 [-0.00238575+0.j]\n",
            "34 [-0.00231922+0.j]\n",
            "35 [-0.00225629+0.j]\n",
            "36 [-0.00219668+0.j]\n",
            "37 [-0.00214013+0.j]\n",
            "38 [-0.0020864+0.j]\n",
            "39 [-0.00203531+0.j]\n",
            "40 [-0.00198664+0.j]\n",
            "41 [-0.00194025+0.j]\n",
            "42 [-0.00189597+0.j]\n",
            "43 [-0.00185366+0.j]\n",
            "44 [-0.0018132+0.j]\n",
            "45 [-0.00177446+0.j]\n",
            "46 [-0.00173733+0.j]\n",
            "47 [-0.00170173+0.j]\n",
            "48 [-0.00166756+0.j]\n",
            "49 [-0.00163472+0.j]\n"
          ]
        }
      ]
    },
    {
      "cell_type": "markdown",
      "metadata": {
        "id": "RpyUh53w00e2"
      },
      "source": [
        "Thus we have showed $F(x)$ has only one real root for $d\\geq 1, k\\geq 3$"
      ]
    },
    {
      "cell_type": "markdown",
      "metadata": {
        "id": "hjBaxynLZN8c"
      },
      "source": [
        "## We could verify at $d=1$ the b), c), d) metrics are identical. It is clear b) and c) are the same in that case, for d) we substitute $1$ to $F(x)$ and evaluate\n",
        "\n"
      ]
    },
    {
      "cell_type": "code",
      "metadata": {
        "colab": {
          "base_uri": "https://localhost:8080/",
          "height": 104
        },
        "id": "B4Ls7Ob3FogC",
        "outputId": "4afd7811-1117-4122-e961-8af0243bf771"
      },
      "source": [
        "display(sp.solve(Fx.subs(d, 1), x))\n",
        "xd1 = sp.solve(Fx.subs(d, 1), x)[0]\n",
        "t1d1 = sp.simplify(t1ax.subs(d, 1).subs(x, xd1))\n",
        "display(t1d1)"
      ],
      "execution_count": 27,
      "outputs": [
        {
          "output_type": "display_data",
          "data": {
            "text/plain": [
              "[(2*k - 2)/k,\n",
              " (k - sqrt(-7*k**2 + 4*k + 4) - 2)/(2*k),\n",
              " (k + sqrt(-7*k**2 + 4*k + 4) - 2)/(2*k)]"
            ]
          },
          "metadata": {}
        },
        {
          "output_type": "display_data",
          "data": {
            "text/latex": "$\\displaystyle \\frac{3 k - 2}{k - 2}$",
            "text/plain": [
              "(3*k - 2)/(k - 2)"
            ]
          },
          "metadata": {}
        }
      ]
    },
    {
      "cell_type": "markdown",
      "metadata": {
        "id": "SIgQpV22FuAg"
      },
      "source": [
        "We now verify the roots are different if $d \\geq 2$. We only verify the values of $t_1$ are different, then use $t_1>t_2>1$ in this case showing at least the metrics have distinct parameters.\n",
        " First, it is easy to see $t_1$ from b) and c) are not $1$. Compute the difference between b and c then factorize.\n"
      ]
    },
    {
      "cell_type": "code",
      "metadata": {
        "colab": {
          "base_uri": "https://localhost:8080/",
          "height": 38
        },
        "id": "g6hezdWgFtYw",
        "outputId": "13897315-bc20-4577-b8d3-7ecb8f748c6f"
      },
      "source": [
        "sp.simplify((((2*d+1)*k - 2)/(k-2) - t1c)*(k-2)*(d*k-2))"
      ],
      "execution_count": 28,
      "outputs": [
        {
          "output_type": "execute_result",
          "data": {
            "text/latex": "$\\displaystyle 2 d k^{2} \\left(d - 1\\right)$",
            "text/plain": [
              "2*d*k**2*(d - 1)"
            ]
          },
          "metadata": {},
          "execution_count": 28
        }
      ]
    },
    {
      "cell_type": "markdown",
      "metadata": {
        "id": "H-ce8AB7G4fu"
      },
      "source": [
        "This is zero if $d=1$ only, or $q=2$. Now we show $x=1$ is not a solution of $F(x) = 0$. This comes from the factorization, and $d \\geq 2, k\\geq 3$"
      ]
    },
    {
      "cell_type": "code",
      "metadata": {
        "colab": {
          "base_uri": "https://localhost:8080/",
          "height": 38
        },
        "id": "E0L0TXgkHI3H",
        "outputId": "3c7a3519-3004-4b61-844f-ebff1af8c10c"
      },
      "source": [
        "sp.factor(Fx.subs(x, 1))"
      ],
      "execution_count": 29,
      "outputs": [
        {
          "output_type": "execute_result",
          "data": {
            "text/latex": "$\\displaystyle 2 d k \\left(2 d k - 3 k + 2\\right)$",
            "text/plain": [
              "2*d*k*(2*d*k - 3*k + 2)"
            ]
          },
          "metadata": {},
          "execution_count": 29
        }
      ]
    },
    {
      "cell_type": "markdown",
      "metadata": {
        "id": "c5x_b7-1HvvM"
      },
      "source": [
        "This covers the case $x=1$, or both a) and b). Next we show solution from c) does not satisfy $F(x) = 0$."
      ]
    },
    {
      "cell_type": "code",
      "metadata": {
        "colab": {
          "base_uri": "https://localhost:8080/",
          "height": 38
        },
        "id": "QVlWPH8lHI1T",
        "outputId": "939a3d5c-b432-4186-f30a-de8436fd9f83"
      },
      "source": [
        "subs1 = -sp.simplify(Fx.subs(x, x1c[0])*(3*d*k - 2)*(3*d*k  - 2)*(3*d*k  - 2))\n",
        "sp.simplify(subs1/16)"
      ],
      "execution_count": 30,
      "outputs": [
        {
          "output_type": "execute_result",
          "data": {
            "text/latex": "$\\displaystyle d k \\left(5 d^{3} k^{4} - 5 d^{3} k^{3} - 13 d^{2} k^{3} + 13 d^{2} k^{2} + 12 d k^{2} - 12 d k - 4 k + 4\\right)$",
            "text/plain": [
              "d*k*(5*d**3*k**4 - 5*d**3*k**3 - 13*d**2*k**3 + 13*d**2*k**2 + 12*d*k**2 - 12*d*k - 4*k + 4)"
            ]
          },
          "metadata": {},
          "execution_count": 30
        }
      ]
    },
    {
      "cell_type": "markdown",
      "metadata": {
        "id": "vLEVcD6kICi7"
      },
      "source": [
        "The above is not zero as $k$ is then a divisor of $4$, and thus $k=4$ as we assume $k\\geq 3$. In that case the expression reduces to the following which is clearly positive."
      ]
    },
    {
      "cell_type": "code",
      "metadata": {
        "colab": {
          "base_uri": "https://localhost:8080/",
          "height": 38
        },
        "id": "WtVAhvNEIGi-",
        "outputId": "25da7602-dba6-4e6d-f84b-a434674990a6"
      },
      "source": [
        "sp.simplify(subs1/16).subs(k, 4)"
      ],
      "execution_count": 31,
      "outputs": [
        {
          "output_type": "execute_result",
          "data": {
            "text/latex": "$\\displaystyle 4 d \\left(960 d^{3} - 624 d^{2} + 144 d - 12\\right)$",
            "text/plain": [
              "4*d*(960*d**3 - 624*d**2 + 144*d - 12)"
            ]
          },
          "metadata": {},
          "execution_count": 31
        }
      ]
    }
  ]
}