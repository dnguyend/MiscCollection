{
  "nbformat": 4,
  "nbformat_minor": 0,
  "metadata": {
    "colab": {
      "provenance": [],
      "collapsed_sections": [],
      "include_colab_link": true
    },
    "kernelspec": {
      "display_name": "Julia",
      "language": "julia",
      "name": "julia"
    },
    "language_info": {
      "file_extension": ".jl",
      "mimetype": "application/julia",
      "name": "julia"
    },
    "accelerator": "GPU"
  },
  "cells": [
    {
      "cell_type": "markdown",
      "metadata": {
        "id": "view-in-github",
        "colab_type": "text"
      },
      "source": [
        "<a href=\"https://colab.research.google.com/github/dnguyend/MiscCollection/blob/main/MiscStiefelLogTest/misc_stiefel_frechet/JuliaStiefelLogMiminizeLBFGS.ipynb\" target=\"_parent\"><img src=\"https://colab.research.google.com/assets/colab-badge.svg\" alt=\"Open In Colab\"/></a>"
      ]
    },
    {
      "cell_type": "markdown",
      "source": [
        "## Light LBFGS solver for Stiefel Logarithm with Frechet derivatives\n",
        "# The dependency on Optim has been removed.\n",
        "* We implemented in Julia a light version of LBFGS adapting [minFunc](https://www.cs.ubc.ca/~schmidtm/Software/minFunc.html). This solver, with a simple Wolfe line search is less robust than (Optim + More'- Thuente line search), but seems sufficient for our purpose. \n",
        "* We moved the test result directory to a new folder in the repository [MiscCollection](https://github.com/dnguyend/MiscCollection/tree/main/MiscStiefelLogTest/misc_stiefel_frechet) to keep Manifolds.jl clean.\n",
        "* One modification versus the method described in [[1]](https://link.springer.com/article/10.1007/s10957-022-02012-3) is we call LBFGS to optimize up to a distance *pretol*. After that we just run a simple descent based on the distance. This modification help speed up the algorithm.\n",
        "* The algorithm, with customized LBFGS compares well with the log function for StiefelSubmersionMetric. However we notice when both the manifold size and distance are large, the production version of Log seems to have an advantage.\n",
        "  * For longer distance, a pretol of 1e-7 produces better result (previously we used 1e-5 with the Optim package)\n",
        "\n",
        "[1] Nguyen, D. Closed-form Geodesics and Optimization for Riemannian Logarithms of Stiefel and Flag Manifolds. J Optim Theory Appl 194, 142–166 (2022). https://doi.org/10.1007/s10957-022-02012-3\n"
      ],
      "metadata": {
        "id": "UbZ9khTHt3Mq"
      }
    },
    {
      "cell_type": "markdown",
      "metadata": {
        "id": "tQ1r1bbb0yBv"
      },
      "source": [
        "\n",
        "## The workbook could be viewed as is, but could also be run in a colab environment.\n",
        "## Instructions to run the workbook\n",
        "\n",
        "# <img src=\"https://github.com/JuliaLang/julia-logo-graphics/raw/master/images/julia-logo-color.png\" height=\"100\" /> _Colab \n",
        "\n",
        "1. Execute the following cell (click on it and press Ctrl+Enter) to install Julia, IJulia and other packages (if needed, update `JULIA_VERSION` and the other parameters). **This takes a couple of minutes.**\n",
        "2. **Reload this page (press Ctrl+R, or ⌘+R, or the F5 key) and continue to the next section.**\n",
        "\n",
        "_Notes_:\n",
        "* If your Colab Runtime gets reset (e.g., due to inactivity), repeat steps 1 and 2.\n",
        "* After installation, if you want to change the Julia version or activate/deactivate the GPU, you will need to reset the Runtime: _Runtime_ > _Factory reset runtime_ and repeat steps 1 and 2."
      ]
    },
    {
      "cell_type": "code",
      "metadata": {
        "id": "GIeFXS0F0zww",
        "colab": {
          "base_uri": "https://localhost:8080/"
        },
        "outputId": "5546f560-ca40-4a17-aef7-f22087c33c15"
      },
      "source": [
        "%%shell\n",
        "# set -e\n",
        "\n",
        "#---------------------------------------------------#\n",
        "JULIA_VERSION=\"1.8.2\" # any version ≥ 0.7.0\n",
        "JULIA_PACKAGES=\"IJulia BenchmarkTools Plots\"\n",
        "JULIA_PACKAGES_IF_GPU=\"CUDA\" # or CuArrays for older Julia versions\n",
        "JULIA_NUM_THREADS=2\n",
        "#---------------------------------------------------#\n",
        "\n",
        "if [ -z `which julia` ]; then\n",
        "  # Install Julia\n",
        "  JULIA_VER=`cut -d '.' -f -2 <<< \"$JULIA_VERSION\"`\n",
        "  echo \"Installing Julia $JULIA_VERSION on the current Colab Runtime...\"\n",
        "  BASE_URL=\"https://julialang-s3.julialang.org/bin/linux/x64\"\n",
        "  URL=\"$BASE_URL/$JULIA_VER/julia-$JULIA_VERSION-linux-x86_64.tar.gz\"\n",
        "  wget -nv $URL -O /tmp/julia.tar.gz # -nv means \"not verbose\"\n",
        "  tar -x -f /tmp/julia.tar.gz -C /usr/local --strip-components 1\n",
        "  rm /tmp/julia.tar.gz\n",
        "\n",
        "  # Install Packages\n",
        "  GPU_LIST=`nvidia-smi -L 2> /dev/null`\n",
        "  if [ \"$?\" -eq \"0\" ]; then\n",
        "    JULIA_PACKAGES=\"$JULIA_PACKAGES $JULIA_PACKAGES_IF_GPU\"\n",
        "  fi\n",
        "  for PKG in `echo $JULIA_PACKAGES`; do\n",
        "    echo \"Installing Julia package $PKG...\"\n",
        "    julia -e 'using Pkg; pkg\"add '$PKG'; precompile;\"' &> /dev/null\n",
        "  done\n",
        "\n",
        "  # Install kernel and rename it to \"julia\"\n",
        "  echo \"Installing IJulia kernel...\"\n",
        "  julia -e 'using IJulia; IJulia.installkernel(\"julia\", env=Dict(\n",
        "      \"JULIA_NUM_THREADS\"=>\"'\"$JULIA_NUM_THREADS\"'\"))'\n",
        "  KERNEL_DIR=`julia -e \"using IJulia; print(IJulia.kerneldir())\"`\n",
        "  KERNEL_NAME=`ls -d \"$KERNEL_DIR\"/julia*`\n",
        "  mv -f $KERNEL_NAME \"$KERNEL_DIR\"/julia  \n",
        "\n",
        "  echo ''\n",
        "  echo \"Successfully installed `julia -v`!\"\n",
        "  echo \"Please reload this page (press Ctrl+R, ⌘+R, or the F5 key) then\"\n",
        "  echo \"jump to the 'Checking the Installation' section.\"\n",
        "fi"
      ],
      "execution_count": null,
      "outputs": [
        {
          "output_type": "stream",
          "name": "stdout",
          "text": [
            "Installing Julia 1.8.2 on the current Colab Runtime...\n",
            "2022-10-29 02:44:41 URL:https://julialang-s3.julialang.org/bin/linux/x64/1.8/julia-1.8.2-linux-x86_64.tar.gz [135859273/135859273] -> \"/tmp/julia.tar.gz\" [1]\n",
            "Installing Julia package IJulia...\n",
            "Installing Julia package BenchmarkTools...\n",
            "Installing Julia package Plots...\n",
            "Installing Julia package CUDA...\n",
            "Installing IJulia kernel...\n",
            "\u001b[36m\u001b[1m[ \u001b[22m\u001b[39m\u001b[36m\u001b[1mInfo: \u001b[22m\u001b[39mInstalling julia kernelspec in /root/.local/share/jupyter/kernels/julia-1.8\n",
            "\n",
            "Successfully installed julia version 1.8.2!\n",
            "Please reload this page (press Ctrl+R, ⌘+R, or the F5 key) then\n",
            "jump to the 'Checking the Installation' section.\n"
          ]
        },
        {
          "output_type": "execute_result",
          "data": {
            "text/plain": []
          },
          "metadata": {},
          "execution_count": 1
        }
      ]
    },
    {
      "cell_type": "markdown",
      "metadata": {
        "id": "-OS3Ac017T1i"
      },
      "source": [
        "# Checking the Installation\n",
        "The `versioninfo()` function should print your Julia version and some other info about the system:"
      ]
    },
    {
      "cell_type": "code",
      "metadata": {
        "id": "EEzvvzCl1i0F",
        "colab": {
          "base_uri": "https://localhost:8080/"
        },
        "outputId": "6f847fcb-66b5-4b0f-904e-0cc19f48fcf3"
      },
      "source": [
        "versioninfo()"
      ],
      "execution_count": 1,
      "outputs": [
        {
          "output_type": "stream",
          "name": "stdout",
          "text": [
            "Julia Version 1.8.2\n",
            "Commit 36034abf260 (2022-09-29 15:21 UTC)\n",
            "Platform Info:\n",
            "  OS: Linux (x86_64-linux-gnu)\n",
            "  CPU: 2 × Intel(R) Xeon(R) CPU @ 2.00GHz\n",
            "  WORD_SIZE: 64\n",
            "  LIBM: libopenlibm\n",
            "  LLVM: libLLVM-13.0.1 (ORCJIT, skylake-avx512)\n",
            "  Threads: 2 on 2 virtual cores\n",
            "Environment:\n",
            "  LD_LIBRARY_PATH = /usr/lib64-nvidia\n",
            "  LD_PRELOAD = /usr/lib/x86_64-linux-gnu/libtcmalloc.so.4\n",
            "  JULIA_NUM_THREADS = 2\n"
          ]
        }
      ]
    },
    {
      "cell_type": "code",
      "source": [
        "using BenchmarkTools\n",
        "using LinearAlgebra\n",
        "using Pkg\n",
        "Pkg.add(url=\"https://github.com/dnguyend/Manifolds.jl\")\n",
        "using Manifolds"
      ],
      "metadata": {
        "colab": {
          "base_uri": "https://localhost:8080/"
        },
        "id": "YjM_qq54lCcs",
        "outputId": "f655b4d0-b614-4c5b-d47b-c8785c65653b"
      },
      "execution_count": 2,
      "outputs": [
        {
          "output_type": "stream",
          "name": "stderr",
          "text": [
            "\u001b[32m\u001b[1m     Cloning\u001b[22m\u001b[39m git-repo `https://github.com/dnguyend/Manifolds.jl`\n",
            "\u001b[32m\u001b[1m    Updating\u001b[22m\u001b[39m git-repo `https://github.com/dnguyend/Manifolds.jl`\n",
            "\u001b[32m\u001b[1m    Updating\u001b[22m\u001b[39m registry at `~/.julia/registries/General.toml`\n",
            "\u001b[32m\u001b[1m   Resolving\u001b[22m\u001b[39m package versions...\n",
            "\u001b[32m\u001b[1m   Installed\u001b[22m\u001b[39m Calculus ─────────────────────── v0.5.1\n",
            "\u001b[32m\u001b[1m   Installed\u001b[22m\u001b[39m HypergeometricFunctions ──────── v0.3.11\n",
            "\u001b[32m\u001b[1m   Installed\u001b[22m\u001b[39m PDMats ───────────────────────── v0.11.16\n",
            "\u001b[32m\u001b[1m   Installed\u001b[22m\u001b[39m StatsFuns ────────────────────── v1.0.1\n",
            "\u001b[32m\u001b[1m   Installed\u001b[22m\u001b[39m ZygoteRules ──────────────────── v0.2.2\n",
            "\u001b[32m\u001b[1m   Installed\u001b[22m\u001b[39m RecursiveArrayTools ──────────── v2.32.1\n",
            "\u001b[32m\u001b[1m   Installed\u001b[22m\u001b[39m ArnoldiMethod ────────────────── v0.2.0\n",
            "\u001b[32m\u001b[1m   Installed\u001b[22m\u001b[39m Kronecker ────────────────────── v0.5.3\n",
            "\u001b[32m\u001b[1m   Installed\u001b[22m\u001b[39m Einsum ───────────────────────── v0.4.1\n",
            "\u001b[32m\u001b[1m   Installed\u001b[22m\u001b[39m ArrayInterfaceCore ───────────── v0.1.23\n",
            "\u001b[32m\u001b[1m   Installed\u001b[22m\u001b[39m HybridArrays ─────────────────── v0.4.13\n",
            "\u001b[32m\u001b[1m   Installed\u001b[22m\u001b[39m StaticArraysCore ─────────────── v1.4.0\n",
            "\u001b[32m\u001b[1m   Installed\u001b[22m\u001b[39m LinearMaps ───────────────────── v3.8.0\n",
            "\u001b[32m\u001b[1m   Installed\u001b[22m\u001b[39m StaticArrays ─────────────────── v1.5.9\n",
            "\u001b[32m\u001b[1m   Installed\u001b[22m\u001b[39m Rmath_jll ────────────────────── v0.3.0+0\n",
            "\u001b[32m\u001b[1m   Installed\u001b[22m\u001b[39m Graphs ───────────────────────── v1.7.4\n",
            "\u001b[32m\u001b[1m   Installed\u001b[22m\u001b[39m TableTraits ──────────────────── v1.0.1\n",
            "\u001b[32m\u001b[1m   Installed\u001b[22m\u001b[39m NamedDims ────────────────────── v0.2.50\n",
            "\u001b[32m\u001b[1m   Installed\u001b[22m\u001b[39m Inflate ──────────────────────── v0.1.3\n",
            "\u001b[32m\u001b[1m   Installed\u001b[22m\u001b[39m MatrixEquations ──────────────── v2.2.2\n",
            "\u001b[32m\u001b[1m   Installed\u001b[22m\u001b[39m ArrayInterfaceStaticArraysCore ─ v0.1.3\n",
            "\u001b[32m\u001b[1m   Installed\u001b[22m\u001b[39m DataValueInterfaces ──────────── v1.0.0\n",
            "\u001b[32m\u001b[1m   Installed\u001b[22m\u001b[39m SimpleTraits ─────────────────── v0.9.4\n",
            "\u001b[32m\u001b[1m   Installed\u001b[22m\u001b[39m SimpleWeightedGraphs ─────────── v1.2.1\n",
            "\u001b[32m\u001b[1m   Installed\u001b[22m\u001b[39m DualNumbers ──────────────────── v0.6.8\n",
            "\u001b[32m\u001b[1m   Installed\u001b[22m\u001b[39m Rmath ────────────────────────── v0.7.0\n",
            "\u001b[32m\u001b[1m   Installed\u001b[22m\u001b[39m Quaternions ──────────────────── v0.6.1\n",
            "\u001b[32m\u001b[1m   Installed\u001b[22m\u001b[39m CovarianceEstimation ─────────── v0.2.8\n",
            "\u001b[32m\u001b[1m   Installed\u001b[22m\u001b[39m IteratorInterfaceExtensions ──── v1.0.0\n",
            "\u001b[32m\u001b[1m   Installed\u001b[22m\u001b[39m Tables ───────────────────────── v1.10.0\n",
            "\u001b[32m\u001b[1m   Installed\u001b[22m\u001b[39m QuadGK ───────────────────────── v2.6.0\n",
            "\u001b[32m\u001b[1m   Installed\u001b[22m\u001b[39m FillArrays ───────────────────── v0.13.5\n",
            "\u001b[32m\u001b[1m   Installed\u001b[22m\u001b[39m DensityInterface ─────────────── v0.4.0\n",
            "\u001b[32m\u001b[1m   Installed\u001b[22m\u001b[39m Distributions ────────────────── v0.25.76\n",
            "\u001b[32m\u001b[1m   Installed\u001b[22m\u001b[39m ManifoldsBase ────────────────── v0.13.22\n",
            "\u001b[32m\u001b[1m    Updating\u001b[22m\u001b[39m `~/.julia/environments/v1.8/Project.toml`\n",
            " \u001b[90m [1cead3c2] \u001b[39m\u001b[92m+ Manifolds v0.8.35 `https://github.com/dnguyend/Manifolds.jl#master`\u001b[39m\n",
            "\u001b[32m\u001b[1m    Updating\u001b[22m\u001b[39m `~/.julia/environments/v1.8/Manifest.toml`\n",
            " \u001b[90m [ec485272] \u001b[39m\u001b[92m+ ArnoldiMethod v0.2.0\u001b[39m\n",
            " \u001b[90m [30b0a656] \u001b[39m\u001b[92m+ ArrayInterfaceCore v0.1.23\u001b[39m\n",
            " \u001b[90m [dd5226c6] \u001b[39m\u001b[92m+ ArrayInterfaceStaticArraysCore v0.1.3\u001b[39m\n",
            " \u001b[90m [49dc2e85] \u001b[39m\u001b[92m+ Calculus v0.5.1\u001b[39m\n",
            " \u001b[90m [587fd27a] \u001b[39m\u001b[92m+ CovarianceEstimation v0.2.8\u001b[39m\n",
            " \u001b[90m [e2d170a0] \u001b[39m\u001b[92m+ DataValueInterfaces v1.0.0\u001b[39m\n",
            " \u001b[90m [b429d917] \u001b[39m\u001b[92m+ DensityInterface v0.4.0\u001b[39m\n",
            " \u001b[90m [31c24e10] \u001b[39m\u001b[92m+ Distributions v0.25.76\u001b[39m\n",
            " \u001b[90m [fa6b7ba4] \u001b[39m\u001b[92m+ DualNumbers v0.6.8\u001b[39m\n",
            " \u001b[90m [b7d42ee7] \u001b[39m\u001b[92m+ Einsum v0.4.1\u001b[39m\n",
            " \u001b[90m [1a297f60] \u001b[39m\u001b[92m+ FillArrays v0.13.5\u001b[39m\n",
            " \u001b[90m [86223c79] \u001b[39m\u001b[92m+ Graphs v1.7.4\u001b[39m\n",
            " \u001b[90m [1baab800] \u001b[39m\u001b[92m+ HybridArrays v0.4.13\u001b[39m\n",
            " \u001b[90m [34004b35] \u001b[39m\u001b[92m+ HypergeometricFunctions v0.3.11\u001b[39m\n",
            " \u001b[90m [d25df0c9] \u001b[39m\u001b[92m+ Inflate v0.1.3\u001b[39m\n",
            " \u001b[90m [82899510] \u001b[39m\u001b[92m+ IteratorInterfaceExtensions v1.0.0\u001b[39m\n",
            " \u001b[90m [2c470bb0] \u001b[39m\u001b[92m+ Kronecker v0.5.3\u001b[39m\n",
            " \u001b[90m [7a12625a] \u001b[39m\u001b[92m+ LinearMaps v3.8.0\u001b[39m\n",
            " \u001b[90m [1cead3c2] \u001b[39m\u001b[92m+ Manifolds v0.8.35 `https://github.com/dnguyend/Manifolds.jl#master`\u001b[39m\n",
            " \u001b[90m [3362f125] \u001b[39m\u001b[92m+ ManifoldsBase v0.13.22\u001b[39m\n",
            " \u001b[90m [99c1a7ee] \u001b[39m\u001b[92m+ MatrixEquations v2.2.2\u001b[39m\n",
            "\u001b[33m⌅\u001b[39m\u001b[90m [356022a1] \u001b[39m\u001b[92m+ NamedDims v0.2.50\u001b[39m\n",
            " \u001b[90m [90014a1f] \u001b[39m\u001b[92m+ PDMats v0.11.16\u001b[39m\n",
            " \u001b[90m [1fd47b50] \u001b[39m\u001b[92m+ QuadGK v2.6.0\u001b[39m\n",
            " \u001b[90m [94ee1d12] \u001b[39m\u001b[92m+ Quaternions v0.6.1\u001b[39m\n",
            " \u001b[90m [731186ca] \u001b[39m\u001b[92m+ RecursiveArrayTools v2.32.1\u001b[39m\n",
            " \u001b[90m [79098fc4] \u001b[39m\u001b[92m+ Rmath v0.7.0\u001b[39m\n",
            " \u001b[90m [699a6c99] \u001b[39m\u001b[92m+ SimpleTraits v0.9.4\u001b[39m\n",
            " \u001b[90m [47aef6b3] \u001b[39m\u001b[92m+ SimpleWeightedGraphs v1.2.1\u001b[39m\n",
            " \u001b[90m [90137ffa] \u001b[39m\u001b[92m+ StaticArrays v1.5.9\u001b[39m\n",
            " \u001b[90m [1e83bf80] \u001b[39m\u001b[92m+ StaticArraysCore v1.4.0\u001b[39m\n",
            " \u001b[90m [4c63d2b9] \u001b[39m\u001b[92m+ StatsFuns v1.0.1\u001b[39m\n",
            " \u001b[90m [3783bdb8] \u001b[39m\u001b[92m+ TableTraits v1.0.1\u001b[39m\n",
            " \u001b[90m [bd369af6] \u001b[39m\u001b[92m+ Tables v1.10.0\u001b[39m\n",
            " \u001b[90m [700de1a5] \u001b[39m\u001b[92m+ ZygoteRules v0.2.2\u001b[39m\n",
            " \u001b[90m [f50d1b31] \u001b[39m\u001b[92m+ Rmath_jll v0.3.0+0\u001b[39m\n",
            " \u001b[90m [8ba89e20] \u001b[39m\u001b[92m+ Distributed\u001b[39m\n",
            " \u001b[90m [1a1011a3] \u001b[39m\u001b[92m+ SharedArrays\u001b[39m\n",
            " \u001b[90m [4607b0f0] \u001b[39m\u001b[92m+ SuiteSparse\u001b[39m\n",
            "\u001b[36m\u001b[1m        Info\u001b[22m\u001b[39m Packages marked with \u001b[33m⌅\u001b[39m have new versions available but compatibility constraints restrict them from upgrading. To see why use `status --outdated -m`\n",
            "\u001b[32m\u001b[1mPrecompiling\u001b[22m\u001b[39m project...\n",
            "\u001b[32m  ✓ \u001b[39m\u001b[90mPDMats\u001b[39m\n",
            "\u001b[32m  ✓ \u001b[39m\u001b[90mCalculus\u001b[39m\n",
            "\u001b[32m  ✓ \u001b[39m\u001b[90mIteratorInterfaceExtensions\u001b[39m\n",
            "\u001b[32m  ✓ \u001b[39m\u001b[90mQuaternions\u001b[39m\n",
            "\u001b[32m  ✓ \u001b[39m\u001b[90mLinearMaps\u001b[39m\n",
            "\u001b[32m  ✓ \u001b[39m\u001b[90mFillArrays\u001b[39m\n",
            "\u001b[32m  ✓ \u001b[39m\u001b[90mDataValueInterfaces\u001b[39m\n",
            "\u001b[32m  ✓ \u001b[39m\u001b[90mArrayInterfaceCore\u001b[39m\n",
            "\u001b[32m  ✓ \u001b[39m\u001b[90mZygoteRules\u001b[39m\n",
            "\u001b[32m  ✓ \u001b[39m\u001b[90mManifoldsBase\u001b[39m\n",
            "\u001b[32m  ✓ \u001b[39m\u001b[90mEinsum\u001b[39m\n",
            "\u001b[32m  ✓ \u001b[39m\u001b[90mInflate\u001b[39m\n",
            "\u001b[32m  ✓ \u001b[39m\u001b[90mDensityInterface\u001b[39m\n",
            "\u001b[32m  ✓ \u001b[39m\u001b[90mStaticArraysCore\u001b[39m\n",
            "\u001b[32m  ✓ \u001b[39m\u001b[90mRmath_jll\u001b[39m\n",
            "\u001b[32m  ✓ \u001b[39m\u001b[90mSimpleTraits\u001b[39m\n",
            "\u001b[32m  ✓ \u001b[39m\u001b[90mQuadGK\u001b[39m\n",
            "\u001b[32m  ✓ \u001b[39m\u001b[90mTableTraits\u001b[39m\n",
            "\u001b[32m  ✓ \u001b[39m\u001b[90mCovarianceEstimation\u001b[39m\n",
            "\u001b[32m  ✓ \u001b[39m\u001b[90mDualNumbers\u001b[39m\n",
            "\u001b[32m  ✓ \u001b[39m\u001b[90mArrayInterfaceStaticArraysCore\u001b[39m\n",
            "\u001b[32m  ✓ \u001b[39m\u001b[90mRmath\u001b[39m\n",
            "\u001b[32m  ✓ \u001b[39m\u001b[90mTables\u001b[39m\n",
            "\u001b[32m  ✓ \u001b[39m\u001b[90mMatrixEquations\u001b[39m\n",
            "\u001b[32m  ✓ \u001b[39m\u001b[90mHypergeometricFunctions\u001b[39m\n",
            "\u001b[32m  ✓ \u001b[39m\u001b[90mNamedDims\u001b[39m\n",
            "\u001b[32m  ✓ \u001b[39m\u001b[90mStatsFuns\u001b[39m\n",
            "\u001b[32m  ✓ \u001b[39m\u001b[90mRecursiveArrayTools\u001b[39m\n",
            "\u001b[32m  ✓ \u001b[39m\u001b[90mStaticArrays\u001b[39m\n",
            "\u001b[32m  ✓ \u001b[39m\u001b[90mKronecker\u001b[39m\n",
            "\u001b[32m  ✓ \u001b[39m\u001b[90mArnoldiMethod\u001b[39m\n",
            "\u001b[32m  ✓ \u001b[39m\u001b[90mHybridArrays\u001b[39m\n",
            "\u001b[32m  ✓ \u001b[39m\u001b[90mDistributions\u001b[39m\n",
            "\u001b[32m  ✓ \u001b[39m\u001b[90mGraphs\u001b[39m\n",
            "\u001b[32m  ✓ \u001b[39m\u001b[90mSimpleWeightedGraphs\u001b[39m\n",
            "\u001b[32m  ✓ \u001b[39mManifolds\n",
            "  36 dependencies successfully precompiled in 43 seconds. 152 already precompiled. 4 skipped during auto due to previous errors.\n"
          ]
        }
      ]
    },
    {
      "cell_type": "code",
      "source": [
        "using Printf\n",
        "using Random\n"
      ],
      "metadata": {
        "id": "x06jnaCKpuky"
      },
      "execution_count": 3,
      "outputs": []
    },
    {
      "cell_type": "markdown",
      "source": [
        "## Riemannian Logarithm using local minimize_lbfgs\n",
        "* We implement the function Manifolds.log_lbfgs, structured after Manifolds.log\n",
        "* A warmup run:"
      ],
      "metadata": {
        "id": "x-xdb39mpbmM"
      }
    },
    {
      "cell_type": "code",
      "metadata": {
        "id": "XciCcMAJOT3_",
        "colab": {
          "base_uri": "https://localhost:8080/",
          "height": 35
        },
        "outputId": "58c26436-a45f-48bc-ca95-abf5878b11ea"
      },
      "source": [
        "function linf(mat)\n",
        "  return maximum(abs.(mat))\n",
        "end  \n",
        "\n",
        "function randpoint(M)\n",
        "    return project(M, randn(representation_size(M)))\n",
        "end\n",
        "\n",
        "function randvec(M, p)\n",
        "    # generate unit vector\n",
        "    X = project(M, p, randn(representation_size(M)))\n",
        "    X ./= sqrt(inner(M, p, X, X))\n",
        "    return X\n",
        "end\n",
        "\n",
        "# do a warm up run\n",
        "n = 5\n",
        "k = 3\n",
        "α = .2\n",
        "\n",
        "M = MetricManifold(Stiefel(n, k), StiefelSubmersionMetric(α))\n",
        "p = randpoint(M)\n",
        "X = randvec(M, p)\n",
        "\n",
        "q = exp(M, p, X)\n",
        "\n",
        "XA = Manifolds.log(M, p, q)\n",
        "XB = Manifolds.log_lbfgs(M, p, q, tolerance=1e-10)\n",
        "display(linf(XA - XB))"
      ],
      "execution_count": 4,
      "outputs": [
        {
          "output_type": "display_data",
          "data": {
            "text/plain": [
              "1.2415143357813463e-9"
            ]
          },
          "metadata": {}
        }
      ]
    },
    {
      "cell_type": "markdown",
      "metadata": {
        "id": "8RC1QNNqk6h1"
      },
      "source": [
        "Now compare and benchmark for a bigger example. Generated distance is $0.5\\pi$"
      ]
    },
    {
      "cell_type": "code",
      "source": [
        " n = 1000\n",
        " k = 200\n",
        "\n",
        " # We test for all α >-1.\n",
        " α = 3*rand() - .9\n",
        " \n",
        " M = MetricManifold(Stiefel(n, k), StiefelSubmersionMetric(α))\n",
        " p = randpoint(M)\n",
        " X = randvec(M, p)\n",
        "\n",
        " # example with distance 0.5pi\n",
        " ft = .5\n",
        " q = exp(M, p, ft*pi*X)\n",
        "\n",
        " XOld = Manifolds.log(M, p, q)\n",
        " XF = Manifolds.log_lbfgs(M, p, q, tolerance=1e-10, max_itr=1000, pretol=1e-3)\n",
        " display(linf(XOld - XF))\n",
        " display(linf(XOld - ft*pi*X))\n",
        " display(linf(XF - ft*pi*X))"
      ],
      "metadata": {
        "colab": {
          "base_uri": "https://localhost:8080/",
          "height": 72
        },
        "id": "aC2fvrwcp8ii",
        "outputId": "6b72f133-8c31-48f3-97de-4f98690912e8"
      },
      "execution_count": 5,
      "outputs": [
        {
          "output_type": "display_data",
          "data": {
            "text/plain": [
              "7.813363671338447e-13"
            ]
          },
          "metadata": {}
        },
        {
          "output_type": "display_data",
          "data": {
            "text/plain": [
              "2.96115562625765e-13"
            ]
          },
          "metadata": {}
        },
        {
          "output_type": "display_data",
          "data": {
            "text/plain": [
              "7.016275581361864e-13"
            ]
          },
          "metadata": {}
        }
      ]
    },
    {
      "cell_type": "code",
      "source": [
        " display(@benchmark Manifolds.log(M, p, q))\n",
        " display(@benchmark Manifolds.log_lbfgs(M, p, q, tolerance=1e-10, max_itr=1000, pretol=1e-3))"
      ],
      "metadata": {
        "colab": {
          "base_uri": "https://localhost:8080/",
          "height": 382
        },
        "id": "kTjx4kHfqCUC",
        "outputId": "e2ea8a2e-c9b9-493c-d10e-6811db7ae1eb"
      },
      "execution_count": 6,
      "outputs": [
        {
          "output_type": "display_data",
          "data": {
            "text/plain": [
              "BenchmarkTools.Trial: 8 samples with 1 evaluation.\n",
              " Range \u001b[90m(\u001b[39m\u001b[36m\u001b[1mmin\u001b[22m\u001b[39m … \u001b[35mmax\u001b[39m\u001b[90m):  \u001b[39m\u001b[36m\u001b[1m565.596 ms\u001b[22m\u001b[39m … \u001b[35m917.388 ms\u001b[39m  \u001b[90m┊\u001b[39m GC \u001b[90m(\u001b[39mmin … max\u001b[90m): \u001b[39m2.30% … 1.84%\n",
              " Time  \u001b[90m(\u001b[39m\u001b[34m\u001b[1mmedian\u001b[22m\u001b[39m\u001b[90m):     \u001b[39m\u001b[34m\u001b[1m593.636 ms               \u001b[22m\u001b[39m\u001b[90m┊\u001b[39m GC \u001b[90m(\u001b[39mmedian\u001b[90m):    \u001b[39m2.64%\n",
              " Time  \u001b[90m(\u001b[39m\u001b[32m\u001b[1mmean\u001b[22m\u001b[39m ± \u001b[32mσ\u001b[39m\u001b[90m):   \u001b[39m\u001b[32m\u001b[1m694.632 ms\u001b[22m\u001b[39m ± \u001b[32m158.773 ms\u001b[39m  \u001b[90m┊\u001b[39m GC \u001b[90m(\u001b[39mmean ± σ\u001b[90m):  \u001b[39m2.49% ± 0.90%\n",
              "\n",
              "  \u001b[39m▁\u001b[39m█\u001b[39m \u001b[39m \u001b[34m▁\u001b[39m\u001b[39m▁\u001b[39m \u001b[39m \u001b[39m \u001b[39m \u001b[39m \u001b[39m \u001b[39m \u001b[39m \u001b[39m \u001b[39m \u001b[39m \u001b[39m \u001b[39m \u001b[39m \u001b[39m \u001b[39m \u001b[32m \u001b[39m\u001b[39m \u001b[39m \u001b[39m \u001b[39m \u001b[39m \u001b[39m \u001b[39m \u001b[39m \u001b[39m \u001b[39m \u001b[39m \u001b[39m \u001b[39m \u001b[39m \u001b[39m \u001b[39m \u001b[39m \u001b[39m \u001b[39m \u001b[39m \u001b[39m \u001b[39m \u001b[39m \u001b[39m \u001b[39m \u001b[39m \u001b[39m \u001b[39m▁\u001b[39m \u001b[39m \u001b[39m \u001b[39m▁\u001b[39m \u001b[39m \u001b[39m \u001b[39m \u001b[39m \u001b[39m▁\u001b[39m \u001b[39m \n",
              "  \u001b[39m█\u001b[39m█\u001b[39m▁\u001b[39m▁\u001b[34m█\u001b[39m\u001b[39m█\u001b[39m▁\u001b[39m▁\u001b[39m▁\u001b[39m▁\u001b[39m▁\u001b[39m▁\u001b[39m▁\u001b[39m▁\u001b[39m▁\u001b[39m▁\u001b[39m▁\u001b[39m▁\u001b[39m▁\u001b[39m▁\u001b[39m▁\u001b[39m▁\u001b[32m▁\u001b[39m\u001b[39m▁\u001b[39m▁\u001b[39m▁\u001b[39m▁\u001b[39m▁\u001b[39m▁\u001b[39m▁\u001b[39m▁\u001b[39m▁\u001b[39m▁\u001b[39m▁\u001b[39m▁\u001b[39m▁\u001b[39m▁\u001b[39m▁\u001b[39m▁\u001b[39m▁\u001b[39m▁\u001b[39m▁\u001b[39m▁\u001b[39m▁\u001b[39m▁\u001b[39m▁\u001b[39m▁\u001b[39m▁\u001b[39m▁\u001b[39m▁\u001b[39m█\u001b[39m▁\u001b[39m▁\u001b[39m▁\u001b[39m█\u001b[39m▁\u001b[39m▁\u001b[39m▁\u001b[39m▁\u001b[39m▁\u001b[39m█\u001b[39m \u001b[39m▁\n",
              "  566 ms\u001b[90m           Histogram: frequency by time\u001b[39m          917 ms \u001b[0m\u001b[1m<\u001b[22m\n",
              "\n",
              " Memory estimate\u001b[90m: \u001b[39m\u001b[33m275.36 MiB\u001b[39m, allocs estimate\u001b[90m: \u001b[39m\u001b[33m2332\u001b[39m."
            ]
          },
          "metadata": {}
        },
        {
          "output_type": "display_data",
          "data": {
            "text/plain": [
              "BenchmarkTools.Trial: 14 samples with 1 evaluation.\n",
              " Range \u001b[90m(\u001b[39m\u001b[36m\u001b[1mmin\u001b[22m\u001b[39m … \u001b[35mmax\u001b[39m\u001b[90m):  \u001b[39m\u001b[36m\u001b[1m354.436 ms\u001b[22m\u001b[39m … \u001b[35m406.992 ms\u001b[39m  \u001b[90m┊\u001b[39m GC \u001b[90m(\u001b[39mmin … max\u001b[90m): \u001b[39m3.38% … 2.74%\n",
              " Time  \u001b[90m(\u001b[39m\u001b[34m\u001b[1mmedian\u001b[22m\u001b[39m\u001b[90m):     \u001b[39m\u001b[34m\u001b[1m379.768 ms               \u001b[22m\u001b[39m\u001b[90m┊\u001b[39m GC \u001b[90m(\u001b[39mmedian\u001b[90m):    \u001b[39m2.18%\n",
              " Time  \u001b[90m(\u001b[39m\u001b[32m\u001b[1mmean\u001b[22m\u001b[39m ± \u001b[32mσ\u001b[39m\u001b[90m):   \u001b[39m\u001b[32m\u001b[1m379.759 ms\u001b[22m\u001b[39m ± \u001b[32m 16.262 ms\u001b[39m  \u001b[90m┊\u001b[39m GC \u001b[90m(\u001b[39mmean ± σ\u001b[90m):  \u001b[39m2.39% ± 0.57%\n",
              "\n",
              "  \u001b[39m█\u001b[39m \u001b[39m \u001b[39m \u001b[39m█\u001b[39m \u001b[39m \u001b[39m \u001b[39m \u001b[39m█\u001b[39m \u001b[39m█\u001b[39m \u001b[39m \u001b[39m \u001b[39m \u001b[39m \u001b[39m█\u001b[39m \u001b[39m \u001b[39m \u001b[39m \u001b[39m \u001b[39m \u001b[39m \u001b[39m \u001b[39m \u001b[39m█\u001b[34m█\u001b[39m\u001b[32m \u001b[39m\u001b[39m█\u001b[39m \u001b[39m \u001b[39m \u001b[39m█\u001b[39m \u001b[39m \u001b[39m \u001b[39m \u001b[39m \u001b[39m \u001b[39m \u001b[39m \u001b[39m█\u001b[39m \u001b[39m█\u001b[39m█\u001b[39m \u001b[39m \u001b[39m \u001b[39m \u001b[39m█\u001b[39m \u001b[39m \u001b[39m \u001b[39m \u001b[39m \u001b[39m \u001b[39m \u001b[39m \u001b[39m█\u001b[39m \u001b[39m \n",
              "  \u001b[39m█\u001b[39m▁\u001b[39m▁\u001b[39m▁\u001b[39m█\u001b[39m▁\u001b[39m▁\u001b[39m▁\u001b[39m▁\u001b[39m█\u001b[39m▁\u001b[39m█\u001b[39m▁\u001b[39m▁\u001b[39m▁\u001b[39m▁\u001b[39m▁\u001b[39m█\u001b[39m▁\u001b[39m▁\u001b[39m▁\u001b[39m▁\u001b[39m▁\u001b[39m▁\u001b[39m▁\u001b[39m▁\u001b[39m▁\u001b[39m█\u001b[34m█\u001b[39m\u001b[32m▁\u001b[39m\u001b[39m█\u001b[39m▁\u001b[39m▁\u001b[39m▁\u001b[39m█\u001b[39m▁\u001b[39m▁\u001b[39m▁\u001b[39m▁\u001b[39m▁\u001b[39m▁\u001b[39m▁\u001b[39m▁\u001b[39m█\u001b[39m▁\u001b[39m█\u001b[39m█\u001b[39m▁\u001b[39m▁\u001b[39m▁\u001b[39m▁\u001b[39m█\u001b[39m▁\u001b[39m▁\u001b[39m▁\u001b[39m▁\u001b[39m▁\u001b[39m▁\u001b[39m▁\u001b[39m▁\u001b[39m█\u001b[39m \u001b[39m▁\n",
              "  354 ms\u001b[90m           Histogram: frequency by time\u001b[39m          407 ms \u001b[0m\u001b[1m<\u001b[22m\n",
              "\n",
              " Memory estimate\u001b[90m: \u001b[39m\u001b[33m206.74 MiB\u001b[39m, allocs estimate\u001b[90m: \u001b[39m\u001b[33m2436\u001b[39m."
            ]
          },
          "metadata": {}
        }
      ]
    },
    {
      "cell_type": "markdown",
      "source": [
        "* Another example. Generated distance is $2\\pi$"
      ],
      "metadata": {
        "id": "XcfcOgeGqF9r"
      }
    },
    {
      "cell_type": "code",
      "source": [
        " Random.seed!(1)\n",
        " n = 500\n",
        " k = 200\n",
        "\n",
        " α = 3*rand() - .9\n",
        " \n",
        " M = MetricManifold(Stiefel(n, k), StiefelSubmersionMetric(α))\n",
        " p = randpoint(M)\n",
        " X = randvec(M, p)\n",
        "\n",
        " ft = 2.\n",
        " q = exp(M, p, ft*pi*X)\n",
        "\n",
        " XOld = Manifolds.log(M, p, q)\n",
        " XF = Manifolds.log_lbfgs(M, p, q, tolerance=1e-10, pretol=1e-7)\n",
        " display(linf(XOld - XF))\n",
        " display(linf(XOld - ft*pi*X))\n",
        " display(linf(XF - ft*pi*X))\n",
        " display(@benchmark Manifolds.log(M, p, q))\n",
        " display(@benchmark Manifolds.log_lbfgs(M, p, q, tolerance=1e-10, pretol=1e-7))"
      ],
      "metadata": {
        "colab": {
          "base_uri": "https://localhost:8080/",
          "height": 437
        },
        "id": "-i8jaJiuqIoh",
        "outputId": "d8fcf35b-54e2-4bd5-fef6-7bd8bcc90a13"
      },
      "execution_count": 22,
      "outputs": [
        {
          "output_type": "display_data",
          "data": {
            "text/plain": [
              "6.049236198762964e-11"
            ]
          },
          "metadata": {}
        },
        {
          "output_type": "display_data",
          "data": {
            "text/plain": [
              "4.669630654374757e-11"
            ]
          },
          "metadata": {}
        },
        {
          "output_type": "display_data",
          "data": {
            "text/plain": [
              "1.859764599265734e-11"
            ]
          },
          "metadata": {}
        },
        {
          "output_type": "display_data",
          "data": {
            "text/plain": [
              "BenchmarkTools.Trial: 4 samples with 1 evaluation.\n",
              " Range \u001b[90m(\u001b[39m\u001b[36m\u001b[1mmin\u001b[22m\u001b[39m … \u001b[35mmax\u001b[39m\u001b[90m):  \u001b[39m\u001b[36m\u001b[1m1.343 s\u001b[22m\u001b[39m … \u001b[35m  1.367 s\u001b[39m  \u001b[90m┊\u001b[39m GC \u001b[90m(\u001b[39mmin … max\u001b[90m): \u001b[39m1.61% … 2.04%\n",
              " Time  \u001b[90m(\u001b[39m\u001b[34m\u001b[1mmedian\u001b[22m\u001b[39m\u001b[90m):     \u001b[39m\u001b[34m\u001b[1m1.346 s              \u001b[22m\u001b[39m\u001b[90m┊\u001b[39m GC \u001b[90m(\u001b[39mmedian\u001b[90m):    \u001b[39m1.66%\n",
              " Time  \u001b[90m(\u001b[39m\u001b[32m\u001b[1mmean\u001b[22m\u001b[39m ± \u001b[32mσ\u001b[39m\u001b[90m):   \u001b[39m\u001b[32m\u001b[1m1.350 s\u001b[22m\u001b[39m ± \u001b[32m11.358 ms\u001b[39m  \u001b[90m┊\u001b[39m GC \u001b[90m(\u001b[39mmean ± σ\u001b[90m):  \u001b[39m1.71% ± 0.24%\n",
              "\n",
              "  \u001b[39m█\u001b[34m \u001b[39m\u001b[39m \u001b[39m \u001b[39m \u001b[39m \u001b[39m \u001b[39m \u001b[39m \u001b[39m \u001b[39m▁\u001b[39m \u001b[39m \u001b[39m \u001b[39m \u001b[39m \u001b[39m \u001b[32m \u001b[39m\u001b[39m \u001b[39m \u001b[39m \u001b[39m \u001b[39m \u001b[39m \u001b[39m \u001b[39m \u001b[39m \u001b[39m \u001b[39m \u001b[39m \u001b[39m \u001b[39m \u001b[39m \u001b[39m \u001b[39m \u001b[39m \u001b[39m \u001b[39m \u001b[39m \u001b[39m \u001b[39m \u001b[39m \u001b[39m \u001b[39m \u001b[39m \u001b[39m \u001b[39m \u001b[39m \u001b[39m \u001b[39m \u001b[39m \u001b[39m \u001b[39m \u001b[39m \u001b[39m \u001b[39m \u001b[39m▁\u001b[39m \u001b[39m \n",
              "  \u001b[39m█\u001b[34m▁\u001b[39m\u001b[39m▁\u001b[39m▁\u001b[39m▁\u001b[39m▁\u001b[39m▁\u001b[39m▁\u001b[39m▁\u001b[39m▁\u001b[39m█\u001b[39m▁\u001b[39m▁\u001b[39m▁\u001b[39m▁\u001b[39m▁\u001b[39m▁\u001b[32m▁\u001b[39m\u001b[39m▁\u001b[39m▁\u001b[39m▁\u001b[39m▁\u001b[39m▁\u001b[39m▁\u001b[39m▁\u001b[39m▁\u001b[39m▁\u001b[39m▁\u001b[39m▁\u001b[39m▁\u001b[39m▁\u001b[39m▁\u001b[39m▁\u001b[39m▁\u001b[39m▁\u001b[39m▁\u001b[39m▁\u001b[39m▁\u001b[39m▁\u001b[39m▁\u001b[39m▁\u001b[39m▁\u001b[39m▁\u001b[39m▁\u001b[39m▁\u001b[39m▁\u001b[39m▁\u001b[39m▁\u001b[39m▁\u001b[39m▁\u001b[39m▁\u001b[39m▁\u001b[39m▁\u001b[39m▁\u001b[39m▁\u001b[39m▁\u001b[39m█\u001b[39m \u001b[39m▁\n",
              "  1.34 s\u001b[90m         Histogram: frequency by time\u001b[39m        1.37 s \u001b[0m\u001b[1m<\u001b[22m\n",
              "\n",
              " Memory estimate\u001b[90m: \u001b[39m\u001b[33m484.53 MiB\u001b[39m, allocs estimate\u001b[90m: \u001b[39m\u001b[33m4454\u001b[39m."
            ]
          },
          "metadata": {}
        },
        {
          "output_type": "display_data",
          "data": {
            "text/plain": [
              "BenchmarkTools.Trial: 4 samples with 1 evaluation.\n",
              " Range \u001b[90m(\u001b[39m\u001b[36m\u001b[1mmin\u001b[22m\u001b[39m … \u001b[35mmax\u001b[39m\u001b[90m):  \u001b[39m\u001b[36m\u001b[1m1.317 s\u001b[22m\u001b[39m … \u001b[35m   1.674 s\u001b[39m  \u001b[90m┊\u001b[39m GC \u001b[90m(\u001b[39mmin … max\u001b[90m): \u001b[39m2.75% … 20.66%\n",
              " Time  \u001b[90m(\u001b[39m\u001b[34m\u001b[1mmedian\u001b[22m\u001b[39m\u001b[90m):     \u001b[39m\u001b[34m\u001b[1m1.373 s               \u001b[22m\u001b[39m\u001b[90m┊\u001b[39m GC \u001b[90m(\u001b[39mmedian\u001b[90m):    \u001b[39m4.15%\n",
              " Time  \u001b[90m(\u001b[39m\u001b[32m\u001b[1mmean\u001b[22m\u001b[39m ± \u001b[32mσ\u001b[39m\u001b[90m):   \u001b[39m\u001b[32m\u001b[1m1.435 s\u001b[22m\u001b[39m ± \u001b[32m163.516 ms\u001b[39m  \u001b[90m┊\u001b[39m GC \u001b[90m(\u001b[39mmean ± σ\u001b[90m):  \u001b[39m8.52% ±  8.71%\n",
              "\n",
              "  \u001b[39m█\u001b[39m \u001b[39m \u001b[39m \u001b[39m█\u001b[34m \u001b[39m\u001b[39m \u001b[39m \u001b[39m \u001b[39m \u001b[39m \u001b[39m \u001b[39m \u001b[39m█\u001b[39m \u001b[39m \u001b[39m \u001b[39m \u001b[39m \u001b[32m \u001b[39m\u001b[39m \u001b[39m \u001b[39m \u001b[39m \u001b[39m \u001b[39m \u001b[39m \u001b[39m \u001b[39m \u001b[39m \u001b[39m \u001b[39m \u001b[39m \u001b[39m \u001b[39m \u001b[39m \u001b[39m \u001b[39m \u001b[39m \u001b[39m \u001b[39m \u001b[39m \u001b[39m \u001b[39m \u001b[39m \u001b[39m \u001b[39m \u001b[39m \u001b[39m \u001b[39m \u001b[39m \u001b[39m \u001b[39m \u001b[39m \u001b[39m \u001b[39m \u001b[39m \u001b[39m█\u001b[39m \u001b[39m \n",
              "  \u001b[39m█\u001b[39m▁\u001b[39m▁\u001b[39m▁\u001b[39m█\u001b[34m▁\u001b[39m\u001b[39m▁\u001b[39m▁\u001b[39m▁\u001b[39m▁\u001b[39m▁\u001b[39m▁\u001b[39m▁\u001b[39m█\u001b[39m▁\u001b[39m▁\u001b[39m▁\u001b[39m▁\u001b[39m▁\u001b[32m▁\u001b[39m\u001b[39m▁\u001b[39m▁\u001b[39m▁\u001b[39m▁\u001b[39m▁\u001b[39m▁\u001b[39m▁\u001b[39m▁\u001b[39m▁\u001b[39m▁\u001b[39m▁\u001b[39m▁\u001b[39m▁\u001b[39m▁\u001b[39m▁\u001b[39m▁\u001b[39m▁\u001b[39m▁\u001b[39m▁\u001b[39m▁\u001b[39m▁\u001b[39m▁\u001b[39m▁\u001b[39m▁\u001b[39m▁\u001b[39m▁\u001b[39m▁\u001b[39m▁\u001b[39m▁\u001b[39m▁\u001b[39m▁\u001b[39m▁\u001b[39m▁\u001b[39m▁\u001b[39m▁\u001b[39m▁\u001b[39m▁\u001b[39m█\u001b[39m \u001b[39m▁\n",
              "  1.32 s\u001b[90m         Histogram: frequency by time\u001b[39m         1.67 s \u001b[0m\u001b[1m<\u001b[22m\n",
              "\n",
              " Memory estimate\u001b[90m: \u001b[39m\u001b[33m713.85 MiB\u001b[39m, allocs estimate\u001b[90m: \u001b[39m\u001b[33m10097\u001b[39m."
            ]
          },
          "metadata": {}
        }
      ]
    },
    {
      "cell_type": "markdown",
      "source": [
        "# At $4\\pi$"
      ],
      "metadata": {
        "id": "owDihN6txiCd"
      }
    },
    {
      "cell_type": "code",
      "source": [
        " # Random.seed!(0)\n",
        " ft = 4.\n",
        " q = exp(M, p, ft*pi*X)\n",
        "\n",
        " XOld = Manifolds.log(M, p, q)\n",
        " XF = Manifolds.log_lbfgs(M, p, q, tolerance=1e-10, pretol=1e-7)\n",
        " display(linf(XOld - XF))\n",
        " display(linf(XOld - ft*pi*X))\n",
        " display(linf(XF - ft*pi*X))\n",
        " display(@benchmark Manifolds.log(M, p, q))\n",
        " display(@benchmark Manifolds.log_lbfgs(M, p, q, tolerance=1e-10, pretol=1e-7))"
      ],
      "metadata": {
        "colab": {
          "base_uri": "https://localhost:8080/",
          "height": 437
        },
        "id": "9SbK_0-bxchC",
        "outputId": "992a9646-7ebc-42b5-8058-14261d58246b"
      },
      "execution_count": 23,
      "outputs": [
        {
          "output_type": "display_data",
          "data": {
            "text/plain": [
              "1.2365749223197664e-10"
            ]
          },
          "metadata": {}
        },
        {
          "output_type": "display_data",
          "data": {
            "text/plain": [
              "1.0709664405306185e-10"
            ]
          },
          "metadata": {}
        },
        {
          "output_type": "display_data",
          "data": {
            "text/plain": [
              "9.866330951020796e-11"
            ]
          },
          "metadata": {}
        },
        {
          "output_type": "display_data",
          "data": {
            "text/plain": [
              "BenchmarkTools.Trial: 2 samples with 1 evaluation.\n",
              " Range \u001b[90m(\u001b[39m\u001b[36m\u001b[1mmin\u001b[22m\u001b[39m … \u001b[35mmax\u001b[39m\u001b[90m):  \u001b[39m\u001b[36m\u001b[1m2.685 s\u001b[22m\u001b[39m … \u001b[35m   3.687 s\u001b[39m  \u001b[90m┊\u001b[39m GC \u001b[90m(\u001b[39mmin … max\u001b[90m): \u001b[39m1.32% … 1.36%\n",
              " Time  \u001b[90m(\u001b[39m\u001b[34m\u001b[1mmedian\u001b[22m\u001b[39m\u001b[90m):     \u001b[39m\u001b[34m\u001b[1m3.186 s               \u001b[22m\u001b[39m\u001b[90m┊\u001b[39m GC \u001b[90m(\u001b[39mmedian\u001b[90m):    \u001b[39m1.34%\n",
              " Time  \u001b[90m(\u001b[39m\u001b[32m\u001b[1mmean\u001b[22m\u001b[39m ± \u001b[32mσ\u001b[39m\u001b[90m):   \u001b[39m\u001b[32m\u001b[1m3.186 s\u001b[22m\u001b[39m ± \u001b[32m708.352 ms\u001b[39m  \u001b[90m┊\u001b[39m GC \u001b[90m(\u001b[39mmean ± σ\u001b[90m):  \u001b[39m1.34% ± 0.03%\n",
              "\n",
              "  \u001b[34m█\u001b[39m\u001b[39m \u001b[39m \u001b[39m \u001b[39m \u001b[39m \u001b[39m \u001b[39m \u001b[39m \u001b[39m \u001b[39m \u001b[39m \u001b[39m \u001b[39m \u001b[39m \u001b[39m \u001b[39m \u001b[39m \u001b[39m \u001b[39m \u001b[39m \u001b[39m \u001b[39m \u001b[39m \u001b[39m \u001b[39m \u001b[39m \u001b[39m \u001b[39m \u001b[32m \u001b[39m\u001b[39m \u001b[39m \u001b[39m \u001b[39m \u001b[39m \u001b[39m \u001b[39m \u001b[39m \u001b[39m \u001b[39m \u001b[39m \u001b[39m \u001b[39m \u001b[39m \u001b[39m \u001b[39m \u001b[39m \u001b[39m \u001b[39m \u001b[39m \u001b[39m \u001b[39m \u001b[39m \u001b[39m \u001b[39m \u001b[39m \u001b[39m \u001b[39m█\u001b[39m \u001b[39m \n",
              "  \u001b[34m█\u001b[39m\u001b[39m▁\u001b[39m▁\u001b[39m▁\u001b[39m▁\u001b[39m▁\u001b[39m▁\u001b[39m▁\u001b[39m▁\u001b[39m▁\u001b[39m▁\u001b[39m▁\u001b[39m▁\u001b[39m▁\u001b[39m▁\u001b[39m▁\u001b[39m▁\u001b[39m▁\u001b[39m▁\u001b[39m▁\u001b[39m▁\u001b[39m▁\u001b[39m▁\u001b[39m▁\u001b[39m▁\u001b[39m▁\u001b[39m▁\u001b[39m▁\u001b[39m▁\u001b[32m▁\u001b[39m\u001b[39m▁\u001b[39m▁\u001b[39m▁\u001b[39m▁\u001b[39m▁\u001b[39m▁\u001b[39m▁\u001b[39m▁\u001b[39m▁\u001b[39m▁\u001b[39m▁\u001b[39m▁\u001b[39m▁\u001b[39m▁\u001b[39m▁\u001b[39m▁\u001b[39m▁\u001b[39m▁\u001b[39m▁\u001b[39m▁\u001b[39m▁\u001b[39m▁\u001b[39m▁\u001b[39m▁\u001b[39m▁\u001b[39m▁\u001b[39m▁\u001b[39m█\u001b[39m \u001b[39m▁\n",
              "  2.69 s\u001b[90m         Histogram: frequency by time\u001b[39m         3.69 s \u001b[0m\u001b[1m<\u001b[22m\n",
              "\n",
              " Memory estimate\u001b[90m: \u001b[39m\u001b[33m865.25 MiB\u001b[39m, allocs estimate\u001b[90m: \u001b[39m\u001b[33m7906\u001b[39m."
            ]
          },
          "metadata": {}
        },
        {
          "output_type": "display_data",
          "data": {
            "text/plain": [
              "BenchmarkTools.Trial: 2 samples with 1 evaluation.\n",
              " Range \u001b[90m(\u001b[39m\u001b[36m\u001b[1mmin\u001b[22m\u001b[39m … \u001b[35mmax\u001b[39m\u001b[90m):  \u001b[39m\u001b[36m\u001b[1m2.957 s\u001b[22m\u001b[39m … \u001b[35m  2.988 s\u001b[39m  \u001b[90m┊\u001b[39m GC \u001b[90m(\u001b[39mmin … max\u001b[90m): \u001b[39m1.96% … 3.66%\n",
              " Time  \u001b[90m(\u001b[39m\u001b[34m\u001b[1mmedian\u001b[22m\u001b[39m\u001b[90m):     \u001b[39m\u001b[34m\u001b[1m2.972 s              \u001b[22m\u001b[39m\u001b[90m┊\u001b[39m GC \u001b[90m(\u001b[39mmedian\u001b[90m):    \u001b[39m2.81%\n",
              " Time  \u001b[90m(\u001b[39m\u001b[32m\u001b[1mmean\u001b[22m\u001b[39m ± \u001b[32mσ\u001b[39m\u001b[90m):   \u001b[39m\u001b[32m\u001b[1m2.972 s\u001b[22m\u001b[39m ± \u001b[32m22.004 ms\u001b[39m  \u001b[90m┊\u001b[39m GC \u001b[90m(\u001b[39mmean ± σ\u001b[90m):  \u001b[39m2.81% ± 1.21%\n",
              "\n",
              "  \u001b[34m█\u001b[39m\u001b[39m \u001b[39m \u001b[39m \u001b[39m \u001b[39m \u001b[39m \u001b[39m \u001b[39m \u001b[39m \u001b[39m \u001b[39m \u001b[39m \u001b[39m \u001b[39m \u001b[39m \u001b[39m \u001b[39m \u001b[39m \u001b[39m \u001b[39m \u001b[39m \u001b[39m \u001b[39m \u001b[39m \u001b[39m \u001b[39m \u001b[39m \u001b[32m \u001b[39m\u001b[39m \u001b[39m \u001b[39m \u001b[39m \u001b[39m \u001b[39m \u001b[39m \u001b[39m \u001b[39m \u001b[39m \u001b[39m \u001b[39m \u001b[39m \u001b[39m \u001b[39m \u001b[39m \u001b[39m \u001b[39m \u001b[39m \u001b[39m \u001b[39m \u001b[39m \u001b[39m \u001b[39m \u001b[39m \u001b[39m \u001b[39m \u001b[39m█\u001b[39m \u001b[39m \n",
              "  \u001b[34m█\u001b[39m\u001b[39m▁\u001b[39m▁\u001b[39m▁\u001b[39m▁\u001b[39m▁\u001b[39m▁\u001b[39m▁\u001b[39m▁\u001b[39m▁\u001b[39m▁\u001b[39m▁\u001b[39m▁\u001b[39m▁\u001b[39m▁\u001b[39m▁\u001b[39m▁\u001b[39m▁\u001b[39m▁\u001b[39m▁\u001b[39m▁\u001b[39m▁\u001b[39m▁\u001b[39m▁\u001b[39m▁\u001b[39m▁\u001b[39m▁\u001b[39m▁\u001b[32m▁\u001b[39m\u001b[39m▁\u001b[39m▁\u001b[39m▁\u001b[39m▁\u001b[39m▁\u001b[39m▁\u001b[39m▁\u001b[39m▁\u001b[39m▁\u001b[39m▁\u001b[39m▁\u001b[39m▁\u001b[39m▁\u001b[39m▁\u001b[39m▁\u001b[39m▁\u001b[39m▁\u001b[39m▁\u001b[39m▁\u001b[39m▁\u001b[39m▁\u001b[39m▁\u001b[39m▁\u001b[39m▁\u001b[39m▁\u001b[39m▁\u001b[39m▁\u001b[39m█\u001b[39m \u001b[39m▁\n",
              "  2.96 s\u001b[90m         Histogram: frequency by time\u001b[39m        2.99 s \u001b[0m\u001b[1m<\u001b[22m\n",
              "\n",
              " Memory estimate\u001b[90m: \u001b[39m\u001b[33m1.49 GiB\u001b[39m, allocs estimate\u001b[90m: \u001b[39m\u001b[33m20789\u001b[39m."
            ]
          },
          "metadata": {}
        }
      ]
    },
    {
      "cell_type": "markdown",
      "source": [
        "*  We test extensively using the script [test_log_frechet.jl](https://github.com/dnguyend/MiscCollection/blob/main/MiscStiefelLogTest/misc_stiefel_frechet/test_log_frechet.jl) to generate manifolds of different size, alpha and distance. We save the result in csv files, max_05 and max_05_pretol5 corresponding to distance at most $0.5\\pi$, max_20 corresponds to distance at most $2\\pi$ and max_40 corresponds to distance at most $4\\pi$\n",
        "We put data in data frames and summarize the results:"
      ],
      "metadata": {
        "id": "ZLiY753sqMiB"
      }
    },
    {
      "cell_type": "code",
      "source": [
        "\n",
        "download(\"https://raw.githubusercontent.com/dnguyend/MiscCollection/main/MiscStiefelLogTest/misc_stiefel_frechet/test_with_local_lbfgs/max_05.csv\", \"max_05.csv\")\n",
        "download(\"https://raw.githubusercontent.com/dnguyend/MiscCollection/main/MiscStiefelLogTest/misc_stiefel_frechet/test_with_local_lbfgs/max_05_pretol5.csv\", \"max_05_pretol5.csv\")\n",
        "download(\"https://raw.githubusercontent.com/dnguyend/MiscCollection/main/MiscStiefelLogTest/misc_stiefel_frechet/test_with_local_lbfgs/max_20.csv\", \"max_20.csv\")\n",
        "download(\"https://raw.githubusercontent.com/dnguyend/MiscCollection/main/MiscStiefelLogTest/misc_stiefel_frechet/test_with_local_lbfgs/max_40.csv\", \"max_40.csv\")"
      ],
      "metadata": {
        "colab": {
          "base_uri": "https://localhost:8080/"
        },
        "id": "kYyoOyBrqg3p",
        "outputId": "0e6200aa-032f-48c2-cfac-26a8a1d0d282"
      },
      "execution_count": 24,
      "outputs": [
        {
          "output_type": "execute_result",
          "data": {
            "text/plain": [
              "\"max_40.csv\""
            ]
          },
          "metadata": {},
          "execution_count": 24
        }
      ]
    },
    {
      "cell_type": "code",
      "source": [
        "Pkg.add(\"DataFrames\")\n",
        "Pkg.add(\"CSV\")\n",
        "using DataFrames, CSV"
      ],
      "metadata": {
        "colab": {
          "base_uri": "https://localhost:8080/"
        },
        "id": "KeRGbVjgqzMB",
        "outputId": "1d8494b4-7e1c-4c86-ab2f-10bcf2ab112b"
      },
      "execution_count": 9,
      "outputs": [
        {
          "output_type": "stream",
          "name": "stderr",
          "text": [
            "\u001b[32m\u001b[1m   Resolving\u001b[22m\u001b[39m package versions...\n",
            "┌ Warning: could not download https://pkg.julialang.org/registries\n",
            "│   exception = Downloads.RequestError(\"https://pkg.julialang.org/registries\", 7, \"Couldn't connect to server\", Downloads.Response(\"https\", \"https://in.pkg.julialang.org/registries\", 301, \"HTTP/2 301\", [\"server\" => \"Varnish\", \"retry-after\" => \"0\", \"location\" => \"https://in.pkg.julialang.org/registries\", \"x-geo-continent\" => \"AS\", \"x-geo-country\" => \"SG\", \"x-geo-region\" => \"01\", \"accept-ranges\" => \"bytes\", \"date\" => \"Sat, 29 Oct 2022 02:56:23 GMT\", \"via\" => \"1.1 varnish\", \"x-served-by\" => \"cache-qpg1248-QPG\", \"x-cache\" => \"HIT\", \"x-cache-hits\" => \"0\", \"x-timer\" => \"S1667012184.987835,VS0,VE1\", \"content-length\" => \"0\"]))\n",
            "└ @ Pkg.Registry /cache/build/default-amdci4-6/julialang/julia-release-1-dot-8/usr/share/julia/stdlib/v1.8/Pkg/src/Registry/Registry.jl:68\n",
            "\u001b[32m\u001b[1m   Installed\u001b[22m\u001b[39m PooledArrays ─────── v1.4.2\n",
            "\u001b[32m\u001b[1m   Installed\u001b[22m\u001b[39m InvertedIndices ──── v1.1.0\n",
            "\u001b[32m\u001b[1m   Installed\u001b[22m\u001b[39m Crayons ──────────── v4.1.1\n",
            "\u001b[32m\u001b[1m   Installed\u001b[22m\u001b[39m StringManipulation ─ v0.3.0\n",
            "\u001b[32m\u001b[1m   Installed\u001b[22m\u001b[39m DataFrames ───────── v1.4.2\n",
            "\u001b[32m\u001b[1m   Installed\u001b[22m\u001b[39m PrettyTables ─────── v2.1.2\n",
            "\u001b[32m\u001b[1m    Updating\u001b[22m\u001b[39m `~/.julia/environments/v1.8/Project.toml`\n",
            " \u001b[90m [a93c6f00] \u001b[39m\u001b[92m+ DataFrames v1.4.2\u001b[39m\n",
            "\u001b[32m\u001b[1m    Updating\u001b[22m\u001b[39m `~/.julia/environments/v1.8/Manifest.toml`\n",
            " \u001b[90m [a8cc5b0e] \u001b[39m\u001b[92m+ Crayons v4.1.1\u001b[39m\n",
            " \u001b[90m [a93c6f00] \u001b[39m\u001b[92m+ DataFrames v1.4.2\u001b[39m\n",
            " \u001b[90m [41ab1584] \u001b[39m\u001b[92m+ InvertedIndices v1.1.0\u001b[39m\n",
            " \u001b[90m [2dfb63ee] \u001b[39m\u001b[92m+ PooledArrays v1.4.2\u001b[39m\n",
            " \u001b[90m [08abe8d2] \u001b[39m\u001b[92m+ PrettyTables v2.1.2\u001b[39m\n",
            " \u001b[90m [892a3eda] \u001b[39m\u001b[92m+ StringManipulation v0.3.0\u001b[39m\n",
            " \u001b[90m [9fa8497b] \u001b[39m\u001b[92m+ Future\u001b[39m\n",
            "\u001b[32m\u001b[1mPrecompiling\u001b[22m\u001b[39m project...\n",
            "\u001b[32m  ✓ \u001b[39m\u001b[90mInvertedIndices\u001b[39m\n",
            "\u001b[32m  ✓ \u001b[39m\u001b[90mPooledArrays\u001b[39m\n",
            "\u001b[32m  ✓ \u001b[39m\u001b[90mCrayons\u001b[39m\n",
            "\u001b[32m  ✓ \u001b[39m\u001b[90mStringManipulation\u001b[39m\n",
            "\u001b[32m  ✓ \u001b[39m\u001b[90mPrettyTables\u001b[39m\n",
            "\u001b[32m  ✓ \u001b[39mDataFrames\n",
            "  6 dependencies successfully precompiled in 27 seconds. 188 already precompiled. 4 skipped during auto due to previous errors.\n",
            "\u001b[32m\u001b[1m   Resolving\u001b[22m\u001b[39m package versions...\n",
            "┌ Warning: could not download https://pkg.julialang.org/registries\n",
            "│   exception = Downloads.RequestError(\"https://pkg.julialang.org/registries\", 7, \"Couldn't connect to server\", Downloads.Response(\"https\", \"https://in.pkg.julialang.org/registries\", 301, \"HTTP/2 301\", [\"server\" => \"Varnish\", \"retry-after\" => \"0\", \"location\" => \"https://in.pkg.julialang.org/registries\", \"x-geo-continent\" => \"AS\", \"x-geo-country\" => \"SG\", \"x-geo-region\" => \"01\", \"accept-ranges\" => \"bytes\", \"date\" => \"Sat, 29 Oct 2022 02:56:57 GMT\", \"via\" => \"1.1 varnish\", \"x-served-by\" => \"cache-qpg1259-QPG\", \"x-cache\" => \"HIT\", \"x-cache-hits\" => \"0\", \"x-timer\" => \"S1667012218.632255,VS0,VE1\", \"content-length\" => \"0\"]))\n",
            "└ @ Pkg.Registry /cache/build/default-amdci4-6/julialang/julia-release-1-dot-8/usr/share/julia/stdlib/v1.8/Pkg/src/Registry/Registry.jl:68\n",
            "\u001b[32m\u001b[1m   Installed\u001b[22m\u001b[39m InlineStrings ── v1.3.0\n",
            "\u001b[32m\u001b[1m   Installed\u001b[22m\u001b[39m WeakRefStrings ─ v1.4.2\n",
            "\u001b[32m\u001b[1m   Installed\u001b[22m\u001b[39m FilePathsBase ── v0.9.20\n",
            "\u001b[32m\u001b[1m   Installed\u001b[22m\u001b[39m SentinelArrays ─ v1.3.16\n",
            "\u001b[32m\u001b[1m   Installed\u001b[22m\u001b[39m CSV ──────────── v0.10.7\n",
            "\u001b[32m\u001b[1m    Updating\u001b[22m\u001b[39m `~/.julia/environments/v1.8/Project.toml`\n",
            " \u001b[90m [336ed68f] \u001b[39m\u001b[92m+ CSV v0.10.7\u001b[39m\n",
            "\u001b[32m\u001b[1m    Updating\u001b[22m\u001b[39m `~/.julia/environments/v1.8/Manifest.toml`\n",
            " \u001b[90m [336ed68f] \u001b[39m\u001b[92m+ CSV v0.10.7\u001b[39m\n",
            " \u001b[90m [48062228] \u001b[39m\u001b[92m+ FilePathsBase v0.9.20\u001b[39m\n",
            " \u001b[90m [842dd82b] \u001b[39m\u001b[92m+ InlineStrings v1.3.0\u001b[39m\n",
            " \u001b[90m [91c51154] \u001b[39m\u001b[92m+ SentinelArrays v1.3.16\u001b[39m\n",
            " \u001b[90m [ea10d353] \u001b[39m\u001b[92m+ WeakRefStrings v1.4.2\u001b[39m\n",
            "\u001b[32m\u001b[1mPrecompiling\u001b[22m\u001b[39m project...\n",
            "\u001b[32m  ✓ \u001b[39m\u001b[90mInlineStrings\u001b[39m\n",
            "\u001b[32m  ✓ \u001b[39m\u001b[90mSentinelArrays\u001b[39m\n",
            "\u001b[32m  ✓ \u001b[39m\u001b[90mFilePathsBase\u001b[39m\n",
            "\u001b[32m  ✓ \u001b[39m\u001b[90mWeakRefStrings\u001b[39m\n",
            "\u001b[32m  ✓ \u001b[39mCSV\n",
            "  5 dependencies successfully precompiled in 6 seconds. 194 already precompiled. 4 skipped during auto due to previous errors.\n"
          ]
        }
      ]
    },
    {
      "cell_type": "markdown",
      "source": [
        "* Comparing data, errOld is error using the old log, errNew is using the new log, timeOld is time using the old log, time new using new log. We also compare the norm. We will see sometime the log is better than the data generating norm (colum normGEN, ie if we generate point q using vector  $f\\pi X$, old norm is $fp\\pi |X|_{Riemann}$."
      ],
      "metadata": {
        "id": "MpAisuE7q3kg"
      }
    },
    {
      "cell_type": "code",
      "source": [
        "# at distance at most 0.5pi\n",
        "header = vec([\"n\", \"k\",\t\"alpha\",\t\"errOld\",\t\"errNew\",\t\"timeOld\",\t\"timeNew\",\t\"normOld\",\t\"normNew\",\t\"normGen\"])\n",
        "m05 = DataFrame(CSV.File(\"max_05.csv\", header=false))\n",
        "rename!(m05, header)\n",
        "display(show(m05, allrows=true, allcols=true))\n",
        "describe(m05)"
      ],
      "metadata": {
        "colab": {
          "base_uri": "https://localhost:8080/",
          "height": 1000
        },
        "id": "ttc5PT2cq6hA",
        "outputId": "02e7bd2a-7936-4fb2-af3e-15e65383b991"
      },
      "execution_count": 25,
      "outputs": [
        {
          "output_type": "stream",
          "name": "stdout",
          "text": [
            "\u001b[1m50×10 DataFrame\u001b[0m\n",
            "\u001b[1m Row \u001b[0m│\u001b[1m n       \u001b[0m\u001b[1m k       \u001b[0m\u001b[1m alpha      \u001b[0m\u001b[1m errOld      \u001b[0m\u001b[1m errNew      \u001b[0m\u001b[1m timeOld     \u001b[0m\u001b[1m timeNew     \u001b[0m\u001b[1m normOld  \u001b[0m\u001b[1m normNew  \u001b[0m\u001b[1m normGen  \u001b[0m\n",
            "     │\u001b[90m Float64 \u001b[0m\u001b[90m Float64 \u001b[0m\u001b[90m Float64    \u001b[0m\u001b[90m Float64     \u001b[0m\u001b[90m Float64     \u001b[0m\u001b[90m Float64     \u001b[0m\u001b[90m Float64     \u001b[0m\u001b[90m Float64  \u001b[0m\u001b[90m Float64  \u001b[0m\u001b[90m Float64  \u001b[0m\n",
            "─────┼────────────────────────────────────────────────────────────────────────────────────────────────────────────────\n",
            "   1 │    20.0      3.0   1.68642    2.21184e-10  1.49331e-12  0.000803736  0.000239151  0.574269  0.574269  0.574269\n",
            "   2 │    95.0      9.0   0.0392704  9.16708e-12  3.78308e-14  0.00115071   0.00071861   0.435339  0.435339  0.435339\n",
            "   3 │   818.0    631.0   0.213541   1.77093e-12  3.86826e-14  2.57352      1.67809      0.439288  0.439288  0.439288\n",
            "   4 │   110.0     76.0   1.957      1.42964e-10  2.94126e-12  0.0453113    0.0277302    1.09439   1.09439   1.09439\n",
            "   5 │    56.0     25.0  -0.826732   1.66782e-10  1.76192e-12  0.00592416   0.00392369   0.390783  0.390783  0.390783\n",
            "   6 │   185.0     42.0  -0.0805532  1.12204e-11  1.83192e-12  0.0141987    0.0114475    1.45185   1.45185   1.45185\n",
            "   7 │   477.0    332.0  -0.764934   9.7686e-13   9.7623e-13   0.993179     0.503727     1.03439   1.03439   1.03439\n",
            "   8 │    44.0     15.0   0.558682   1.12116e-10  1.01181e-11  0.00440823   0.00240653   1.15487   1.15487   1.15487\n",
            "   9 │     4.0      3.0   0.971937   2.28766e-9   1.68514e-11  0.00151743   0.000400456  0.804717  0.804717  0.804717\n",
            "  10 │    83.0     51.0  -0.730182   6.73023e-11  2.51761e-12  0.0216725    0.0131877    0.958002  0.958002  0.958002\n",
            "  11 │     6.0      2.0   1.61998    2.7192e-9    1.44838e-10  0.00368903   0.000958681  1.33941   1.33941   1.33941\n",
            "  12 │    99.0     42.0  -0.443852   5.51822e-13  1.5349e-13   0.0104949    0.00836168   1.02063   1.02063   1.02063\n",
            "  13 │    31.0     11.0   0.922384   2.79011e-11  1.46039e-12  0.00140194   0.000827054  0.200134  0.200134  0.200134\n",
            "  14 │   473.0    109.0   0.682749   1.99499e-12  2.02716e-13  0.0995807    0.0831971    1.30972   1.30972   1.30972\n",
            "  15 │   934.0    542.0   1.36606    3.64509e-12  1.67913e-13  3.49566      2.05929      0.7566    0.7566    0.7566\n",
            "  16 │   939.0      6.0   0.209802   3.37129e-12  7.5967e-14   0.0012482    0.000890991  0.788184  0.788184  0.788184\n",
            "  17 │   263.0     43.0   0.404611   1.10399e-12  1.14436e-13  0.012655     0.00982614   0.707402  0.707402  0.707402\n",
            "  18 │    48.0     45.0   0.510312   2.10378e-10  4.01046e-12  0.0100765    0.00473838   0.520282  0.520282  0.520282\n",
            "  19 │    26.0      3.0   0.418006   1.27312e-9   3.29266e-11  0.00178463   0.000570519  1.55651   1.55651   1.55651\n",
            "  20 │    23.0     12.0   1.41382    4.76137e-11  6.34584e-12  0.00235727   0.0010949    0.350305  0.350305  0.350305\n",
            "  21 │    48.0     32.0  -0.586777   3.17851e-12  1.16768e-13  0.00472487   0.00306727   0.556201  0.556201  0.556201\n",
            "  22 │    11.0      4.0   1.67119    2.20115e-10  3.67525e-12  0.00122906   0.000374888  0.550683  0.550683  0.550683\n",
            "  23 │   175.0    127.0   1.8282     3.55445e-11  6.50561e-12  0.135043     0.0727952    1.42469   1.42469   1.42469\n",
            "  24 │   156.0     96.0   1.24567    1.23747e-11  3.26746e-13  0.0282139    0.0235283    0.187572  0.187572  0.187572\n",
            "  25 │   513.0    335.0   0.0804244  9.40118e-13  1.03836e-12  0.737688     0.412253     0.64242   0.64242   0.64242\n",
            "  26 │     4.0      3.0   1.97394    2.36098e-9   2.97068e-11  0.00142792   0.000347185  0.765261  0.765261  0.765261\n",
            "  27 │    25.0      5.0   2.06291    1.58057e-10  5.11713e-12  0.00165829   0.000596894  1.04262   1.04262   1.04262\n",
            "  28 │   551.0    493.0   1.09814    5.10762e-13  5.1055e-13   1.26267      0.642022     0.326694  0.326694  0.326694\n",
            "  29 │    12.0      2.0   1.99666    1.47352e-11  1.40932e-13  0.000662661  0.00017542   0.241237  0.241237  0.241237\n",
            "  30 │    39.0     16.0   1.48803    4.37809e-10  4.79393e-12  0.00458024   0.00265208   1.09325   1.09325   1.09325\n",
            "  31 │    39.0     13.0   0.540123   5.92171e-11  2.26311e-12  0.00242646   0.00135541   0.736265  0.736265  0.736265\n",
            "  32 │   494.0    393.0   1.46246    1.63941e-11  1.63252e-12  1.15943      0.602672     1.06827   1.06827   1.06827\n",
            "  33 │    96.0     34.0   0.730281   1.60174e-11  2.14165e-12  0.0088946    0.00590294   0.713867  0.713867  0.713867\n",
            "  34 │    12.0     10.0   1.99384    3.00824e-9   5.99229e-11  0.00958371   0.00309442   1.35026   1.35026   1.35026\n",
            "  35 │     4.0      2.0   0.322768   1.88889e-9   4.4555e-10   0.00124291   0.00115553   1.41093   1.41093   1.41093\n",
            "  36 │     4.0      3.0   0.76881    4.27791e-10  9.62119e-12  0.00142779   0.000279306  0.370204  0.370204  0.370204\n",
            "  37 │   411.0    150.0   0.273437   1.08961e-13  1.80897e-13  0.105576     0.0964324    0.213977  0.213977  0.213977\n",
            "  38 │    26.0     13.0  -0.118139   1.80994e-12  5.93969e-14  0.00150368   0.000908877  0.188751  0.188751  0.188751\n",
            "  39 │   449.0    150.0   1.62944    2.25847e-12  3.315e-12    0.237363     0.169721     1.47586   1.47586   1.47586\n",
            "  40 │    37.0     21.0  -0.0807755  2.09262e-10  3.99104e-12  0.00458942   0.00269066   0.912828  0.912828  0.912828\n",
            "  41 │     6.0      2.0  -0.126533   9.07236e-10  3.62584e-10  0.00157981   0.00113252   1.55481   1.55481   1.55481\n",
            "  42 │     4.0      2.0   0.990365   2.54006e-11  6.40592e-13  0.000779877  0.000185765  0.297034  0.297034  0.297034\n",
            "  43 │     7.0      5.0   1.44484    6.18703e-10  3.76581e-12  0.00147998   0.00045548   0.497643  0.497643  0.497643\n",
            "  44 │   675.0    242.0   1.53307    4.93926e-12  1.93345e-13  0.449157     0.351957     0.723576  0.723576  0.723576\n",
            "  45 │   991.0    237.0   1.28012    1.67117e-12  6.32341e-14  0.438316     0.369527     0.808199  0.808199  0.808199\n",
            "  46 │     5.0      4.0  -0.732306   9.06433e-10  5.64138e-12  0.00132629   0.00031751   0.526614  0.526614  0.526614\n",
            "  47 │    72.0      2.0   0.974966   2.53156e-10  1.28052e-11  0.00170135   0.00040862   1.19895   1.19895   1.19895\n",
            "  48 │     4.0      3.0   1.65957    2.46961e-9   2.09607e-11  0.00232315   0.000395225  0.458694  0.458694  0.458694\n",
            "  49 │    19.0      4.0   0.264634   1.32708e-11  3.27537e-14  0.000601534  0.000236103  0.196148  0.196148  0.196148\n",
            "  50 │   143.0    119.0  -0.11974    1.11315e-11  1.07923e-12  0.0739315    0.0418347    1.36585   1.36585   1.36585"
          ]
        },
        {
          "output_type": "display_data",
          "data": {
            "text/plain": [
              "nothing"
            ]
          },
          "metadata": {}
        },
        {
          "output_type": "execute_result",
          "data": {
            "text/plain": [
              "\u001b[1m10×7 DataFrame\u001b[0m\n",
              "\u001b[1m Row \u001b[0m│\u001b[1m variable \u001b[0m\u001b[1m mean          \u001b[0m\u001b[1m min          \u001b[0m\u001b[1m median       \u001b[0m\u001b[1m max          \u001b[0m\u001b[1m nmis\u001b[0m ⋯\n",
              "     │\u001b[90m Symbol   \u001b[0m\u001b[90m Float64       \u001b[0m\u001b[90m Float64      \u001b[0m\u001b[90m Float64      \u001b[0m\u001b[90m Float64      \u001b[0m\u001b[90m Int6\u001b[0m ⋯\n",
              "─────┼──────────────────────────────────────────────────────────────────────────\n",
              "   1 │ n         195.32          4.0          48.0          991.0              ⋯\n",
              "   2 │ k          90.48          2.0          15.5          631.0\n",
              "   3 │ alpha       0.753559     -0.826732      0.749545       2.06291\n",
              "   4 │ errOld      4.27916e-10   1.08961e-13   3.17228e-11    3.00824e-9\n",
              "   5 │ errNew      2.43448e-11   3.27537e-14   1.98678e-12    4.4555e-10       ⋯\n",
              "   6 │ timeOld     0.239635      0.000601534   0.00458483     3.49566\n",
              "   7 │ timeNew     0.144402      0.00017542    0.00267137     2.05929\n",
              "   8 │ normOld     0.795729      0.187572      0.746433       1.55651\n",
              "   9 │ normNew     0.795729      0.187572      0.746433       1.55651          ⋯\n",
              "  10 │ normGen     0.795729      0.187572      0.746433       1.55651\n",
              "\u001b[36m                                                               2 columns omitted\u001b[0m"
            ],
            "text/html": [
              "<div><div style = \"float: left;\"><span>10×7 DataFrame</span></div><div style = \"clear: both;\"></div></div><div class = \"data-frame\" style = \"overflow-x: scroll;\"><table class = \"data-frame\" style = \"margin-bottom: 6px;\"><thead><tr class = \"header\"><th class = \"rowNumber\" style = \"font-weight: bold; text-align: right;\">Row</th><th style = \"text-align: left;\">variable</th><th style = \"text-align: left;\">mean</th><th style = \"text-align: left;\">min</th><th style = \"text-align: left;\">median</th><th style = \"text-align: left;\">max</th><th style = \"text-align: left;\">nmissing</th><th style = \"text-align: left;\">eltype</th></tr><tr class = \"subheader headerLastRow\"><th class = \"rowNumber\" style = \"font-weight: bold; text-align: right;\"></th><th title = \"Symbol\" style = \"text-align: left;\">Symbol</th><th title = \"Float64\" style = \"text-align: left;\">Float64</th><th title = \"Float64\" style = \"text-align: left;\">Float64</th><th title = \"Float64\" style = \"text-align: left;\">Float64</th><th title = \"Float64\" style = \"text-align: left;\">Float64</th><th title = \"Int64\" style = \"text-align: left;\">Int64</th><th title = \"DataType\" style = \"text-align: left;\">DataType</th></tr></thead><tbody><tr><td class = \"rowNumber\" style = \"font-weight: bold; text-align: right;\">1</td><td style = \"text-align: left;\">n</td><td style = \"text-align: right;\">195.32</td><td style = \"text-align: right;\">4.0</td><td style = \"text-align: right;\">48.0</td><td style = \"text-align: right;\">991.0</td><td style = \"text-align: right;\">0</td><td style = \"text-align: left;\">Float64</td></tr><tr><td class = \"rowNumber\" style = \"font-weight: bold; text-align: right;\">2</td><td style = \"text-align: left;\">k</td><td style = \"text-align: right;\">90.48</td><td style = \"text-align: right;\">2.0</td><td style = \"text-align: right;\">15.5</td><td style = \"text-align: right;\">631.0</td><td style = \"text-align: right;\">0</td><td style = \"text-align: left;\">Float64</td></tr><tr><td class = \"rowNumber\" style = \"font-weight: bold; text-align: right;\">3</td><td style = \"text-align: left;\">alpha</td><td style = \"text-align: right;\">0.753559</td><td style = \"text-align: right;\">-0.826732</td><td style = \"text-align: right;\">0.749545</td><td style = \"text-align: right;\">2.06291</td><td style = \"text-align: right;\">0</td><td style = \"text-align: left;\">Float64</td></tr><tr><td class = \"rowNumber\" style = \"font-weight: bold; text-align: right;\">4</td><td style = \"text-align: left;\">errOld</td><td style = \"text-align: right;\">4.27916e-10</td><td style = \"text-align: right;\">1.08961e-13</td><td style = \"text-align: right;\">3.17228e-11</td><td style = \"text-align: right;\">3.00824e-9</td><td style = \"text-align: right;\">0</td><td style = \"text-align: left;\">Float64</td></tr><tr><td class = \"rowNumber\" style = \"font-weight: bold; text-align: right;\">5</td><td style = \"text-align: left;\">errNew</td><td style = \"text-align: right;\">2.43448e-11</td><td style = \"text-align: right;\">3.27537e-14</td><td style = \"text-align: right;\">1.98678e-12</td><td style = \"text-align: right;\">4.4555e-10</td><td style = \"text-align: right;\">0</td><td style = \"text-align: left;\">Float64</td></tr><tr><td class = \"rowNumber\" style = \"font-weight: bold; text-align: right;\">6</td><td style = \"text-align: left;\">timeOld</td><td style = \"text-align: right;\">0.239635</td><td style = \"text-align: right;\">0.000601534</td><td style = \"text-align: right;\">0.00458483</td><td style = \"text-align: right;\">3.49566</td><td style = \"text-align: right;\">0</td><td style = \"text-align: left;\">Float64</td></tr><tr><td class = \"rowNumber\" style = \"font-weight: bold; text-align: right;\">7</td><td style = \"text-align: left;\">timeNew</td><td style = \"text-align: right;\">0.144402</td><td style = \"text-align: right;\">0.00017542</td><td style = \"text-align: right;\">0.00267137</td><td style = \"text-align: right;\">2.05929</td><td style = \"text-align: right;\">0</td><td style = \"text-align: left;\">Float64</td></tr><tr><td class = \"rowNumber\" style = \"font-weight: bold; text-align: right;\">8</td><td style = \"text-align: left;\">normOld</td><td style = \"text-align: right;\">0.795729</td><td style = \"text-align: right;\">0.187572</td><td style = \"text-align: right;\">0.746433</td><td style = \"text-align: right;\">1.55651</td><td style = \"text-align: right;\">0</td><td style = \"text-align: left;\">Float64</td></tr><tr><td class = \"rowNumber\" style = \"font-weight: bold; text-align: right;\">9</td><td style = \"text-align: left;\">normNew</td><td style = \"text-align: right;\">0.795729</td><td style = \"text-align: right;\">0.187572</td><td style = \"text-align: right;\">0.746433</td><td style = \"text-align: right;\">1.55651</td><td style = \"text-align: right;\">0</td><td style = \"text-align: left;\">Float64</td></tr><tr><td class = \"rowNumber\" style = \"font-weight: bold; text-align: right;\">10</td><td style = \"text-align: left;\">normGen</td><td style = \"text-align: right;\">0.795729</td><td style = \"text-align: right;\">0.187572</td><td style = \"text-align: right;\">0.746433</td><td style = \"text-align: right;\">1.55651</td><td style = \"text-align: right;\">0</td><td style = \"text-align: left;\">Float64</td></tr></tbody></table></div>"
            ],
            "text/latex": "\\begin{tabular}{r|ccccccc}\n\t& variable & mean & min & median & max & nmissing & eltype\\\\\n\t\\hline\n\t& Symbol & Float64 & Float64 & Float64 & Float64 & Int64 & DataType\\\\\n\t\\hline\n\t1 & n & 195.32 & 4.0 & 48.0 & 991.0 & 0 & Float64 \\\\\n\t2 & k & 90.48 & 2.0 & 15.5 & 631.0 & 0 & Float64 \\\\\n\t3 & alpha & 0.753559 & -0.826732 & 0.749545 & 2.06291 & 0 & Float64 \\\\\n\t4 & errOld & 4.27916e-10 & 1.08961e-13 & 3.17228e-11 & 3.00824e-9 & 0 & Float64 \\\\\n\t5 & errNew & 2.43448e-11 & 3.27537e-14 & 1.98678e-12 & 4.4555e-10 & 0 & Float64 \\\\\n\t6 & timeOld & 0.239635 & 0.000601534 & 0.00458483 & 3.49566 & 0 & Float64 \\\\\n\t7 & timeNew & 0.144402 & 0.00017542 & 0.00267137 & 2.05929 & 0 & Float64 \\\\\n\t8 & normOld & 0.795729 & 0.187572 & 0.746433 & 1.55651 & 0 & Float64 \\\\\n\t9 & normNew & 0.795729 & 0.187572 & 0.746433 & 1.55651 & 0 & Float64 \\\\\n\t10 & normGen & 0.795729 & 0.187572 & 0.746433 & 1.55651 & 0 & Float64 \\\\\n\\end{tabular}\n"
          },
          "metadata": {},
          "execution_count": 25
        }
      ]
    },
    {
      "cell_type": "code",
      "source": [
        "# same distance 0.5pi, but pretol=1e-5 -\n",
        "header = vec([\"n\", \"k\",\t\"alpha\",\t\"errOld\",\t\"errNew\",\t\"timeOld\",\t\"timeNew\",\t\"normOld\",\t\"normNew\",\t\"normGen\"])\n",
        "m05p5 = DataFrame(CSV.File(\"max_05_pretol5.csv\", header=false))\n",
        "rename!(m05p5, header)\n",
        "describe(m05p5)"
      ],
      "metadata": {
        "colab": {
          "base_uri": "https://localhost:8080/",
          "height": 312
        },
        "id": "anX2bWwNrOx-",
        "outputId": "88c609c7-1a73-4dc6-895e-2882ebaaa5ea"
      },
      "execution_count": 26,
      "outputs": [
        {
          "output_type": "execute_result",
          "data": {
            "text/plain": [
              "\u001b[1m10×7 DataFrame\u001b[0m\n",
              "\u001b[1m Row \u001b[0m│\u001b[1m variable \u001b[0m\u001b[1m mean          \u001b[0m\u001b[1m min          \u001b[0m\u001b[1m median       \u001b[0m\u001b[1m max           \u001b[0m\u001b[1m nmi\u001b[0m ⋯\n",
              "     │\u001b[90m Symbol   \u001b[0m\u001b[90m Float64       \u001b[0m\u001b[90m Float64      \u001b[0m\u001b[90m Float64      \u001b[0m\u001b[90m Float64       \u001b[0m\u001b[90m Int\u001b[0m ⋯\n",
              "─────┼──────────────────────────────────────────────────────────────────────────\n",
              "   1 │ n         195.32          4.0          48.0          991.0              ⋯\n",
              "   2 │ k          90.48          2.0          15.5          631.0\n",
              "   3 │ alpha       0.753559     -0.826732      0.749545       2.06291\n",
              "   4 │ errOld      4.27916e-10   1.08961e-13   3.17228e-11    3.00824e-9\n",
              "   5 │ errNew      2.30014e-11   2.1155e-14    2.74431e-12    4.56195e-10      ⋯\n",
              "   6 │ timeOld     0.238219      0.00060856    0.00463792     3.4883\n",
              "   7 │ timeNew     0.182671      0.000210703   0.00285558     2.78086\n",
              "   8 │ normOld     0.795729      0.187572      0.746433       1.55651\n",
              "   9 │ normNew     0.795729      0.187572      0.746433       1.55651          ⋯\n",
              "  10 │ normGen     0.795729      0.187572      0.746433       1.55651\n",
              "\u001b[36m                                                               2 columns omitted\u001b[0m"
            ],
            "text/html": [
              "<div><div style = \"float: left;\"><span>10×7 DataFrame</span></div><div style = \"clear: both;\"></div></div><div class = \"data-frame\" style = \"overflow-x: scroll;\"><table class = \"data-frame\" style = \"margin-bottom: 6px;\"><thead><tr class = \"header\"><th class = \"rowNumber\" style = \"font-weight: bold; text-align: right;\">Row</th><th style = \"text-align: left;\">variable</th><th style = \"text-align: left;\">mean</th><th style = \"text-align: left;\">min</th><th style = \"text-align: left;\">median</th><th style = \"text-align: left;\">max</th><th style = \"text-align: left;\">nmissing</th><th style = \"text-align: left;\">eltype</th></tr><tr class = \"subheader headerLastRow\"><th class = \"rowNumber\" style = \"font-weight: bold; text-align: right;\"></th><th title = \"Symbol\" style = \"text-align: left;\">Symbol</th><th title = \"Float64\" style = \"text-align: left;\">Float64</th><th title = \"Float64\" style = \"text-align: left;\">Float64</th><th title = \"Float64\" style = \"text-align: left;\">Float64</th><th title = \"Float64\" style = \"text-align: left;\">Float64</th><th title = \"Int64\" style = \"text-align: left;\">Int64</th><th title = \"DataType\" style = \"text-align: left;\">DataType</th></tr></thead><tbody><tr><td class = \"rowNumber\" style = \"font-weight: bold; text-align: right;\">1</td><td style = \"text-align: left;\">n</td><td style = \"text-align: right;\">195.32</td><td style = \"text-align: right;\">4.0</td><td style = \"text-align: right;\">48.0</td><td style = \"text-align: right;\">991.0</td><td style = \"text-align: right;\">0</td><td style = \"text-align: left;\">Float64</td></tr><tr><td class = \"rowNumber\" style = \"font-weight: bold; text-align: right;\">2</td><td style = \"text-align: left;\">k</td><td style = \"text-align: right;\">90.48</td><td style = \"text-align: right;\">2.0</td><td style = \"text-align: right;\">15.5</td><td style = \"text-align: right;\">631.0</td><td style = \"text-align: right;\">0</td><td style = \"text-align: left;\">Float64</td></tr><tr><td class = \"rowNumber\" style = \"font-weight: bold; text-align: right;\">3</td><td style = \"text-align: left;\">alpha</td><td style = \"text-align: right;\">0.753559</td><td style = \"text-align: right;\">-0.826732</td><td style = \"text-align: right;\">0.749545</td><td style = \"text-align: right;\">2.06291</td><td style = \"text-align: right;\">0</td><td style = \"text-align: left;\">Float64</td></tr><tr><td class = \"rowNumber\" style = \"font-weight: bold; text-align: right;\">4</td><td style = \"text-align: left;\">errOld</td><td style = \"text-align: right;\">4.27916e-10</td><td style = \"text-align: right;\">1.08961e-13</td><td style = \"text-align: right;\">3.17228e-11</td><td style = \"text-align: right;\">3.00824e-9</td><td style = \"text-align: right;\">0</td><td style = \"text-align: left;\">Float64</td></tr><tr><td class = \"rowNumber\" style = \"font-weight: bold; text-align: right;\">5</td><td style = \"text-align: left;\">errNew</td><td style = \"text-align: right;\">2.30014e-11</td><td style = \"text-align: right;\">2.1155e-14</td><td style = \"text-align: right;\">2.74431e-12</td><td style = \"text-align: right;\">4.56195e-10</td><td style = \"text-align: right;\">0</td><td style = \"text-align: left;\">Float64</td></tr><tr><td class = \"rowNumber\" style = \"font-weight: bold; text-align: right;\">6</td><td style = \"text-align: left;\">timeOld</td><td style = \"text-align: right;\">0.238219</td><td style = \"text-align: right;\">0.00060856</td><td style = \"text-align: right;\">0.00463792</td><td style = \"text-align: right;\">3.4883</td><td style = \"text-align: right;\">0</td><td style = \"text-align: left;\">Float64</td></tr><tr><td class = \"rowNumber\" style = \"font-weight: bold; text-align: right;\">7</td><td style = \"text-align: left;\">timeNew</td><td style = \"text-align: right;\">0.182671</td><td style = \"text-align: right;\">0.000210703</td><td style = \"text-align: right;\">0.00285558</td><td style = \"text-align: right;\">2.78086</td><td style = \"text-align: right;\">0</td><td style = \"text-align: left;\">Float64</td></tr><tr><td class = \"rowNumber\" style = \"font-weight: bold; text-align: right;\">8</td><td style = \"text-align: left;\">normOld</td><td style = \"text-align: right;\">0.795729</td><td style = \"text-align: right;\">0.187572</td><td style = \"text-align: right;\">0.746433</td><td style = \"text-align: right;\">1.55651</td><td style = \"text-align: right;\">0</td><td style = \"text-align: left;\">Float64</td></tr><tr><td class = \"rowNumber\" style = \"font-weight: bold; text-align: right;\">9</td><td style = \"text-align: left;\">normNew</td><td style = \"text-align: right;\">0.795729</td><td style = \"text-align: right;\">0.187572</td><td style = \"text-align: right;\">0.746433</td><td style = \"text-align: right;\">1.55651</td><td style = \"text-align: right;\">0</td><td style = \"text-align: left;\">Float64</td></tr><tr><td class = \"rowNumber\" style = \"font-weight: bold; text-align: right;\">10</td><td style = \"text-align: left;\">normGen</td><td style = \"text-align: right;\">0.795729</td><td style = \"text-align: right;\">0.187572</td><td style = \"text-align: right;\">0.746433</td><td style = \"text-align: right;\">1.55651</td><td style = \"text-align: right;\">0</td><td style = \"text-align: left;\">Float64</td></tr></tbody></table></div>"
            ],
            "text/latex": "\\begin{tabular}{r|ccccccc}\n\t& variable & mean & min & median & max & nmissing & eltype\\\\\n\t\\hline\n\t& Symbol & Float64 & Float64 & Float64 & Float64 & Int64 & DataType\\\\\n\t\\hline\n\t1 & n & 195.32 & 4.0 & 48.0 & 991.0 & 0 & Float64 \\\\\n\t2 & k & 90.48 & 2.0 & 15.5 & 631.0 & 0 & Float64 \\\\\n\t3 & alpha & 0.753559 & -0.826732 & 0.749545 & 2.06291 & 0 & Float64 \\\\\n\t4 & errOld & 4.27916e-10 & 1.08961e-13 & 3.17228e-11 & 3.00824e-9 & 0 & Float64 \\\\\n\t5 & errNew & 2.30014e-11 & 2.1155e-14 & 2.74431e-12 & 4.56195e-10 & 0 & Float64 \\\\\n\t6 & timeOld & 0.238219 & 0.00060856 & 0.00463792 & 3.4883 & 0 & Float64 \\\\\n\t7 & timeNew & 0.182671 & 0.000210703 & 0.00285558 & 2.78086 & 0 & Float64 \\\\\n\t8 & normOld & 0.795729 & 0.187572 & 0.746433 & 1.55651 & 0 & Float64 \\\\\n\t9 & normNew & 0.795729 & 0.187572 & 0.746433 & 1.55651 & 0 & Float64 \\\\\n\t10 & normGen & 0.795729 & 0.187572 & 0.746433 & 1.55651 & 0 & Float64 \\\\\n\\end{tabular}\n"
          },
          "metadata": {},
          "execution_count": 26
        }
      ]
    },
    {
      "cell_type": "markdown",
      "source": [
        "# For distance at $2\\pi$ we use pretol 1e-7. The result still looks pretty good although there are several examples where the new method underperforms in term of error, ie it is further from the target point than the old method. But it out performs in some other examples, and timewise is still fast. \n",
        "\n",
        "* the result seems to be worse than using Optim."
      ],
      "metadata": {
        "id": "776sdnE1rmpn"
      }
    },
    {
      "cell_type": "code",
      "source": [
        "# distance at most 2pi\n",
        "header = vec([\"n\", \"k\",\t\"alpha\",\t\"errOld\",\t\"errNew\",\t\"timeOld\",\t\"timeNew\",\t\"normOld\",\t\"normNew\",\t\"normGen\"])\n",
        "m20 = DataFrame(CSV.File(\"max_20.csv\", header=false))\n",
        "rename!(m20, header)\n",
        "display(show(m20, allrows=true, allcols=true))\n",
        "describe(m20)"
      ],
      "metadata": {
        "colab": {
          "base_uri": "https://localhost:8080/",
          "height": 1000
        },
        "id": "6_1Z3WGwrR7n",
        "outputId": "c3bcff06-7915-4dac-fb99-c089397809b4"
      },
      "execution_count": 27,
      "outputs": [
        {
          "output_type": "stream",
          "name": "stdout",
          "text": [
            "\u001b[1m50×10 DataFrame\u001b[0m\n",
            "\u001b[1m Row \u001b[0m│\u001b[1m n       \u001b[0m\u001b[1m k       \u001b[0m\u001b[1m alpha      \u001b[0m\u001b[1m errOld      \u001b[0m\u001b[1m errNew      \u001b[0m\u001b[1m timeOld     \u001b[0m\u001b[1m timeNew     \u001b[0m\u001b[1m normOld    \u001b[0m\u001b[1m normNew  \u001b[0m\u001b[1m normGen  \u001b[0m\n",
            "     │\u001b[90m Float64 \u001b[0m\u001b[90m Float64 \u001b[0m\u001b[90m Float64    \u001b[0m\u001b[90m Float64     \u001b[0m\u001b[90m Float64     \u001b[0m\u001b[90m Float64     \u001b[0m\u001b[90m Float64     \u001b[0m\u001b[90m Float64    \u001b[0m\u001b[90m Float64  \u001b[0m\u001b[90m Float64  \u001b[0m\n",
            "─────┼──────────────────────────────────────────────────────────────────────────────────────────────────────────────────\n",
            "   1 │    20.0      3.0   1.68642    6.57315e-9   0.00421566   0.00880007   0.0167261      2.29708   2.30511   2.29708\n",
            "   2 │    95.0      9.0   0.0392704  1.63404e-10  7.12547e-12  0.00212912   0.00147745     1.74136   1.74136   1.74136\n",
            "   3 │   818.0    631.0   0.213541   3.22431e-12  1.24945e-12  4.77454      3.33848        1.75715   1.75715   1.75715\n",
            "   4 │   110.0     76.0   1.957      9.78674e-10  8.1329e-11   0.260404     0.144991       4.37756   4.37756   4.37756\n",
            "   5 │    56.0     25.0  -0.826732   7.63893e-10  1.74486e-11  0.0172629    0.0112218      1.56313   1.56313   1.56313\n",
            "   6 │   185.0     42.0  -0.0805532  3.1619e-10   1.0168e-10   0.0419573    0.0445165      5.80741   5.80741   5.80741\n",
            "   7 │   477.0    332.0  -0.764934   2.86831e-11  8.75575e-12  2.25124      1.51465        4.13756   4.13756   4.13756\n",
            "   8 │    44.0     15.0   0.558682   3.65703e-9   0.0311365    0.0900239    0.12368        4.61946   4.66045   4.61946\n",
            "   9 │     4.0      3.0   0.971937   0.339675     0.125711     0.122631     0.0165866      3.08295   3.16752   3.21887\n",
            "  10 │    83.0     51.0  -0.730182   4.20655e-10  1.65207e-11  0.0681518    0.0353315      3.83201   3.83201   3.83201\n",
            "  11 │     6.0      2.0   1.61998    3.90244e-9   1.07756e-10  0.0037086    0.00100052     1.30882   1.30882   5.35764\n",
            "  12 │    99.0     42.0  -0.443852   7.56215e-11  2.22992e-11  0.0224349    0.0245048      4.0825    4.0825    4.0825\n",
            "  13 │    31.0     11.0   0.922384   2.19277e-10  2.59812e-12  0.00251582   0.00153076     0.800537  0.800537  0.800537\n",
            "  14 │   473.0    109.0   0.682749   4.53683e-11  7.98928e-12  0.206388     0.216973       5.23888   5.23888   5.23888\n",
            "  15 │   934.0    542.0   1.36606    4.32203e-12  1.44387e-12  7.87134      5.06729        3.0264    3.0264    3.0264\n",
            "  16 │   939.0      6.0   0.209802   6.24047e-10  5.0139e-11   0.00576578   0.00291076     3.15274   3.15274   3.15274\n",
            "  17 │   263.0     43.0   0.404611   6.63177e-11  1.29212e-11  0.0224562    0.0213051      2.82961   2.82961   2.82961\n",
            "  18 │    48.0     45.0   0.510312   6.40525e-10  2.59242e-11  0.0444809    0.0170974      2.08113   2.08113   2.08113\n",
            "  19 │    26.0      3.0   0.418006   0.982804     0.989276     0.135357     0.0191925      8.95154   4.78199   6.22605\n",
            "  20 │    23.0     12.0   1.41382    1.13893e-9   1.55535e-11  0.00613451   0.00327565     1.40122   1.40122   1.40122\n",
            "  21 │    48.0     32.0  -0.586777   1.24175e-10  2.29328e-12  0.00816493   0.00642239     2.22481   2.22481   2.22481\n",
            "  22 │    11.0      4.0   1.67119    2.35148e-9   0.0450187    0.00562239   0.0229858      2.20273   2.28267   2.20273\n",
            "  23 │   175.0    127.0   1.8282     4.24339e-10  7.92889e-11  0.81451      0.554618       5.69876   5.69876   5.69876\n",
            "  24 │   156.0     96.0   1.24567    3.80169e-11  1.71295e-12  0.0532564    0.0410557      0.75029   0.75029   0.75029\n",
            "  25 │   513.0    335.0   0.0804244  2.2794e-12   9.11195e-13  1.46337      1.04912        2.56968   2.56968   2.56968\n",
            "  26 │     4.0      3.0   1.97394    1.3751       1.33373      0.126885     0.00214472    13.7577    0.608243  3.06104\n",
            "  27 │    25.0      5.0   2.06291    0.645654     0.0831197    0.172095     0.0321596    170.714     4.2194    4.17049\n",
            "  28 │   551.0    493.0   1.09814    1.39077e-11  4.31309e-12  2.20852      1.27972        1.30677   1.30677   1.30677\n",
            "  29 │    12.0      2.0   1.99666    1.41264e-9   1.69657e-11  0.00123774   0.000466383    0.964948  0.964948  0.964948\n",
            "  30 │    39.0     16.0   1.48803    3.96006e-9   0.134451     0.155086     0.149452       4.373     4.68411   4.373\n",
            "  31 │    39.0     13.0   0.540123   7.1119e-10   4.4602e-11   0.00759732   0.0062645      2.94506   2.94506   2.94506\n",
            "  32 │   494.0    393.0   1.46246    3.67992e-11  8.90101e-12  3.49947      2.24844        4.27308   4.27308   4.27308\n",
            "  33 │    96.0     34.0   0.730281   3.24078e-10  1.52454e-11  0.0206202    0.0181534      2.85547   2.85547   2.85547\n",
            "  34 │    12.0     10.0   1.99384    1.15211      0.0974499    0.237627     0.0595153    421.71      3.67411   5.40105\n",
            "  35 │     4.0      2.0   0.322768   5.7404e-11   4.28735e-12  0.000897013  0.000341221    0.678741  0.678741  5.6437\n",
            "  36 │     4.0      3.0   0.76881    5.48562e-9   1.84248e-10  0.0138601    0.00218986     1.48082   1.48082   1.48082\n",
            "  37 │   411.0    150.0   0.273437   6.6561e-13   1.22617e-12  0.167396     0.157346       0.855909  0.855909  0.855909\n",
            "  38 │    26.0     13.0  -0.118139   2.76087e-10  5.00655e-12  0.00232855   0.00145529     0.755004  0.755004  0.755004\n",
            "  39 │   449.0    150.0   1.62944    8.59042e-11  3.41645e-11  0.572171     0.54804        5.90342   5.90342   5.90342\n",
            "  40 │    37.0     21.0  -0.0807755  4.84448e-10  1.36845e-10  0.0149374    0.0121969      3.65131   3.65131   3.65131\n",
            "  41 │     6.0      2.0  -0.126533   5.80213e-9   0.0118797    0.00373741   0.01336        2.25742   2.2768    6.21925\n",
            "  42 │     4.0      2.0   0.990365   2.31824e-9   2.93526e-11  0.00159641   0.00059524     1.18814   1.18814   1.18814\n",
            "  43 │     7.0      5.0   1.44484    6.54071e-9   0.068668     0.00622925   0.0231429      1.99057   2.10599   1.99057\n",
            "  44 │   675.0    242.0   1.53307    4.80533e-12  4.76345e-12  1.00085      0.922106       2.8943    2.8943    2.8943\n",
            "  45 │   991.0    237.0   1.28012    5.68642e-12  2.03458e-12  0.834027     0.930338       3.2328    3.2328    3.2328\n",
            "  46 │     5.0      4.0  -0.732306   4.13669e-9   3.55849e-11  0.00549325   0.00114159     2.10646   2.10646   2.10646\n",
            "  47 │    72.0      2.0   0.974966   0.622013     0.553007     0.0493139    0.0047042      4.08031   9.42886   4.79579\n",
            "  48 │     4.0      3.0   1.65957    1.61237      0.0484028    0.123784     0.015873       3.59822   1.89518   1.83478\n",
            "  49 │    19.0      4.0   0.264634   7.22244e-11  3.08945e-12  0.000982456  0.000438506    0.784593  0.784593  0.784593\n",
            "  50 │   143.0    119.0  -0.11974    1.3596e-10   2.32065e-11  0.201901     0.321941       5.46341   5.46341   5.46341"
          ]
        },
        {
          "output_type": "display_data",
          "data": {
            "text/plain": [
              "nothing"
            ]
          },
          "metadata": {}
        },
        {
          "output_type": "execute_result",
          "data": {
            "text/plain": [
              "\u001b[1m10×7 DataFrame\u001b[0m\n",
              "\u001b[1m Row \u001b[0m│\u001b[1m variable \u001b[0m\u001b[1m mean        \u001b[0m\u001b[1m min          \u001b[0m\u001b[1m median       \u001b[0m\u001b[1m max       \u001b[0m\u001b[1m nmissing \u001b[0m\u001b[1m\u001b[0m ⋯\n",
              "     │\u001b[90m Symbol   \u001b[0m\u001b[90m Float64     \u001b[0m\u001b[90m Float64      \u001b[0m\u001b[90m Float64      \u001b[0m\u001b[90m Float64   \u001b[0m\u001b[90m Int64    \u001b[0m\u001b[90m\u001b[0m ⋯\n",
              "─────┼──────────────────────────────────────────────────────────────────────────\n",
              "   1 │ n         195.32        4.0          48.0          991.0             0  ⋯\n",
              "   2 │ k          90.48        2.0          15.5          631.0             0\n",
              "   3 │ alpha       0.753559   -0.826732      0.749545       2.06291         0\n",
              "   4 │ errOld      0.134594    6.6561e-13    4.54394e-10    1.61237         0\n",
              "   5 │ errNew      0.0705214   9.11195e-13   2.45653e-11    1.33373         0  ⋯\n",
              "   6 │ timeOld     0.554626    0.000897013   0.0468974      7.87134         0\n",
              "   7 │ timeNew     0.380969    0.000341221   0.0202488      5.06729         0\n",
              "   8 │ normOld    14.8671      0.678741      2.87488      421.71            0\n",
              "   9 │ normNew     2.91624     0.608243      2.69964        9.42886         0  ⋯\n",
              "  10 │ normGen     3.18291     0.75029       2.98573        6.22605         0\n",
              "\u001b[36m                                                                1 column omitted\u001b[0m"
            ],
            "text/html": [
              "<div><div style = \"float: left;\"><span>10×7 DataFrame</span></div><div style = \"clear: both;\"></div></div><div class = \"data-frame\" style = \"overflow-x: scroll;\"><table class = \"data-frame\" style = \"margin-bottom: 6px;\"><thead><tr class = \"header\"><th class = \"rowNumber\" style = \"font-weight: bold; text-align: right;\">Row</th><th style = \"text-align: left;\">variable</th><th style = \"text-align: left;\">mean</th><th style = \"text-align: left;\">min</th><th style = \"text-align: left;\">median</th><th style = \"text-align: left;\">max</th><th style = \"text-align: left;\">nmissing</th><th style = \"text-align: left;\">eltype</th></tr><tr class = \"subheader headerLastRow\"><th class = \"rowNumber\" style = \"font-weight: bold; text-align: right;\"></th><th title = \"Symbol\" style = \"text-align: left;\">Symbol</th><th title = \"Float64\" style = \"text-align: left;\">Float64</th><th title = \"Float64\" style = \"text-align: left;\">Float64</th><th title = \"Float64\" style = \"text-align: left;\">Float64</th><th title = \"Float64\" style = \"text-align: left;\">Float64</th><th title = \"Int64\" style = \"text-align: left;\">Int64</th><th title = \"DataType\" style = \"text-align: left;\">DataType</th></tr></thead><tbody><tr><td class = \"rowNumber\" style = \"font-weight: bold; text-align: right;\">1</td><td style = \"text-align: left;\">n</td><td style = \"text-align: right;\">195.32</td><td style = \"text-align: right;\">4.0</td><td style = \"text-align: right;\">48.0</td><td style = \"text-align: right;\">991.0</td><td style = \"text-align: right;\">0</td><td style = \"text-align: left;\">Float64</td></tr><tr><td class = \"rowNumber\" style = \"font-weight: bold; text-align: right;\">2</td><td style = \"text-align: left;\">k</td><td style = \"text-align: right;\">90.48</td><td style = \"text-align: right;\">2.0</td><td style = \"text-align: right;\">15.5</td><td style = \"text-align: right;\">631.0</td><td style = \"text-align: right;\">0</td><td style = \"text-align: left;\">Float64</td></tr><tr><td class = \"rowNumber\" style = \"font-weight: bold; text-align: right;\">3</td><td style = \"text-align: left;\">alpha</td><td style = \"text-align: right;\">0.753559</td><td style = \"text-align: right;\">-0.826732</td><td style = \"text-align: right;\">0.749545</td><td style = \"text-align: right;\">2.06291</td><td style = \"text-align: right;\">0</td><td style = \"text-align: left;\">Float64</td></tr><tr><td class = \"rowNumber\" style = \"font-weight: bold; text-align: right;\">4</td><td style = \"text-align: left;\">errOld</td><td style = \"text-align: right;\">0.134594</td><td style = \"text-align: right;\">6.6561e-13</td><td style = \"text-align: right;\">4.54394e-10</td><td style = \"text-align: right;\">1.61237</td><td style = \"text-align: right;\">0</td><td style = \"text-align: left;\">Float64</td></tr><tr><td class = \"rowNumber\" style = \"font-weight: bold; text-align: right;\">5</td><td style = \"text-align: left;\">errNew</td><td style = \"text-align: right;\">0.0705214</td><td style = \"text-align: right;\">9.11195e-13</td><td style = \"text-align: right;\">2.45653e-11</td><td style = \"text-align: right;\">1.33373</td><td style = \"text-align: right;\">0</td><td style = \"text-align: left;\">Float64</td></tr><tr><td class = \"rowNumber\" style = \"font-weight: bold; text-align: right;\">6</td><td style = \"text-align: left;\">timeOld</td><td style = \"text-align: right;\">0.554626</td><td style = \"text-align: right;\">0.000897013</td><td style = \"text-align: right;\">0.0468974</td><td style = \"text-align: right;\">7.87134</td><td style = \"text-align: right;\">0</td><td style = \"text-align: left;\">Float64</td></tr><tr><td class = \"rowNumber\" style = \"font-weight: bold; text-align: right;\">7</td><td style = \"text-align: left;\">timeNew</td><td style = \"text-align: right;\">0.380969</td><td style = \"text-align: right;\">0.000341221</td><td style = \"text-align: right;\">0.0202488</td><td style = \"text-align: right;\">5.06729</td><td style = \"text-align: right;\">0</td><td style = \"text-align: left;\">Float64</td></tr><tr><td class = \"rowNumber\" style = \"font-weight: bold; text-align: right;\">8</td><td style = \"text-align: left;\">normOld</td><td style = \"text-align: right;\">14.8671</td><td style = \"text-align: right;\">0.678741</td><td style = \"text-align: right;\">2.87488</td><td style = \"text-align: right;\">421.71</td><td style = \"text-align: right;\">0</td><td style = \"text-align: left;\">Float64</td></tr><tr><td class = \"rowNumber\" style = \"font-weight: bold; text-align: right;\">9</td><td style = \"text-align: left;\">normNew</td><td style = \"text-align: right;\">2.91624</td><td style = \"text-align: right;\">0.608243</td><td style = \"text-align: right;\">2.69964</td><td style = \"text-align: right;\">9.42886</td><td style = \"text-align: right;\">0</td><td style = \"text-align: left;\">Float64</td></tr><tr><td class = \"rowNumber\" style = \"font-weight: bold; text-align: right;\">10</td><td style = \"text-align: left;\">normGen</td><td style = \"text-align: right;\">3.18291</td><td style = \"text-align: right;\">0.75029</td><td style = \"text-align: right;\">2.98573</td><td style = \"text-align: right;\">6.22605</td><td style = \"text-align: right;\">0</td><td style = \"text-align: left;\">Float64</td></tr></tbody></table></div>"
            ],
            "text/latex": "\\begin{tabular}{r|ccccccc}\n\t& variable & mean & min & median & max & nmissing & eltype\\\\\n\t\\hline\n\t& Symbol & Float64 & Float64 & Float64 & Float64 & Int64 & DataType\\\\\n\t\\hline\n\t1 & n & 195.32 & 4.0 & 48.0 & 991.0 & 0 & Float64 \\\\\n\t2 & k & 90.48 & 2.0 & 15.5 & 631.0 & 0 & Float64 \\\\\n\t3 & alpha & 0.753559 & -0.826732 & 0.749545 & 2.06291 & 0 & Float64 \\\\\n\t4 & errOld & 0.134594 & 6.6561e-13 & 4.54394e-10 & 1.61237 & 0 & Float64 \\\\\n\t5 & errNew & 0.0705214 & 9.11195e-13 & 2.45653e-11 & 1.33373 & 0 & Float64 \\\\\n\t6 & timeOld & 0.554626 & 0.000897013 & 0.0468974 & 7.87134 & 0 & Float64 \\\\\n\t7 & timeNew & 0.380969 & 0.000341221 & 0.0202488 & 5.06729 & 0 & Float64 \\\\\n\t8 & normOld & 14.8671 & 0.678741 & 2.87488 & 421.71 & 0 & Float64 \\\\\n\t9 & normNew & 2.91624 & 0.608243 & 2.69964 & 9.42886 & 0 & Float64 \\\\\n\t10 & normGen & 3.18291 & 0.75029 & 2.98573 & 6.22605 & 0 & Float64 \\\\\n\\end{tabular}\n"
          },
          "metadata": {},
          "execution_count": 27
        }
      ]
    },
    {
      "cell_type": "markdown",
      "source": [
        "For distance at most $4\\pi$. There are several examples where the log is better than the generating distance"
      ],
      "metadata": {
        "id": "ccoVDaX5s9Xa"
      }
    },
    {
      "cell_type": "code",
      "source": [
        "# distance at most 4pi\n",
        "header = vec([\"n\", \"k\",\t\"alpha\",\t\"errOld\",\t\"errNew\",\t\"timeOld\",\t\"timeNew\",\t\"normOld\",\t\"normNew\",\t\"normGen\"])\n",
        "m40 = DataFrame(CSV.File(\"max_40.csv\", header=false))\n",
        "rename!(m40, header)\n",
        "display(show(m40, allrows=true, allcols=true))\n",
        "describe(m40)"
      ],
      "metadata": {
        "colab": {
          "base_uri": "https://localhost:8080/",
          "height": 1000
        },
        "id": "imApkFlKtDfO",
        "outputId": "e62cc276-3038-41f0-a165-9f7ea9b2f2db"
      },
      "execution_count": 28,
      "outputs": [
        {
          "output_type": "stream",
          "name": "stdout",
          "text": [
            "\u001b[1m50×10 DataFrame\u001b[0m\n",
            "\u001b[1m Row \u001b[0m│\u001b[1m n       \u001b[0m\u001b[1m k       \u001b[0m\u001b[1m alpha      \u001b[0m\u001b[1m errOld      \u001b[0m\u001b[1m errNew      \u001b[0m\u001b[1m timeOld     \u001b[0m\u001b[1m timeNew      \u001b[0m\u001b[1m normOld    \u001b[0m\u001b[1m normNew  \u001b[0m\u001b[1m normGen  \u001b[0m\n",
            "     │\u001b[90m Float64 \u001b[0m\u001b[90m Float64 \u001b[0m\u001b[90m Float64    \u001b[0m\u001b[90m Float64     \u001b[0m\u001b[90m Float64     \u001b[0m\u001b[90m Float64     \u001b[0m\u001b[90m Float64      \u001b[0m\u001b[90m Float64    \u001b[0m\u001b[90m Float64  \u001b[0m\u001b[90m Float64  \u001b[0m\n",
            "─────┼───────────────────────────────────────────────────────────────────────────────────────────────────────────────────\n",
            "   1 │    20.0      3.0   1.68642    0.876103     0.0790723     0.135982     0.0189693       8.50409   4.48692   4.59415\n",
            "   2 │    95.0      9.0   0.0392704  1.32006e-9   7.25082e-10   0.00742497   0.00986094      3.48271   3.48271   3.48271\n",
            "   3 │   818.0    631.0   0.213541   5.61147e-12  6.05326e-12   7.2411       4.89437         3.51431   3.51431   3.51431\n",
            "   4 │   110.0     76.0   1.957      0.562042     0.0256503     6.88965      2.96877      3143.02      8.73848   8.75513\n",
            "   5 │    56.0     25.0  -0.826732   1.82116e-9   4.58851e-11   0.0623629    0.0273209       3.12626   3.12626   3.12626\n",
            "   6 │   185.0     42.0  -0.0805532  0.400368     0.0117543     2.5056       1.10863        31.7929   11.6307   11.6148\n",
            "   7 │   477.0    332.0  -0.764934   7.04237e-11  3.15642e-11   4.93109      3.43922         8.27511   8.27511   8.27511\n",
            "   8 │    44.0     15.0   0.558682   0.783304     0.04178       0.531828     0.241666     1166.85      7.16739   9.23893\n",
            "   9 │     4.0      3.0   0.971937   1.09323      2.25721e-5    0.121616     0.0142678       2.51304   1.08137   6.43773\n",
            "  10 │    83.0     51.0  -0.730182   1.41692e-9   8.30205e-11   0.282145     0.18396         7.66401   7.66401   7.66401\n",
            "  11 │     6.0      2.0   1.61998    4.69254e-9   0.00690686    0.00317053   0.0132162       1.7169    1.72534  10.7153\n",
            "  12 │    99.0     42.0  -0.443852   5.66934e-10  0.0044411     0.0783601    0.802432        8.165     8.15888   8.165\n",
            "  13 │    31.0     11.0   0.922384   2.33526e-10  1.03568e-11   0.00422975   0.00270428      1.60107   1.60107   1.60107\n",
            "  14 │   473.0    109.0   0.682749   3.77021e-10  5.31452e-10   0.868206     1.00112        10.4778   10.4778   10.4778\n",
            "  15 │   934.0    542.0   1.36606    3.88868e-11  7.66283e-12  12.3279       8.82367         6.0528    6.0528    6.0528\n",
            "  16 │   939.0      6.0   0.209802   0.245745     0.00784832    0.185788     0.0344352      12.6425    6.33431   6.30547\n",
            "  17 │   263.0     43.0   0.404611   3.32227e-10  5.37368e-11   0.0504943    0.0512983       5.65921   5.65921   5.65921\n",
            "  18 │    48.0     45.0   0.510312   0.592425     0.0141906     1.84602      0.419509      410.29      4.14208   4.16225\n",
            "  19 │    26.0      3.0   0.418006   0.788314     0.409228      0.137051     0.0241507       8.18511  21.5204   12.4521\n",
            "  20 │    23.0     12.0   1.41382    3.12259e-9   2.28667e-10   0.0219256    0.0355944       2.80244   2.80244   2.80244\n",
            "  21 │    48.0     32.0  -0.586777   1.5076e-10   6.54521e-11   0.0148001    0.0148598       4.44961   4.44961   4.44961\n",
            "  22 │    11.0      4.0   1.67119    1.05014      0.14427       0.159612     0.0240045     235.347     2.72695   4.40546\n",
            "  23 │   175.0    127.0   1.8282     0.440624     0.0276425    19.1607       8.39526      3956.51     11.4002   11.3975\n",
            "  24 │   156.0     96.0   1.24567    1.15144e-10  6.84957e-12   0.0800719    0.0564339       1.50058   1.50058   1.50058\n",
            "  25 │   513.0    335.0   0.0804244  1.28105e-11  7.15367e-12   2.21844      1.69025         5.13936   5.13936   5.13936\n",
            "  26 │     4.0      3.0   1.97394    1.2747       0.0574659     0.123685     0.0139886       3.6849    1.29225   6.12208\n",
            "  27 │    25.0      5.0   2.06291    0.755024     0.577065      0.170217     0.0361719       9.37764   8.49486   8.34098\n",
            "  28 │   551.0    493.0   1.09814    1.38548e-11  3.76327e-12   3.769        2.30611         2.61355   2.61355   2.61355\n",
            "  29 │    12.0      2.0   1.99666    4.13674e-9   0.0147094     0.00467898   0.0135739       1.9299    1.95973   1.9299\n",
            "  30 │    39.0     16.0   1.48803    0.75175      0.53574       0.54023      0.271504     1619.7       7.32781   8.74599\n",
            "  31 │    39.0     13.0   0.540123   0.685525     0.053598      0.37308      0.13108        14.1827    5.99405   5.89012\n",
            "  32 │   494.0    393.0   1.46246    1.62335e-10  5.13449e-11  11.4657       7.08816         8.54615   8.54615   8.54615\n",
            "  33 │    96.0     34.0   0.730281   1.47794e-9   4.71367e-9    0.113482     0.267041        5.71093   5.71093   5.71093\n",
            "  34 │    12.0     10.0   1.99384    1.24203      0.13583       0.242093     0.055813      454.734     3.73634  10.8021\n",
            "  35 │     4.0      2.0   0.322768   1.53975e-9   2.29193e-10   0.00171533   0.000716169     1.3564    1.3564   11.2874\n",
            "  36 │     4.0      3.0   0.76881    1.49669      1.54902       0.129455     0.0177793      22.1159    4.77429   2.96163\n",
            "  37 │   411.0    150.0   0.273437   1.41399e-11  1.86383e-12   0.204643     0.211138        1.71182   1.71182   1.71182\n",
            "  38 │    26.0     13.0  -0.118139   1.70081e-10  1.08312e-11   0.00375748   0.00244148      1.51001   1.51001   1.51001\n",
            "  39 │   449.0    150.0   1.62944    4.25629e-10  0.00177449    3.84981     12.8026         11.8068   11.8155   11.8068\n",
            "  40 │    37.0     21.0  -0.0807755  0.77081      0.0511565     0.803357     0.25281      1349.0       7.23214   7.30262\n",
            "  41 │     6.0      2.0  -0.126533   2.59842e-9   0.00579546    0.00274158   0.0130693       1.96532   1.97386  12.4385\n",
            "  42 │     4.0      2.0   0.990365   1.03831e-8   0.735672      0.0127767    0.00671651      2.37627   1.53696   2.37627\n",
            "  43 │     7.0      5.0   1.44484    1.09725      0.04178       0.164283     0.0249709     181.418     2.00088   3.98115\n",
            "  44 │   675.0    242.0   1.53307    3.27108e-11  1.25394e-11   1.59899      1.52834         5.7886    5.7886    5.7886\n",
            "  45 │   991.0    237.0   1.28012    1.20994e-11  8.27399e-12   1.41949      1.53152         6.46559   6.46559   6.46559\n",
            "  46 │     5.0      4.0  -0.732306   6.78183e-9   0.0258136     0.0505739    0.0227695       4.21292   4.26381   4.21292\n",
            "  47 │    72.0      2.0   0.974966   3.41507e-9   3.36765e-11   0.00808305   0.000950561     1.13853   1.13853   9.59158\n",
            "  48 │     4.0      3.0   1.65957    7.16511e-9   0.0112601     0.00469823   0.0154742       2.11527   2.10088   3.66955\n",
            "  49 │    19.0      4.0   0.264634   1.23792e-9   5.37198e-11   0.00188027   0.000748704     1.56919   1.56919   1.56919\n",
            "  50 │   143.0    119.0  -0.11974    6.83094e-10  0.0177069     2.17484      3.66405        10.9268   10.8687   10.9268"
          ]
        },
        {
          "output_type": "display_data",
          "data": {
            "text/plain": [
              "nothing"
            ]
          },
          "metadata": {}
        },
        {
          "output_type": "execute_result",
          "data": {
            "text/plain": [
              "\u001b[1m10×7 DataFrame\u001b[0m\n",
              "\u001b[1m Row \u001b[0m│\u001b[1m variable \u001b[0m\u001b[1m mean        \u001b[0m\u001b[1m min          \u001b[0m\u001b[1m median      \u001b[0m\u001b[1m max        \u001b[0m\u001b[1m nmissing \u001b[0m\u001b[1m\u001b[0m ⋯\n",
              "     │\u001b[90m Symbol   \u001b[0m\u001b[90m Float64     \u001b[0m\u001b[90m Float64      \u001b[0m\u001b[90m Float64     \u001b[0m\u001b[90m Float64    \u001b[0m\u001b[90m Int64    \u001b[0m\u001b[90m\u001b[0m ⋯\n",
              "─────┼──────────────────────────────────────────────────────────────────────────\n",
              "   1 │ n         195.32        4.0          48.0          991.0             0  ⋯\n",
              "   2 │ k          90.48        2.0          15.5          631.0             0\n",
              "   3 │ alpha       0.753559   -0.826732      0.749545       2.06291         0\n",
              "   4 │ errOld      0.298122    5.61147e-12   2.86051e-9     1.49669         0\n",
              "   5 │ errNew      0.0917439   1.86383e-12   0.0031078      1.54902         0  ⋯\n",
              "   6 │ timeOld     1.74198     0.00171533    0.161948      19.1607          0\n",
              "   7 │ timeNew     1.29151     0.000716169   0.0535556     12.8026          0\n",
              "   8 │ normOld   255.505       1.13853       5.9207      3956.51            0\n",
              "   9 │ normNew     5.29282     1.08137       4.46827       21.5204          0  ⋯\n",
              "  10 │ normGen     6.36583     1.50058       5.97146       12.4521          0\n",
              "\u001b[36m                                                                1 column omitted\u001b[0m"
            ],
            "text/html": [
              "<div><div style = \"float: left;\"><span>10×7 DataFrame</span></div><div style = \"clear: both;\"></div></div><div class = \"data-frame\" style = \"overflow-x: scroll;\"><table class = \"data-frame\" style = \"margin-bottom: 6px;\"><thead><tr class = \"header\"><th class = \"rowNumber\" style = \"font-weight: bold; text-align: right;\">Row</th><th style = \"text-align: left;\">variable</th><th style = \"text-align: left;\">mean</th><th style = \"text-align: left;\">min</th><th style = \"text-align: left;\">median</th><th style = \"text-align: left;\">max</th><th style = \"text-align: left;\">nmissing</th><th style = \"text-align: left;\">eltype</th></tr><tr class = \"subheader headerLastRow\"><th class = \"rowNumber\" style = \"font-weight: bold; text-align: right;\"></th><th title = \"Symbol\" style = \"text-align: left;\">Symbol</th><th title = \"Float64\" style = \"text-align: left;\">Float64</th><th title = \"Float64\" style = \"text-align: left;\">Float64</th><th title = \"Float64\" style = \"text-align: left;\">Float64</th><th title = \"Float64\" style = \"text-align: left;\">Float64</th><th title = \"Int64\" style = \"text-align: left;\">Int64</th><th title = \"DataType\" style = \"text-align: left;\">DataType</th></tr></thead><tbody><tr><td class = \"rowNumber\" style = \"font-weight: bold; text-align: right;\">1</td><td style = \"text-align: left;\">n</td><td style = \"text-align: right;\">195.32</td><td style = \"text-align: right;\">4.0</td><td style = \"text-align: right;\">48.0</td><td style = \"text-align: right;\">991.0</td><td style = \"text-align: right;\">0</td><td style = \"text-align: left;\">Float64</td></tr><tr><td class = \"rowNumber\" style = \"font-weight: bold; text-align: right;\">2</td><td style = \"text-align: left;\">k</td><td style = \"text-align: right;\">90.48</td><td style = \"text-align: right;\">2.0</td><td style = \"text-align: right;\">15.5</td><td style = \"text-align: right;\">631.0</td><td style = \"text-align: right;\">0</td><td style = \"text-align: left;\">Float64</td></tr><tr><td class = \"rowNumber\" style = \"font-weight: bold; text-align: right;\">3</td><td style = \"text-align: left;\">alpha</td><td style = \"text-align: right;\">0.753559</td><td style = \"text-align: right;\">-0.826732</td><td style = \"text-align: right;\">0.749545</td><td style = \"text-align: right;\">2.06291</td><td style = \"text-align: right;\">0</td><td style = \"text-align: left;\">Float64</td></tr><tr><td class = \"rowNumber\" style = \"font-weight: bold; text-align: right;\">4</td><td style = \"text-align: left;\">errOld</td><td style = \"text-align: right;\">0.298122</td><td style = \"text-align: right;\">5.61147e-12</td><td style = \"text-align: right;\">2.86051e-9</td><td style = \"text-align: right;\">1.49669</td><td style = \"text-align: right;\">0</td><td style = \"text-align: left;\">Float64</td></tr><tr><td class = \"rowNumber\" style = \"font-weight: bold; text-align: right;\">5</td><td style = \"text-align: left;\">errNew</td><td style = \"text-align: right;\">0.0917439</td><td style = \"text-align: right;\">1.86383e-12</td><td style = \"text-align: right;\">0.0031078</td><td style = \"text-align: right;\">1.54902</td><td style = \"text-align: right;\">0</td><td style = \"text-align: left;\">Float64</td></tr><tr><td class = \"rowNumber\" style = \"font-weight: bold; text-align: right;\">6</td><td style = \"text-align: left;\">timeOld</td><td style = \"text-align: right;\">1.74198</td><td style = \"text-align: right;\">0.00171533</td><td style = \"text-align: right;\">0.161948</td><td style = \"text-align: right;\">19.1607</td><td style = \"text-align: right;\">0</td><td style = \"text-align: left;\">Float64</td></tr><tr><td class = \"rowNumber\" style = \"font-weight: bold; text-align: right;\">7</td><td style = \"text-align: left;\">timeNew</td><td style = \"text-align: right;\">1.29151</td><td style = \"text-align: right;\">0.000716169</td><td style = \"text-align: right;\">0.0535556</td><td style = \"text-align: right;\">12.8026</td><td style = \"text-align: right;\">0</td><td style = \"text-align: left;\">Float64</td></tr><tr><td class = \"rowNumber\" style = \"font-weight: bold; text-align: right;\">8</td><td style = \"text-align: left;\">normOld</td><td style = \"text-align: right;\">255.505</td><td style = \"text-align: right;\">1.13853</td><td style = \"text-align: right;\">5.9207</td><td style = \"text-align: right;\">3956.51</td><td style = \"text-align: right;\">0</td><td style = \"text-align: left;\">Float64</td></tr><tr><td class = \"rowNumber\" style = \"font-weight: bold; text-align: right;\">9</td><td style = \"text-align: left;\">normNew</td><td style = \"text-align: right;\">5.29282</td><td style = \"text-align: right;\">1.08137</td><td style = \"text-align: right;\">4.46827</td><td style = \"text-align: right;\">21.5204</td><td style = \"text-align: right;\">0</td><td style = \"text-align: left;\">Float64</td></tr><tr><td class = \"rowNumber\" style = \"font-weight: bold; text-align: right;\">10</td><td style = \"text-align: left;\">normGen</td><td style = \"text-align: right;\">6.36583</td><td style = \"text-align: right;\">1.50058</td><td style = \"text-align: right;\">5.97146</td><td style = \"text-align: right;\">12.4521</td><td style = \"text-align: right;\">0</td><td style = \"text-align: left;\">Float64</td></tr></tbody></table></div>"
            ],
            "text/latex": "\\begin{tabular}{r|ccccccc}\n\t& variable & mean & min & median & max & nmissing & eltype\\\\\n\t\\hline\n\t& Symbol & Float64 & Float64 & Float64 & Float64 & Int64 & DataType\\\\\n\t\\hline\n\t1 & n & 195.32 & 4.0 & 48.0 & 991.0 & 0 & Float64 \\\\\n\t2 & k & 90.48 & 2.0 & 15.5 & 631.0 & 0 & Float64 \\\\\n\t3 & alpha & 0.753559 & -0.826732 & 0.749545 & 2.06291 & 0 & Float64 \\\\\n\t4 & errOld & 0.298122 & 5.61147e-12 & 2.86051e-9 & 1.49669 & 0 & Float64 \\\\\n\t5 & errNew & 0.0917439 & 1.86383e-12 & 0.0031078 & 1.54902 & 0 & Float64 \\\\\n\t6 & timeOld & 1.74198 & 0.00171533 & 0.161948 & 19.1607 & 0 & Float64 \\\\\n\t7 & timeNew & 1.29151 & 0.000716169 & 0.0535556 & 12.8026 & 0 & Float64 \\\\\n\t8 & normOld & 255.505 & 1.13853 & 5.9207 & 3956.51 & 0 & Float64 \\\\\n\t9 & normNew & 5.29282 & 1.08137 & 4.46827 & 21.5204 & 0 & Float64 \\\\\n\t10 & normGen & 6.36583 & 1.50058 & 5.97146 & 12.4521 & 0 & Float64 \\\\\n\\end{tabular}\n"
          },
          "metadata": {},
          "execution_count": 28
        }
      ]
    }
  ]
}