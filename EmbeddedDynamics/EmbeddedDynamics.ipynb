{
  "nbformat": 4,
  "nbformat_minor": 0,
  "metadata": {
    "colab": {
      "provenance": [],
      "authorship_tag": "ABX9TyOvRwJpe1kaf4fmPTvMiiD3",
      "include_colab_link": true
    },
    "kernelspec": {
      "name": "python3",
      "display_name": "Python 3"
    },
    "language_info": {
      "name": "python"
    }
  },
  "cells": [
    {
      "cell_type": "markdown",
      "metadata": {
        "id": "view-in-github",
        "colab_type": "text"
      },
      "source": [
        "<a href=\"https://colab.research.google.com/github/dnguyend/MiscCollection/blob/main/EmbeddedDynamics/EmbeddedDynamics.ipynb\" target=\"_parent\"><img src=\"https://colab.research.google.com/assets/colab-badge.svg\" alt=\"Open In Colab\"/></a>"
      ]
    },
    {
      "cell_type": "markdown",
      "source": [
        "$\\DeclareMathOperator{\\ad}{ad}$\n",
        "$\\newcommand{\\cI}{\\mathcal{I}}$\n",
        "$\\DeclareMathOperator{\\adI}{ad_{\\cI}}$\n",
        "$\\newcommand{\\mrGamma}{\\mathring{\\Gamma}}$\n",
        "# Comparing with Euler-Arnold's type formula for curvature of $SE(n)$ with left-invariant metric\n",
        "* Only the $SO(n)$ component contributes to the metric.\n",
        "* Euler-Arnold: for antisymmetric matrices $A, B, C$ define the $\\cI$-bracket\n",
        "$$[A, B]_{\\cI} := [A, B] + \\cI^{-1}[A, \\cI(B)] + \\cI^{-1}[B, \\cI(A)]$$\n",
        "* Curvature using Euler-Arnold:\n",
        "$$R = -\\frac{1}{2}[[A, B], C]_{\\cI} + \\frac{1}{4}[A, [B,C]_{\\cI}]_{\\cI} -\n",
        "\\frac{1}{4}[B[A,C]_{\\cI}]_{\\cI}\n",
        "$$\n",
        "Set $\\adI(A, B) := \\cI^{-1}[A,\\cI(B)]$\n",
        "* $[A, B]_{\\cI} = [A, B] + \\adI(A, B) +\\adI(B, A)$\n",
        "\n",
        "For tangent vectors $A, B, C$ to $SO(n)$ at $I_n$:\n",
        "* $\\Gamma = -(AB)_{sym} +AB_{sym} +\\frac{1}{2}(\\adI(B, A) + \\adI(A, B))$\n",
        "* $\\mrGamma = \\frac{1}{2}(\\adI(B, A) + \\adI(A, B))$\n",
        "* $D_A\\mrGamma(B, C) = \\frac{1}{2}A\\{\\adI(B, C)+ \\adI(C, B)\\} +\n",
        "\\frac{1}{2}\\cI^{-1}\\{[-AB, \\cI(C)] + [B,-\\cI(AC)] + [-AC, \\cI(B)] +[C, -\\cI(AB)]\\}$\n",
        "* Curvature using the embedded method:\n",
        "$$R^{Emb}_{AB}C = D_A\\mrGamma(B, C) - D_B\\mrGamma(A, C)\n",
        "+ \\Gamma(A, \\Gamma(B, C)) - \\Gamma(B, \\Gamma(A, C))$$\n",
        "\n",
        "We verify both curvature formulas agree numerically below. Presumably we can verify they agree algebraically for another confirmation - but both formulas are long when expanded.\n",
        "\n",
        "The sign convention for curvature in the reference below is opposite of the sign convention used here.\n",
        "\n",
        "[1] D. Nguyen, Curvatures of Stiefel manifolds with deformation metrics, Journal of Lie Theory 32 (2022) 563–600."
      ],
      "metadata": {
        "id": "2OGgL1yKLG2s"
      }
    },
    {
      "cell_type": "code",
      "source": [
        "import numpy as np\n",
        "\n",
        "\n",
        "def sym(A):\n",
        "  return 0.5*(A+A.T)\n",
        "\n",
        "def asym(A):\n",
        "  return 0.5*(A-A.T)\n",
        "\n",
        "def genImat(n):\n",
        "  Imat = np.abs(np.random.randn(n , n))\n",
        "  Imat = sym(Imat)\n",
        "  Imat[np.diag_indices(n)] = 1\n",
        "  return Imat\n",
        "\n",
        "def Iop(Imat, A):\n",
        "  return A*Imat\n",
        "\n",
        "def Iinv(Imat, A):\n",
        "  return A/Imat\n",
        "\n",
        "def Lie(A, B):\n",
        "  return A@B - B@A\n",
        "\n",
        "def adI(Imat, A, B):\n",
        "  return Iinv(Imat, Lie(A, Iop(Imat, B)))\n",
        "\n",
        "def LieI(Imat, A, B):\n",
        "  return Lie(A, B) + adI(Imat, A, B) + adI(Imat, B, A)\n",
        "\n",
        "def mrGamma(Imat, A, B):\n",
        "  return 0.5*(adI(Imat, A, B) + adI(Imat, B, A))\n",
        "\n",
        "def Gamma(Imat, A, B):\n",
        "  return -sym(A@B) + A@sym(B) + 0.5*(adI(Imat, A, B) + adI(Imat, B, A))\n",
        "\n",
        "def DmrGamma(Imat, A, B, C):\n",
        "  return 0.5*A@adI(Imat, B, C) \\\n",
        "    + 0.5*A@adI(Imat, C, B) \\\n",
        "    + 0.5*adI(Imat, -A@B, C) \\\n",
        "    + 0.5*adI(Imat, B, -A@C) \\\n",
        "    + 0.5*adI(Imat, -A@C, B) \\\n",
        "    + 0.5*adI(Imat, C, -A@B)\n",
        "\n",
        "def randvec(n):\n",
        "  return asym(np.random.randn(n, n))\n",
        "\n",
        "def CurvI(Imat, A, B, C):\n",
        "  return -0.5*LieI(Imat, Lie(A, B), C) \\\n",
        "    + 0.25*LieI(Imat, A, LieI(Imat, B, C)) \\\n",
        "    - 0.25*LieI(Imat, B, LieI(Imat, A, C))\n",
        "\n",
        "def CurvEmbedded(Imat, A, B, C):\n",
        "  return DmrGamma(Imat, A, B, C) \\\n",
        "    - DmrGamma(Imat, B, A, C) \\\n",
        "    + Gamma(Imat, A, Gamma(Imat, B, C)) \\\n",
        "    - Gamma(Imat, B, Gamma(Imat, A, C))\n"
      ],
      "metadata": {
        "id": "7CmXZtBQdY1C"
      },
      "execution_count": 1,
      "outputs": []
    },
    {
      "cell_type": "markdown",
      "source": [
        "## Test for n=2 to 10, for 10 scenarios each"
      ],
      "metadata": {
        "id": "Qe6WiV-nuhb_"
      }
    },
    {
      "cell_type": "code",
      "source": [
        "def cz(mat):\n",
        "  return np.max(np.abs(mat))\n",
        "np.random.seed(0)\n",
        "for n in range(2, 10):\n",
        "  for i in range(10):\n",
        "    A = randvec(n)\n",
        "    B = randvec(n)\n",
        "    C = randvec(n)\n",
        "\n",
        "    Imat = genImat(n)\n",
        "\n",
        "    c1 = CurvI(Imat, A, B, C)\n",
        "    c2 = CurvEmbedded(Imat, A, B, C)\n",
        "    display(cz(c1 - c2))\n",
        "\n",
        "\n"
      ],
      "metadata": {
        "colab": {
          "base_uri": "https://localhost:8080/",
          "height": 1000
        },
        "id": "OBSxC1HHfT7c",
        "outputId": "89114922-0f55-451b-d5e1-53fc6b61cc4a"
      },
      "execution_count": 2,
      "outputs": [
        {
          "output_type": "display_data",
          "data": {
            "text/plain": [
              "0.0"
            ]
          },
          "metadata": {}
        },
        {
          "output_type": "display_data",
          "data": {
            "text/plain": [
              "0.0"
            ]
          },
          "metadata": {}
        },
        {
          "output_type": "display_data",
          "data": {
            "text/plain": [
              "1.3877787807814457e-17"
            ]
          },
          "metadata": {}
        },
        {
          "output_type": "display_data",
          "data": {
            "text/plain": [
              "0.0"
            ]
          },
          "metadata": {}
        },
        {
          "output_type": "display_data",
          "data": {
            "text/plain": [
              "2.7755575615628914e-17"
            ]
          },
          "metadata": {}
        },
        {
          "output_type": "display_data",
          "data": {
            "text/plain": [
              "6.938893903907228e-18"
            ]
          },
          "metadata": {}
        },
        {
          "output_type": "display_data",
          "data": {
            "text/plain": [
              "0.0"
            ]
          },
          "metadata": {}
        },
        {
          "output_type": "display_data",
          "data": {
            "text/plain": [
              "5.551115123125783e-17"
            ]
          },
          "metadata": {}
        },
        {
          "output_type": "display_data",
          "data": {
            "text/plain": [
              "0.0"
            ]
          },
          "metadata": {}
        },
        {
          "output_type": "display_data",
          "data": {
            "text/plain": [
              "1.3877787807814457e-17"
            ]
          },
          "metadata": {}
        },
        {
          "output_type": "display_data",
          "data": {
            "text/plain": [
              "1.6653345369377348e-16"
            ]
          },
          "metadata": {}
        },
        {
          "output_type": "display_data",
          "data": {
            "text/plain": [
              "4.163336342344337e-17"
            ]
          },
          "metadata": {}
        },
        {
          "output_type": "display_data",
          "data": {
            "text/plain": [
              "2.220446049250313e-16"
            ]
          },
          "metadata": {}
        },
        {
          "output_type": "display_data",
          "data": {
            "text/plain": [
              "4.440892098500626e-16"
            ]
          },
          "metadata": {}
        },
        {
          "output_type": "display_data",
          "data": {
            "text/plain": [
              "7.632783294297951e-17"
            ]
          },
          "metadata": {}
        },
        {
          "output_type": "display_data",
          "data": {
            "text/plain": [
              "8.326672684688674e-17"
            ]
          },
          "metadata": {}
        },
        {
          "output_type": "display_data",
          "data": {
            "text/plain": [
              "1.3322676295501878e-15"
            ]
          },
          "metadata": {}
        },
        {
          "output_type": "display_data",
          "data": {
            "text/plain": [
              "3.0531133177191805e-16"
            ]
          },
          "metadata": {}
        },
        {
          "output_type": "display_data",
          "data": {
            "text/plain": [
              "6.591949208711867e-17"
            ]
          },
          "metadata": {}
        },
        {
          "output_type": "display_data",
          "data": {
            "text/plain": [
              "1.7763568394002505e-15"
            ]
          },
          "metadata": {}
        },
        {
          "output_type": "display_data",
          "data": {
            "text/plain": [
              "1.3322676295501878e-15"
            ]
          },
          "metadata": {}
        },
        {
          "output_type": "display_data",
          "data": {
            "text/plain": [
              "1.1102230246251565e-15"
            ]
          },
          "metadata": {}
        },
        {
          "output_type": "display_data",
          "data": {
            "text/plain": [
              "1.1102230246251565e-15"
            ]
          },
          "metadata": {}
        },
        {
          "output_type": "display_data",
          "data": {
            "text/plain": [
              "1.7763568394002505e-15"
            ]
          },
          "metadata": {}
        },
        {
          "output_type": "display_data",
          "data": {
            "text/plain": [
              "2.6645352591003757e-15"
            ]
          },
          "metadata": {}
        },
        {
          "output_type": "display_data",
          "data": {
            "text/plain": [
              "1.6653345369377348e-16"
            ]
          },
          "metadata": {}
        },
        {
          "output_type": "display_data",
          "data": {
            "text/plain": [
              "1.1102230246251565e-15"
            ]
          },
          "metadata": {}
        },
        {
          "output_type": "display_data",
          "data": {
            "text/plain": [
              "5.551115123125783e-16"
            ]
          },
          "metadata": {}
        },
        {
          "output_type": "display_data",
          "data": {
            "text/plain": [
              "2.7755575615628914e-16"
            ]
          },
          "metadata": {}
        },
        {
          "output_type": "display_data",
          "data": {
            "text/plain": [
              "3.552713678800501e-15"
            ]
          },
          "metadata": {}
        },
        {
          "output_type": "display_data",
          "data": {
            "text/plain": [
              "1.3322676295501878e-15"
            ]
          },
          "metadata": {}
        },
        {
          "output_type": "display_data",
          "data": {
            "text/plain": [
              "7.771561172376096e-16"
            ]
          },
          "metadata": {}
        },
        {
          "output_type": "display_data",
          "data": {
            "text/plain": [
              "2.220446049250313e-15"
            ]
          },
          "metadata": {}
        },
        {
          "output_type": "display_data",
          "data": {
            "text/plain": [
              "1.4432899320127035e-15"
            ]
          },
          "metadata": {}
        },
        {
          "output_type": "display_data",
          "data": {
            "text/plain": [
              "6.106226635438361e-16"
            ]
          },
          "metadata": {}
        },
        {
          "output_type": "display_data",
          "data": {
            "text/plain": [
              "1.7763568394002505e-15"
            ]
          },
          "metadata": {}
        },
        {
          "output_type": "display_data",
          "data": {
            "text/plain": [
              "1.4432899320127035e-15"
            ]
          },
          "metadata": {}
        },
        {
          "output_type": "display_data",
          "data": {
            "text/plain": [
              "1.7763568394002505e-15"
            ]
          },
          "metadata": {}
        },
        {
          "output_type": "display_data",
          "data": {
            "text/plain": [
              "3.552713678800501e-15"
            ]
          },
          "metadata": {}
        },
        {
          "output_type": "display_data",
          "data": {
            "text/plain": [
              "1.7763568394002505e-15"
            ]
          },
          "metadata": {}
        },
        {
          "output_type": "display_data",
          "data": {
            "text/plain": [
              "5.329070518200751e-15"
            ]
          },
          "metadata": {}
        },
        {
          "output_type": "display_data",
          "data": {
            "text/plain": [
              "1.7763568394002505e-15"
            ]
          },
          "metadata": {}
        },
        {
          "output_type": "display_data",
          "data": {
            "text/plain": [
              "3.552713678800501e-15"
            ]
          },
          "metadata": {}
        },
        {
          "output_type": "display_data",
          "data": {
            "text/plain": [
              "9.992007221626409e-16"
            ]
          },
          "metadata": {}
        },
        {
          "output_type": "display_data",
          "data": {
            "text/plain": [
              "3.552713678800501e-15"
            ]
          },
          "metadata": {}
        },
        {
          "output_type": "display_data",
          "data": {
            "text/plain": [
              "5.773159728050814e-15"
            ]
          },
          "metadata": {}
        },
        {
          "output_type": "display_data",
          "data": {
            "text/plain": [
              "4.884981308350689e-15"
            ]
          },
          "metadata": {}
        },
        {
          "output_type": "display_data",
          "data": {
            "text/plain": [
              "4.884981308350689e-15"
            ]
          },
          "metadata": {}
        },
        {
          "output_type": "display_data",
          "data": {
            "text/plain": [
              "1.7763568394002505e-15"
            ]
          },
          "metadata": {}
        },
        {
          "output_type": "display_data",
          "data": {
            "text/plain": [
              "3.1086244689504383e-15"
            ]
          },
          "metadata": {}
        },
        {
          "output_type": "display_data",
          "data": {
            "text/plain": [
              "3.552713678800501e-15"
            ]
          },
          "metadata": {}
        },
        {
          "output_type": "display_data",
          "data": {
            "text/plain": [
              "3.552713678800501e-15"
            ]
          },
          "metadata": {}
        },
        {
          "output_type": "display_data",
          "data": {
            "text/plain": [
              "3.9968028886505635e-15"
            ]
          },
          "metadata": {}
        },
        {
          "output_type": "display_data",
          "data": {
            "text/plain": [
              "1.9984014443252818e-15"
            ]
          },
          "metadata": {}
        },
        {
          "output_type": "display_data",
          "data": {
            "text/plain": [
              "8.881784197001252e-15"
            ]
          },
          "metadata": {}
        },
        {
          "output_type": "display_data",
          "data": {
            "text/plain": [
              "2.9976021664879227e-15"
            ]
          },
          "metadata": {}
        },
        {
          "output_type": "display_data",
          "data": {
            "text/plain": [
              "1.7763568394002505e-15"
            ]
          },
          "metadata": {}
        },
        {
          "output_type": "display_data",
          "data": {
            "text/plain": [
              "7.105427357601002e-15"
            ]
          },
          "metadata": {}
        },
        {
          "output_type": "display_data",
          "data": {
            "text/plain": [
              "7.993605777301127e-15"
            ]
          },
          "metadata": {}
        },
        {
          "output_type": "display_data",
          "data": {
            "text/plain": [
              "2.6645352591003757e-15"
            ]
          },
          "metadata": {}
        },
        {
          "output_type": "display_data",
          "data": {
            "text/plain": [
              "4.440892098500626e-15"
            ]
          },
          "metadata": {}
        },
        {
          "output_type": "display_data",
          "data": {
            "text/plain": [
              "3.9968028886505635e-15"
            ]
          },
          "metadata": {}
        },
        {
          "output_type": "display_data",
          "data": {
            "text/plain": [
              "1.5987211554602254e-14"
            ]
          },
          "metadata": {}
        },
        {
          "output_type": "display_data",
          "data": {
            "text/plain": [
              "4.218847493575595e-15"
            ]
          },
          "metadata": {}
        },
        {
          "output_type": "display_data",
          "data": {
            "text/plain": [
              "1.7763568394002505e-14"
            ]
          },
          "metadata": {}
        },
        {
          "output_type": "display_data",
          "data": {
            "text/plain": [
              "3.552713678800501e-15"
            ]
          },
          "metadata": {}
        },
        {
          "output_type": "display_data",
          "data": {
            "text/plain": [
              "7.105427357601002e-15"
            ]
          },
          "metadata": {}
        },
        {
          "output_type": "display_data",
          "data": {
            "text/plain": [
              "7.993605777301127e-15"
            ]
          },
          "metadata": {}
        },
        {
          "output_type": "display_data",
          "data": {
            "text/plain": [
              "6.661338147750939e-15"
            ]
          },
          "metadata": {}
        },
        {
          "output_type": "display_data",
          "data": {
            "text/plain": [
              "4.440892098500626e-15"
            ]
          },
          "metadata": {}
        },
        {
          "output_type": "display_data",
          "data": {
            "text/plain": [
              "1.0658141036401503e-14"
            ]
          },
          "metadata": {}
        },
        {
          "output_type": "display_data",
          "data": {
            "text/plain": [
              "1.0658141036401503e-14"
            ]
          },
          "metadata": {}
        },
        {
          "output_type": "display_data",
          "data": {
            "text/plain": [
              "9.769962616701378e-15"
            ]
          },
          "metadata": {}
        },
        {
          "output_type": "display_data",
          "data": {
            "text/plain": [
              "2.1316282072803006e-14"
            ]
          },
          "metadata": {}
        },
        {
          "output_type": "display_data",
          "data": {
            "text/plain": [
              "1.0658141036401503e-14"
            ]
          },
          "metadata": {}
        },
        {
          "output_type": "display_data",
          "data": {
            "text/plain": [
              "1.5987211554602254e-14"
            ]
          },
          "metadata": {}
        },
        {
          "output_type": "display_data",
          "data": {
            "text/plain": [
              "1.2434497875801753e-14"
            ]
          },
          "metadata": {}
        },
        {
          "output_type": "display_data",
          "data": {
            "text/plain": [
              "6.217248937900877e-15"
            ]
          },
          "metadata": {}
        },
        {
          "output_type": "display_data",
          "data": {
            "text/plain": [
              "9.325873406851315e-15"
            ]
          },
          "metadata": {}
        },
        {
          "output_type": "display_data",
          "data": {
            "text/plain": [
              "1.4210854715202004e-14"
            ]
          },
          "metadata": {}
        }
      ]
    },
    {
      "cell_type": "markdown",
      "source": [
        "$\\newcommand{\\fk}{\\mathfrak{k}}$\n",
        "$\\newcommand{\\fp}{\\mathfrak{p}}$\n",
        "# Comparing Kobayashi-Nomizu II, proposition 3.4 and our formula for curvature, section 7.2\n",
        "* Kobayashi Nomizu, \n",
        "$$KN = \\frac{1}{4}[A[B,C]_{\\fp}]_{\\fp}-\\frac{1}{4}[B[A,C]_{\\fp}]_{\\fp}\n",
        "-\\frac{1}{2}[[A,B]_{\\fp}C]_{\\fp} -[[A,B]_{\\fk}C]\\\\\n",
        "$$\n",
        "* Since $\\fk, \\fp]\\subset\\fp$: $[[A,B]_{\\fk}C] = [[A,B]_{\\fk}C]_{\\fp}$\n",
        "$$KN = \\frac{1}{4}[A[B,C]_{\\fp}]_{\\fp}-\\frac{1}{4}[B[A,C]_{\\fp}]_{\\fp}\n",
        "-\\frac{1}{2}[[A,B]_{\\fp}C]_{\\fp} -\\frac{1}{2}[[A,B]_{\\fk}C]_{\\fp}\n",
        "-\\frac{1}{2}[[A,B]_{\\fk}C]_{\\fp}\\\\\n",
        "= \\frac{1}{4}[A[B,C]]_{\\fp} - \\frac{1}{4}[A[B,C]_{\\fk}]_{\\fp}\n",
        "-\\frac{1}{4}[B[A,C]]_{\\fp} +\\frac{1}{4}[B[A,C]_{\\fk}]_{\\fp}\n",
        "-\\frac{1}{2}[[A,B]C]_{\\fp} \n",
        "-\\frac{1}{2}[[A,B]_{\\fk}C]_{\\fp}\n",
        "$$\n",
        "* Using the Jacobi's identity and $\\fk, \\fp]\\subset\\fp$ again\n",
        "$$KN = - \\frac{1}{4}[A[B,C]_{\\fk}]\n",
        " +\\frac{1}{4}[B[A,C]_{\\fk}]\n",
        "-\\frac{1}{4}[[A,B]C]_{\\fp} \n",
        "-\\frac{1}{2}[[A,B]_{\\fk}C]\n",
        "=\\frac{1}{4}\\{[C[A,B]]_{\\fp} -2[[A,B]_{\\fk}C]\n",
        "+ \\frac{1}{4}[[B,C]_{\\fk}A]\n",
        "+\\frac{1}{4}[[C,A]_{\\fk}B]\n",
        "\\}\n",
        "$$\n",
        "QED\n",
        "\n",
        "[2] Kobayashi S., Nomizu, K. Foundations of Differential Geometry\n",
        "ISBN:‎ 978-0471157328, Wiley-Interscience; 1st edition (1996)\n"
      ],
      "metadata": {
        "id": "RbtNWiTyKL1L"
      }
    }
  ]
}