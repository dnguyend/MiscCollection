{
  "nbformat": 4,
  "nbformat_minor": 0,
  "metadata": {
    "colab": {
      "name": "SphereSymplectic.ipynb",
      "provenance": [],
      "authorship_tag": "ABX9TyODp4J7V6vfKYD4XgkdhJ7B",
      "include_colab_link": true
    },
    "kernelspec": {
      "name": "python3",
      "display_name": "Python 3"
    },
    "language_info": {
      "name": "python"
    }
  },
  "cells": [
    {
      "cell_type": "markdown",
      "metadata": {
        "id": "view-in-github",
        "colab_type": "text"
      },
      "source": [
        "<a href=\"https://colab.research.google.com/github/dnguyend/MiscCollection/blob/main/SphereSymplecticIntegrator/colab/SphereSymplectic.ipynb\" target=\"_parent\"><img src=\"https://colab.research.google.com/assets/colab-badge.svg\" alt=\"Open In Colab\"/></a>"
      ]
    },
    {
      "cell_type": "markdown",
      "source": [
        "$\\newcommand{\\R}{\\mathbb{R}}$\n",
        "$\\newcommand{\\cQ}{\\mathcal{Q}}$\n",
        "# Code for a symplectic integrator on the unit sphere $\\cQ=S^{N-1}\\in \\R^N$\n",
        "based on \n",
        "https://link.springer.com/content/pdf/10.1007/s10208-022-09571-x.pdf\n",
        "\n",
        "* Proper implementation of Hamilton vector fields on an embedded manifold and the retraction on $TT^*\\cQ$.\n",
        "\n",
        "* We implement the lift of the retraction to $TT^*\\cQ$ and show numerically it is a symplectomorphism (aka. canonical transformation) by showing the sympletic pairing is preserved.\n",
        "* We implement an integrator based on the paper and show numerically it is also a symplectomorphism, preserving the pairing.\n"
      ],
      "metadata": {
        "id": "4lT_eU7hXVox"
      }
    },
    {
      "cell_type": "markdown",
      "source": [
        "* The result can be viewed online or run in the colab environment. To run you need a gmail account. You can view the results without running.\n",
        "* Code is in Python. We implement basic methods in a class Sphere, representing a sphere $\\cQ = S^{N-1}$ with the retraction. Method randSymp generate a point on $T^*\\cQ$, randTSymp a tangent vector in $TT^*\\cQ$, $RTs0$ is $R^{T^*}$ described in the paper, with the adjustment accounting for the fact that we are dealing with embedded coordinate, for with $\\theta =0$, $InvRTs0$ its inverse and $HamiltonVField$ translates an ambient vector field to a vector field on $T^*\\cQ$.\n"
      ],
      "metadata": {
        "id": "47QSyPKPPCTk"
      }
    },
    {
      "cell_type": "code",
      "execution_count": 1,
      "metadata": {
        "id": "9ccSHL5cXBs5"
      },
      "outputs": [],
      "source": [
        "import numpy as np\n",
        "import numpy.linalg as la\n",
        "from scipy.optimize import fsolve\n",
        "\n",
        "class Sphere(object):\n",
        "    def __init__(self, N):\n",
        "        self.N = N\n",
        "\n",
        "    def rand(self):\n",
        "        Q = np.random.randn(self.N)\n",
        "        return Q/la.norm(Q)\n",
        "\n",
        "    def rand_ambient(self):\n",
        "        return np.random.randn(self.N)\n",
        "\n",
        "    def proj(self, Q, omg):\n",
        "        return omg - Q*np.sum(Q*omg)\n",
        "\n",
        "    def Dproj(self, Q, xi, omg):\n",
        "        return -xi*np.sum(Q*omg) - Q*np.sum(xi*omg)\n",
        "\n",
        "    def randvec(self, Q):\n",
        "        \"\"\"A random tangent vector at Q\n",
        "        \"\"\"\n",
        "        return self.proj(Q, np.random.randn(self.N))\n",
        "\n",
        "    def randp(self, Q):\n",
        "        \"\"\"A random cotangent vector at Q. In this case it is just a tangent vector\n",
        "        \"\"\"\n",
        "        return self.proj(Q, np.random.randn(self.N))\n",
        "    \n",
        "    def rtr(self, Q, Dq):        \n",
        "        return (Q + Dq) / np.sqrt(1 + np.sum(Dq*Dq))\n",
        "    \n",
        "    def inner2(self, pomg1, pomg2):\n",
        "        return np.sum(pomg1[0]*pomg2[0]) + np.sum(pomg1[1]*pomg2[1])\n",
        "                    \n",
        "    def randSymp(self):\n",
        "        \"\"\"random element of T^*M\n",
        "        \"\"\"\n",
        "        Q = self.rand()\n",
        "        P = self.randp(Q)\n",
        "        return Q, P\n",
        "\n",
        "    def randTSymp(self, Q, P):\n",
        "        \"\"\"random element of T_{Q,P}T^*M\n",
        "        \"\"\"\n",
        "        Dq = self.randvec(Q)\n",
        "        tp = self.randp(Q)\n",
        "        return Dq, tp - Q*np.sum(Dq*P)\n",
        "\n",
        "    def RTs0(self, Q, P, Dq, Dp):\n",
        "        \"\"\"discretization on T*M with $\\theta = 0$\n",
        "        \"\"\"\n",
        "        Q0 = Q\n",
        "        Q1 = self.rtr(Q, Dq)\n",
        "        P0 = np.sum(Dq*P)*Dq + P - Q*np.sum(Dq*P) - Dp\n",
        "        P1 = np.sqrt(1 + np.sum(Dq*Dq))*(P - Q*np.sum(Dq*P))\n",
        "        return Q0, P0, Q1, P1\n",
        "\n",
        "    def InvRTs0(self, Q0, P0, Q1, P1):\n",
        "        \"\"\"This one is used in the integrator\n",
        "        \"\"\"\n",
        "        Qh = Q0\n",
        "        Dq = Q1/np.sum(Q0*Q1) - Q0\n",
        "        Ph = np.sum(Q0*Q1)*(P1 - Q0*np.sum(Q0*P1))\n",
        "        Dpp = -np.sum(Q0*P1)*Q1 +\\\n",
        "            np.sum(Q0*Q1)*P1 - P0 \\\n",
        "            + Q0*np.sum(Q0*Q1)*np.sum(Q0*P1)\n",
        "        return Qh, Ph, Dq, Dpp\n",
        "\n",
        "    def HamiltonVField(self, Q, P, egradq, egradp):\n",
        "        \"\"\"Hamilton vector field. egradq and egradp form the ambient gradient\n",
        "        of the Hamiltonian H.\n",
        "        \"\"\"\n",
        "        Dq = self.proj(Q, egradp)\n",
        "        Dp = - self.proj(Q, egradq) +  P*np.sum(Q*egradp) - Q*np.sum(P*egradp)\n",
        "        return Dq, Dp\n"
      ]
    },
    {
      "cell_type": "markdown",
      "source": [
        "Do various sanity check. Confirming for example the randomly generate tangent/cotangent vectors satisfying the constrained of the bundles."
      ],
      "metadata": {
        "id": "15Rwm7mwOJl8"
      }
    },
    {
      "cell_type": "code",
      "source": [
        "N = 5\n",
        "Sp = Sphere(N)\n",
        "Q = Sp.rand()\n",
        "print(np.sum(Q*Q))\n",
        "P = Sp.randp(Q)\n",
        "V = Sp.randvec(Q)\n",
        "print(np.sum(Q*P))\n",
        "print(np.sum(Q*V))\n",
        "omg = Sp.rand_ambient()\n",
        "print(np.sum(Q*Sp.proj(Q, omg)))\n",
        "Qr = Sp.rtr(Q, V)\n",
        "np.sum(Qr*Qr)\n",
        "Q, P = Sp.randSymp()\n",
        "print(np.sum(Q*Q))\n",
        "print(np.sum(Q*P))\n",
        "Dq, Dp = Sp.randTSymp(Q, P)\n",
        "print(np.sum(Q*Dq))\n",
        "print(np.sum(Dq*P) + np.sum(Q*Dp))\n",
        "Q0, P0, Q1, P1 = Sp.RTs0(Q, P, Dq, Dp)\n",
        "print(np.sum(Q0*Q0))\n",
        "print(Q0-Q)\n",
        "print(np.sum(Q0*P0))\n",
        "print(np.sum(Q1*Q1))\n",
        "print(np.sum(Q1*P1))\n",
        "Qh, Ph, Dqh, Dph = Sp.InvRTs0(Q0, P0, Q1, P1)\n",
        "print(Qh-Q, Ph-P, Dqh-Dq, Dph-Dp)"
      ],
      "metadata": {
        "colab": {
          "base_uri": "https://localhost:8080/"
        },
        "id": "XYV1kLlxOLkb",
        "outputId": "b2eee010-7db8-4e30-9448-e85ab32e5059"
      },
      "execution_count": 2,
      "outputs": [
        {
          "output_type": "stream",
          "name": "stdout",
          "text": [
            "1.0\n",
            "8.326672684688674e-17\n",
            "-1.1102230246251565e-16\n",
            "-2.7755575615628914e-17\n",
            "1.0\n",
            "-2.7755575615628914e-16\n",
            "1.6653345369377348e-16\n",
            "0.0\n",
            "1.0\n",
            "[0. 0. 0. 0. 0.]\n",
            "-1.0408340855860843e-16\n",
            "1.0000000000000002\n",
            "-7.494005416219807e-16\n",
            "[0. 0. 0. 0. 0.] [-4.44089210e-16  2.22044605e-16  1.11022302e-16  4.64905892e-16\n",
            "  2.22044605e-16] [ 6.66133815e-16 -1.11022302e-16 -5.55111512e-17 -1.11022302e-16\n",
            " -5.55111512e-17] [-7.77156117e-16 -4.44089210e-16 -6.66133815e-16 -1.11022302e-15\n",
            "  4.44089210e-16]\n"
          ]
        }
      ]
    },
    {
      "cell_type": "markdown",
      "source": [
        "# Show the map RTs0 is symplectic.\n",
        "Generate random tangent vector to $TT^*\\cQ$ at $(Q, P, Dq, Dp)$. Note the constraints on $Q, P, Dq, Dp$ are:\n",
        "$$Q.Q = 1\\\\\n",
        "Q.P =0\\\\\n",
        "Q.Dq = 0\\\\\n",
        "Dq.P + Q.Dp = 0.\n",
        "$$\n",
        "A tangent vector to $TT^*\\cQ$ is a quaduple $(dQ, dP, dDq, dDp)$ satisfying the derived constraints of the above\n",
        "$$Q.dQ =0\\\\\n",
        "dQ.P + Q.dP = 0\\\\\n",
        "dQ.Dq + Q.dDq =0\\\\\n",
        "dDq.P + Dq.dP+ dQ.Dp + Q.dDp = 0.\n",
        "$$\n",
        "Note that $randvec(Q)$ generates a random tangent vector to the sphere $\\cQ=S^{N-1}$ at $Q\\in\\cQ$. So we can generate random $dQ, dP, dDq$ and $dDp$ by\n",
        "$$dQ = randvec(Q)\\\\\n",
        "dP = randvec(Q) - (dQ.P)Q\\\\\n",
        "dDq = randvec(Q) - (dQ.Dq)Q\\\\\n",
        "dDp = randvec(Q) - (dDq.P + Dq.dP+ dQ.Dp)Q$$\n",
        "The relations are verified as $Q.randvec(Q) = 0$ and $Q.Q = 1$\n",
        "* We generate two random tangent vectors\n",
        "$(dQ0, dP0, dDq0, dDp0)$, $(dQ1, dP1, dDq1, dDp1)$ to $TT^*\\cQ$ at $(Q, P, Dq, Dp)$, compute their symplectic pairing $prodTTs$. Then we compute \n",
        "$diff0 = (RTs0(Q+\\delta dQ0, P+\\delta dP0, Dq+\\delta dDq0, Dp+dDp0)-\n",
        "RTs0(Q, P, Dq, Dp))/dlt$\n",
        "$diff1 = (RTs0(Q+\\delta dQ1, P+\\delta dP1, Dq+\\delta dDq1, Dp+dDp1)-\n",
        "RTs0(Q, P, Dq, Dp))/dlt$\n",
        "which are two tangent vectors of $T^*\\cQ\\times T^*\\cQ$. The pairing between $diff0, diff1$ and the original pairing $prodTTs$ are the same.\n"
      ],
      "metadata": {
        "id": "yFW-pFLCXb5Y"
      }
    },
    {
      "cell_type": "code",
      "source": [
        "# np.random.seed(0)\n",
        "Q, P = Sp.randSymp()\n",
        "Dq, Dp = Sp.randTSymp(Q, P)\n",
        "\n",
        "def randvecTTs(Sp, Q, P, Dq, Dp):\n",
        "  dQ = Sp.randvec(Q)\n",
        "  dP = Sp.randvec(Q) - np.sum(dQ*P)*Q\n",
        "  dDq = Sp.randvec(Q) - np.sum(dQ*Dq)*Q\n",
        "  dDp = Sp.randvec(Q) - (np.sum(dDq*P) + np.sum(Dq*dP) + np.sum(dQ*Dp))*Q\n",
        "  return dQ, dP, dDq, dDp\n",
        "dQ0, dP0, dDq0, dDp0 = randvecTTs(Sp, Q, P, Dq, Dp)\n",
        "dQ1, dP1, dDq1, dDp1 = randvecTTs(Sp, Q, P, Dq, Dp)\n",
        "\n",
        "dlt = 1e-7\n",
        "diff0 = (np.concatenate(Sp.RTs0(Q+dlt*dQ0, P+dlt*dP0, Dq + dlt*dDq0, Dp + dlt*dDp0)) -\n",
        "      np.concatenate(Sp.RTs0(Q, P, Dq, Dp)))/dlt\n",
        "diff1 = (np.concatenate(Sp.RTs0(Q+dlt*dQ1, P+dlt*dP1, Dq + dlt*dDq1, Dp + dlt*dDp1)) -\n",
        "      np.concatenate(Sp.RTs0(Q, P, Dq, Dp)))/dlt\n",
        "\n",
        "prodTTs = np.sum(dQ1*dDp0) + np.sum(dDq1*dP0) -\\\n",
        "      np.sum(dQ0*dDp1) - np.sum(dDq0*dP1)\n",
        "\n",
        "prodTstimesTs = -np.sum(diff0[N:2*N]*diff1[:N]) + np.sum(diff0[:N]*diff1[N:2*N]) +\\\n",
        "      np.sum(diff0[3*N:]*diff1[2*N:3*N]) - np.sum(diff0[2*N:3*N]*diff1[3*N:])\n",
        "\n",
        "display(\"pairing in TT^*Q =%f, in T^*Q times T^*Q=%f\" % (prodTTs, prodTstimesTs))\n"
      ],
      "metadata": {
        "colab": {
          "base_uri": "https://localhost:8080/",
          "height": 37
        },
        "id": "PMkCcTbWXICr",
        "outputId": "a2296140-975b-4b08-ff2c-5df1be3b7bc6"
      },
      "execution_count": 3,
      "outputs": [
        {
          "output_type": "display_data",
          "data": {
            "text/plain": [
              "'pairing in TT^*Q =4.510759, in T^*Q times T^*Q=4.510752'"
            ],
            "application/vnd.google.colaboratory.intrinsic+json": {
              "type": "string"
            }
          },
          "metadata": {}
        }
      ]
    },
    {
      "cell_type": "markdown",
      "source": [
        "# The Symplectic integrator.\n",
        "The function HamiltonVField translates the Euclidean gradient $H_q, H_p$ to vector fields $X^H_q, X^H_p$ on $TT^*Q$.\n",
        "\n",
        "With $\\hat{Q} = Q_0$, and $\\Delta_q = h X^H_q, \\Delta_p = h X^H_p$, \n",
        "\n",
        "we solve for $\\hat{P}\\in T^*_{Q_0}Q$ satisfying the equation\n",
        "$$P_0 = (\\Delta_q.\\hat{P})\\Delta_q + \\hat{P} - (\\Delta_q. \\hat{P})\\hat{Q} -\\Delta_p \n",
        "$$\n",
        "Then $Q_1, P_1$ are computed from the formula for $R^{T^*}$."
      ],
      "metadata": {
        "id": "6wQzvi0GYepB"
      }
    },
    {
      "cell_type": "code",
      "source": [
        "from scipy.optimize import fsolve\n",
        "\n",
        "def calc_p(Sp, Q0, P0, H_q, H_p, h):\n",
        "    vv0 = np.concatenate([P0, np.zeros(1)])\n",
        "\n",
        "    def F(vv):\n",
        "      hatp = vv[:-1]\n",
        "      lbd = vv[-1]\n",
        "      Dq, Dp = Sp.HamiltonVField(\n",
        "          Q0, hatp, H_q(Q0, hatp), H_p(Q0, hatp))\n",
        "      # _, ret2, _, _ = Sp.RTs(Q0, hatp, h*DDq, h*DDp, 0.)\n",
        "      ret2 = h*h*np.sum(Dq*hatp)*Dq + hatp - h*Q0*np.sum(Dq*hatp) - h*Dp\n",
        "      # print(ret2)\n",
        "      return np.concatenate(\n",
        "          [ret2 - P0 - Q0*lbd, np.array([np.sum(Q0*vv[:-1])])])\n",
        "\n",
        "    ret = fsolve(F, vv0)\n",
        "    return ret[:-1]\n",
        "\n",
        "def calc_p0(Sp, qq, pp, H_q, H_p, h):\n",
        "    vv0 = np.concatenate([pp, np.zeros(1)])\n",
        "\n",
        "    def F(vv):\n",
        "      hatp = vv[:-1]\n",
        "      lbd = vv[-1]\n",
        "\n",
        "      DDq, DDp = Sp.HamiltonVField(\n",
        "          qq, hatp, H_q(qq, hatp), H_p(qq, hatp))\n",
        "      _, ret2, _, _ = Sp.RTs0(qq, hatp, h*DDq, h*DDp)\n",
        "      # print(ret2)\n",
        "      return np.concatenate(\n",
        "          [ret2 - pp - qq*lbd, np.array([np.sum(qq*vv[:-1])])])\n",
        "\n",
        "    ret = fsolve(F, vv0)\n",
        "    return ret[:-1]\n",
        "\n",
        "\n",
        "def integrator(Sp, Qk, Pk, H_q, H_p, h):\n",
        "    hatp = calc_p(Sp, Qk, Pk, H_q, H_p, h)\n",
        "    Hpv = H_p(Qk, hatp)\n",
        "    Hqv = H_q(Qk, hatp)\n",
        "\n",
        "    Dq, Dp = Sp.HamiltonVField(Qk, hatp, Hqv, Hpv)\n",
        "    Qold, Pold, Qk1, Pk1 = Sp.RTs0(Qk, hatp, h*Dq, h*Dp)\n",
        "    # Qk1 = Sp.rtr(Qk, h*Dq)\n",
        "    # Pk1 = np.sqrt(1 + h*h*np.sum(Dq*Dq))*(hatp - h*Qk*np.sum(Dq*hatp))\n",
        "    return Qk1, Pk1"
      ],
      "metadata": {
        "id": "1UAcGeqCowj-"
      },
      "execution_count": 4,
      "outputs": []
    },
    {
      "cell_type": "markdown",
      "source": [
        "# Test the integrator is symplectic with several Hamiltonian functions.\n",
        "We show the integrator is symplectic, preserving the symplectic pairing"
      ],
      "metadata": {
        "id": "aDNNPBceo8zn"
      }
    },
    {
      "cell_type": "code",
      "source": [
        "A = np.random.randn(N, N)\n",
        "A = A@A.T\n",
        "\n",
        "def U(Q):\n",
        "  return 0.5*np.sum(Q*(A@Q))\n",
        "\n",
        "def Uq(Q):\n",
        "  return A@Q\n",
        "\n",
        "def H1(Q, P):\n",
        "  return 0.5*np.sum(P*P) + U(Q)\n",
        "\n",
        "def H_q1(Q, P):\n",
        "  return Uq(Q)\n",
        "\n",
        "def H_p1(Q, P):\n",
        "  return P\n",
        "\n",
        "Q0, P0 = Sp.randSymp()\n",
        "Dx1, Dp1 = Sp.randTSymp(Q0, P0)\n",
        "Dx2, Dp2 = Sp.randTSymp(Q0, P0)\n",
        "\n",
        "dlt = 1e-7\n",
        "h = 1e-2\n",
        "Qnew0, Pnew0 = integrator(Sp, Q0, P0, H_q1, H_p1, h)\n",
        "Qnew1, Pnew1 = integrator(Sp, Q0+dlt*Dx1, P0+dlt*Dp1, H_q1, H_p1, h)\n",
        "Qnew2, Pnew2 = integrator(Sp, Q0+dlt*Dx2, P0+dlt*Dp2, H_q1, H_p1, h)\n",
        "\n",
        "diff1 = (np.concatenate([Qnew1, Pnew1]) - np.concatenate([Qnew0, Pnew0]))/dlt\n",
        "diff2 = (np.concatenate([Qnew2, Pnew2]) - np.concatenate([Qnew0, Pnew0]))/dlt\n",
        "Pair0 = np.sum(Dx1*Dp2) - np.sum(Dx2*Dp1)\n",
        "PairNew = np.sum(diff1[:N]*diff2[N:]) - np.sum(diff2[:N]*diff1[N:])\n",
        "print(\"Original pairing = %f, transformed pairing = %f\" % (Pair0, PairNew))\n"
      ],
      "metadata": {
        "colab": {
          "base_uri": "https://localhost:8080/"
        },
        "id": "zfbSr7cv1HMR",
        "outputId": "6bcf3336-c342-4a6b-cc2f-9fcebb3d19be"
      },
      "execution_count": 5,
      "outputs": [
        {
          "output_type": "stream",
          "name": "stdout",
          "text": [
            "Original pairing = -2.302279, transformed pairing = -2.302279\n"
          ]
        }
      ]
    },
    {
      "cell_type": "markdown",
      "source": [
        "Another Hamitonian function with more complicated kinetic"
      ],
      "metadata": {
        "id": "tp_taigmWJl5"
      }
    },
    {
      "cell_type": "code",
      "source": [
        "# np.random.seed(0)\n",
        "A = np.random.randn(N, N)\n",
        "A = A@A.T\n",
        "\n",
        "def U(Q):\n",
        "  return 0.5*np.sum(Q*(A@Q))\n",
        "\n",
        "def Uq(Q):\n",
        "  return A@Q\n",
        "\n",
        "def H2(Q, P):\n",
        "  return 0.5*np.sum(P*P*P*P) + 0.5*np.sum(P*Q*Q*P) + U(Q)\n",
        "\n",
        "def H_q2(Q, P):\n",
        "  return Uq(Q) + P*P*Q\n",
        "\n",
        "def H_p2(Q, P):\n",
        "  return 2*P*P*P + P*Q*Q\n",
        "\n",
        "Q0, P0 = Sp.randSymp()\n",
        "Dx1, Dp1 = Sp.randTSymp(Q0, P0)\n",
        "Dx2, Dp2 = Sp.randTSymp(Q0, P0)\n",
        "\n",
        "dlt = 1e-7\n",
        "h = 1e-2\n",
        "Qnew0, Pnew0 = integrator(Sp, Q0, P0, H_q2, H_p2, h)\n",
        "Qnew1, Pnew1 = integrator(Sp, Q0+dlt*Dx1, P0+dlt*Dp1, H_q2, H_p2, h)\n",
        "Qnew2, Pnew2 = integrator(Sp, Q0+dlt*Dx2, P0+dlt*Dp2, H_q2, H_p2, h)\n",
        "\n",
        "diff1 = (np.concatenate([Qnew1, Pnew1]) - np.concatenate([Qnew0, Pnew0]))/dlt\n",
        "diff2 = (np.concatenate([Qnew2, Pnew2]) - np.concatenate([Qnew0, Pnew0]))/dlt\n",
        "Pair0 = np.sum(Dx1*Dp2) - np.sum(Dx2*Dp1)\n",
        "PairNew = np.sum(diff1[:N]*diff2[N:]) - np.sum(diff2[:N]*diff1[N:])\n",
        "print(\"Original pairing = %f, transformed pairing = %f\" % (Pair0, PairNew))\n"
      ],
      "metadata": {
        "colab": {
          "base_uri": "https://localhost:8080/"
        },
        "id": "wuPn0c91VFGj",
        "outputId": "db70f6e0-7a26-4975-f658-b7d55069c837"
      },
      "execution_count": 6,
      "outputs": [
        {
          "output_type": "stream",
          "name": "stdout",
          "text": [
            "Original pairing = -0.031209, transformed pairing = -0.031209\n"
          ]
        }
      ]
    }
  ]
}